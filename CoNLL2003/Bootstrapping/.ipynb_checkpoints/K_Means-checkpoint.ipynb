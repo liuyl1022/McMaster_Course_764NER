{
 "cells": [
  {
   "cell_type": "code",
   "execution_count": 1,
   "metadata": {
    "collapsed": false
   },
   "outputs": [],
   "source": [
    "from gensim.models import word2vec\n",
    "import numpy as np\n",
    "import pandas as pd\n",
    "from sklearn.cluster import KMeans"
   ]
  },
  {
   "cell_type": "code",
   "execution_count": 2,
   "metadata": {
    "collapsed": true
   },
   "outputs": [],
   "source": [
    "# transfor words into vector by word2vec and return model\n",
    "def word_to_vec(filename,dim):\n",
    "    file = word2vec.Text8Corpus(filename)\n",
    "    nDim = dim\n",
    "    model = word2vec.Word2Vec(file,size = nDim, min_count=0)\n",
    "    \n",
    "    return model"
   ]
  },
  {
   "cell_type": "code",
   "execution_count": 3,
   "metadata": {
    "collapsed": true
   },
   "outputs": [],
   "source": [
    "# get word vector by model and word file\n",
    "def modelToVector(model, filename):\n",
    " \n",
    "    vec = []\n",
    "    f = open(filename, 'r')\n",
    "    lines = f.readlines()\n",
    "    f.close()\n",
    "    \n",
    "    for i in lines:\n",
    "        x = i.strip('\\n')\n",
    "        # model[x] will give the vector of word x \n",
    "        array = model[x]\n",
    "        vec.append(array)\n",
    "        \n",
    "    vec_array = np.array(vec)\n",
    "    return vec_array"
   ]
  },
  {
   "cell_type": "code",
   "execution_count": 4,
   "metadata": {
    "collapsed": true
   },
   "outputs": [],
   "source": [
    "def process(filename, dim):\n",
    "    model = word_to_vec(filename,dim)\n",
    "    vector = modelToVector(model, filename)\n",
    "    return vector"
   ]
  },
  {
   "cell_type": "code",
   "execution_count": 6,
   "metadata": {
    "collapsed": false
   },
   "outputs": [
    {
     "name": "stderr",
     "output_type": "stream",
     "text": [
      "/Users/apple/anaconda/envs/py36/lib/python3.6/site-packages/ipykernel_launcher.py:12: DeprecationWarning: Call to deprecated `__getitem__` (Method will be removed in 4.0.0, use self.wv.__getitem__() instead).\n",
      "  if sys.path[0] == '':\n"
     ]
    }
   ],
   "source": [
    "X_train = process('DOCSTART-train.txt',10)\n",
    "# we can get vector of each word in training file"
   ]
  },
  {
   "cell_type": "markdown",
   "metadata": {},
   "source": [
    "## K Means"
   ]
  },
  {
   "cell_type": "code",
   "execution_count": 9,
   "metadata": {
    "collapsed": true
   },
   "outputs": [],
   "source": [
    "#array is the input of KMeans(Vectors), label_class is how many types of labe\n",
    "def K_means(array,label_class):\n",
    "    estimator = KMeans(n_clusters=label_class)\n",
    "    estimator.fit(array)\n",
    "    label_pred = estimator.labels_\n",
    "    KMeansLabel = pd.DataFrame(label_pred)\n",
    "    \n",
    "    return KMeansLabel"
   ]
  },
  {
   "cell_type": "code",
   "execution_count": 10,
   "metadata": {
    "collapsed": false
   },
   "outputs": [],
   "source": [
    "KMeansLabelfile = K_means(X_train,5)"
   ]
  },
  {
   "cell_type": "code",
   "execution_count": 11,
   "metadata": {
    "collapsed": true
   },
   "outputs": [],
   "source": [
    "#save label after K_means as txt file\n",
    "KMeansLabelfile.to_csv('KMeansLabel.txt',header = None,index = None)"
   ]
  },
  {
   "cell_type": "code",
   "execution_count": null,
   "metadata": {
    "collapsed": true
   },
   "outputs": [],
   "source": []
  }
 ],
 "metadata": {
  "kernelspec": {
   "display_name": "Python 3",
   "language": "python",
   "name": "python3"
  },
  "language_info": {
   "codemirror_mode": {
    "name": "ipython",
    "version": 3
   },
   "file_extension": ".py",
   "mimetype": "text/x-python",
   "name": "python",
   "nbconvert_exporter": "python",
   "pygments_lexer": "ipython3",
   "version": "3.6.2"
  }
 },
 "nbformat": 4,
 "nbformat_minor": 2
}
