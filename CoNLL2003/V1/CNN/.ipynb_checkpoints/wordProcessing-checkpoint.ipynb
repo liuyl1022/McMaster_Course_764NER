{
 "cells": [
  {
   "cell_type": "code",
   "execution_count": null,
   "metadata": {
    "collapsed": true
   },
   "outputs": [],
   "source": [
    "#delete all the blank of each words\n",
    "def delete_blank(file):\n",
    "\n",
    "    f_in = open(file,'r')\n",
    "    sourceInLines = f_in.readlines()\n",
    "    f_in.close()\n",
    "    \n",
    "    new = []\n",
    "    \n",
    "    for eachline in sourceInLines:\n",
    "        temp = eachline.strip(' ')\n",
    "        new.append(temp)\n",
    "    \n",
    "    f_out = open(file,'w')\n",
    "    \n",
    "    for eachline in new:\n",
    "        f_out.write(eachline)\n",
    "    f_out.close()"
   ]
  },
  {
   "cell_type": "code",
   "execution_count": null,
   "metadata": {
    "collapsed": false
   },
   "outputs": [],
   "source": [
    "delete_blank('O-train.txt')\n",
    "delete_blank('DOCSTART-test.txt')\n",
    "delete_blank('DOCSTART-train.txt')\n",
    "delete_blank('O-test.txt')"
   ]
  },
  {
   "cell_type": "code",
   "execution_count": null,
   "metadata": {
    "collapsed": true
   },
   "outputs": [],
   "source": [
    "#For words: delete blank line\n",
    "#For labels: delete NaN\n",
    "\n",
    "def delete_blank_line_NaN(file,type):\n",
    "    \n",
    "#     :param type: 0/1\n",
    "#                  0: words\n",
    "#                  1: labels\n",
    "\n",
    "    new = []\n",
    "    f = open(file, 'r')\n",
    "    lines = f.readlines()\n",
    "    f.close()\n",
    "    \n",
    "    y = 0\n",
    "    for i in lines:\n",
    "        y=y+1\n",
    "        x = i.strip('\\n')\n",
    "\n",
    "        if type == 0:\n",
    "\n",
    "            if x == '' :\n",
    "                pass\n",
    "\n",
    "            else:\n",
    "                new.append(x)\n",
    "\n",
    "        if type == 1:\n",
    "\n",
    "            if x == 'NaN' :\n",
    "                pass\n",
    "\n",
    "            else:\n",
    "\n",
    "                new.append(x)\n",
    "\n",
    "\n",
    "    f_out = open(file,'w')\n",
    "    \n",
    "    for eachline in new:\n",
    "        f_out.write(eachline)\n",
    "        f_out.write('\\n')\n",
    "    f_out.close()"
   ]
  },
  {
   "cell_type": "code",
   "execution_count": null,
   "metadata": {
    "collapsed": false
   },
   "outputs": [],
   "source": [
    "delete_blank_line_NaN('O-train.txt',1)"
   ]
  },
  {
   "cell_type": "code",
   "execution_count": null,
   "metadata": {
    "collapsed": true
   },
   "outputs": [],
   "source": [
    "delete_blank_line_NaN('DOCSTART-train.txt',0)"
   ]
  },
  {
   "cell_type": "code",
   "execution_count": null,
   "metadata": {
    "collapsed": true
   },
   "outputs": [],
   "source": [
    "delete_blank_line_NaN('O-test.txt',1)"
   ]
  },
  {
   "cell_type": "code",
   "execution_count": null,
   "metadata": {
    "collapsed": true
   },
   "outputs": [],
   "source": [
    "delete_blank_line_NaN('DOCSTART-test.txt',0)"
   ]
  },
  {
   "cell_type": "code",
   "execution_count": null,
   "metadata": {
    "collapsed": true
   },
   "outputs": [],
   "source": [
    "#Manually change the label into digits"
   ]
  }
 ],
 "metadata": {
  "kernelspec": {
   "display_name": "Python 3",
   "language": "python",
   "name": "python3"
  },
  "language_info": {
   "codemirror_mode": {
    "name": "ipython",
    "version": 3
   },
   "file_extension": ".py",
   "mimetype": "text/x-python",
   "name": "python",
   "nbconvert_exporter": "python",
   "pygments_lexer": "ipython3",
   "version": "3.6.2"
  }
 },
 "nbformat": 4,
 "nbformat_minor": 2
}
