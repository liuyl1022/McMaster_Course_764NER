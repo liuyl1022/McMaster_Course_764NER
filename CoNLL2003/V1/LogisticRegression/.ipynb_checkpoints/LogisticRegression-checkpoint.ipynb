{
 "cells": [
  {
   "cell_type": "code",
   "execution_count": 1,
   "metadata": {
    "collapsed": true
   },
   "outputs": [],
   "source": [
    "import math\n",
    "import pandas as pd\n",
    "import numpy as np\n",
    "from gensim.models import word2vec\n",
    "from sklearn.metrics import accuracy_score\n",
    "import random\n",
    "import time\n",
    "from sklearn.metrics import classification_report"
   ]
  },
  {
   "cell_type": "code",
   "execution_count": 2,
   "metadata": {
    "collapsed": false
   },
   "outputs": [],
   "source": [
    "model_DOC_test = word2vec.Word2Vec.load('DOC-test_model')\n",
    "model_DOC_train = word2vec.Word2Vec.load('DOC-train_model')"
   ]
  },
  {
   "cell_type": "code",
   "execution_count": 3,
   "metadata": {
    "collapsed": true
   },
   "outputs": [],
   "source": [
    "def modelToVector(model, file):\n",
    " \n",
    "    new = []\n",
    "    f = open(file, 'r')\n",
    "    lines = f.readlines()\n",
    "    f.close()\n",
    "    \n",
    "    for i in lines:\n",
    "        x = i.strip('\\n')\n",
    "        array = model[x]\n",
    "        new.append(array)\n",
    "\n",
    "    return new"
   ]
  },
  {
   "cell_type": "code",
   "execution_count": 4,
   "metadata": {
    "collapsed": false
   },
   "outputs": [
    {
     "name": "stderr",
     "output_type": "stream",
     "text": [
      "/Users/apple/anaconda/envs/py36/lib/python3.6/site-packages/ipykernel_launcher.py:10: DeprecationWarning: Call to deprecated `__getitem__` (Method will be removed in 4.0.0, use self.wv.__getitem__() instead).\n",
      "  # Remove the CWD from sys.path while we load stuff.\n"
     ]
    }
   ],
   "source": [
    "Vector_DOC_test = modelToVector(model_DOC_test,'DOCSTART-test.txt')\n",
    "Vector_DOC_train = modelToVector(model_DOC_train,'DOCSTART-train.txt')\n",
    "array_DOC_test = np.array(Vector_DOC_test)\n",
    "array_DOC_train = np.array(Vector_DOC_train)"
   ]
  },
  {
   "cell_type": "code",
   "execution_count": 5,
   "metadata": {
    "collapsed": true
   },
   "outputs": [],
   "source": [
    "O_test = pd.read_table('O-test.txt',header=None)\n",
    "O_test = O_test.values\n",
    "int_O_test = O_test.astype(np.int32)\n",
    "O_train = pd.read_table('O-train.txt',header=None)\n",
    "O_train = O_train.values\n",
    "int_O_train = O_train.astype(np.int32)"
   ]
  },
  {
   "cell_type": "code",
   "execution_count": 6,
   "metadata": {
    "collapsed": false
   },
   "outputs": [
    {
     "data": {
      "text/plain": [
       "(97252, 64)"
      ]
     },
     "execution_count": 6,
     "metadata": {},
     "output_type": "execute_result"
    }
   ],
   "source": [
    "array_DOC_test.shape"
   ]
  },
  {
   "cell_type": "code",
   "execution_count": 7,
   "metadata": {
    "collapsed": false
   },
   "outputs": [
    {
     "data": {
      "text/plain": [
       "(202388, 64)"
      ]
     },
     "execution_count": 7,
     "metadata": {},
     "output_type": "execute_result"
    }
   ],
   "source": [
    "array_DOC_train.shape"
   ]
  },
  {
   "cell_type": "code",
   "execution_count": 8,
   "metadata": {
    "collapsed": false
   },
   "outputs": [
    {
     "data": {
      "text/plain": [
       "(97252, 1)"
      ]
     },
     "execution_count": 8,
     "metadata": {},
     "output_type": "execute_result"
    }
   ],
   "source": [
    "int_O_test.shape"
   ]
  },
  {
   "cell_type": "code",
   "execution_count": 9,
   "metadata": {
    "collapsed": false
   },
   "outputs": [
    {
     "data": {
      "text/plain": [
       "(202388, 1)"
      ]
     },
     "execution_count": 9,
     "metadata": {},
     "output_type": "execute_result"
    }
   ],
   "source": [
    "int_O_train.shape"
   ]
  },
  {
   "cell_type": "code",
   "execution_count": 10,
   "metadata": {
    "collapsed": false
   },
   "outputs": [
    {
     "data": {
      "text/plain": [
       "array([[0],\n",
       "       [0],\n",
       "       [1],\n",
       "       [0],\n",
       "       [0]], dtype=int32)"
      ]
     },
     "execution_count": 10,
     "metadata": {},
     "output_type": "execute_result"
    }
   ],
   "source": [
    "int_O_test[0:5]"
   ]
  },
  {
   "cell_type": "code",
   "execution_count": 11,
   "metadata": {
    "collapsed": true
   },
   "outputs": [],
   "source": [
    "list_O_test = int_O_test.tolist()"
   ]
  },
  {
   "cell_type": "code",
   "execution_count": 12,
   "metadata": {
    "collapsed": false
   },
   "outputs": [
    {
     "data": {
      "text/plain": [
       "[[0], [0], [1], [0], [0]]"
      ]
     },
     "execution_count": 12,
     "metadata": {},
     "output_type": "execute_result"
    }
   ],
   "source": [
    "list_O_test[0:5]"
   ]
  },
  {
   "cell_type": "code",
   "execution_count": 13,
   "metadata": {
    "collapsed": true
   },
   "outputs": [],
   "source": [
    "list_O_train = int_O_train.tolist()"
   ]
  },
  {
   "cell_type": "code",
   "execution_count": 14,
   "metadata": {
    "collapsed": false
   },
   "outputs": [],
   "source": [
    "iterList_O_test = sum(list_O_test,[])"
   ]
  },
  {
   "cell_type": "code",
   "execution_count": 15,
   "metadata": {
    "collapsed": false
   },
   "outputs": [
    {
     "data": {
      "text/plain": [
       "[0, 0, 1, 0, 0]"
      ]
     },
     "execution_count": 15,
     "metadata": {},
     "output_type": "execute_result"
    }
   ],
   "source": [
    "iterList_O_test[0:5]"
   ]
  },
  {
   "cell_type": "code",
   "execution_count": 16,
   "metadata": {
    "collapsed": true
   },
   "outputs": [],
   "source": [
    "tuple_O_test = tuple(iterList_O_test)"
   ]
  },
  {
   "cell_type": "code",
   "execution_count": 17,
   "metadata": {
    "collapsed": true
   },
   "outputs": [],
   "source": [
    "iterList_O_train = sum(list_O_train,[])"
   ]
  },
  {
   "cell_type": "code",
   "execution_count": 31,
   "metadata": {
    "collapsed": true
   },
   "outputs": [],
   "source": [
    "# learn from: https://blog.csdn.net/wds2006sdo/article/details/53699778?utm_source=itdadao&utm_medium=referral\n",
    "class Softmax(object):\n",
    "\n",
    "    def __init__(self):\n",
    "        self.learning_step = 0.000001           # 学习速率\n",
    "        self.max_iteration = 50000             # 最大迭代次数\n",
    "        self.weight_lambda = 0.01               # 衰退权重\n",
    "\n",
    "    def cal_e(self,x,l):\n",
    "        '''\n",
    "        计算博客中的公式3\n",
    "        '''\n",
    "\n",
    "        theta_l = self.w[l]\n",
    "        product = np.dot(theta_l,x)\n",
    "\n",
    "        return math.exp(product)\n",
    "\n",
    "    def cal_probability(self,x,j):\n",
    "        '''\n",
    "        计算博客中的公式2\n",
    "        '''\n",
    "\n",
    "        molecule = self.cal_e(x,j)\n",
    "        denominator = sum([self.cal_e(x,i) for i in range(self.k)])\n",
    "\n",
    "        return molecule/denominator\n",
    "\n",
    "\n",
    "    def cal_partial_derivative(self,x,y,j):\n",
    "        '''\n",
    "        计算博客中的公式1\n",
    "        '''\n",
    "\n",
    "        first = int(y==j)                           # 计算示性函数\n",
    "        second = self.cal_probability(x,j)          # 计算后面那个概率\n",
    "\n",
    "        return -x*(first-second) + self.weight_lambda*self.w[j]\n",
    "\n",
    "    def predict_(self, x):\n",
    "        result = np.dot(self.w,x)\n",
    "        row, column = result.shape\n",
    "\n",
    "        # 找最大值所在的列\n",
    "        _positon = np.argmax(result)\n",
    "        m, n = divmod(_positon, column)\n",
    "\n",
    "        return m\n",
    "\n",
    "    def train(self, features, labels):\n",
    "        self.k = len(set(labels))\n",
    "\n",
    "        self.w = np.zeros((self.k,len(features[0])+1))\n",
    "        time = 0\n",
    "\n",
    "        while time < self.max_iteration:\n",
    "            if(time%100 == 0):\n",
    "                print('loop %d' % time)\n",
    "            time += 1\n",
    "            index = random.randint(0, len(labels) - 1)\n",
    "\n",
    "            x = features[index]\n",
    "            y = labels[index]\n",
    "\n",
    "            x = list(x)\n",
    "            x.append(1.0)\n",
    "            x = np.array(x)\n",
    "\n",
    "            derivatives = [self.cal_partial_derivative(x,y,j) for j in range(self.k)]\n",
    "\n",
    "            for j in range(self.k):\n",
    "                self.w[j] -= self.learning_step * derivatives[j]\n",
    "\n",
    "    def predict(self,features):\n",
    "        labels = []\n",
    "        for feature in features:\n",
    "            x = list(feature)\n",
    "            x.append(1)\n",
    "            x = np.matrix(x)\n",
    "            x = np.transpose(x)\n",
    "\n",
    "            labels.append(self.predict_(x))\n",
    "        return labels"
   ]
  },
  {
   "cell_type": "code",
   "execution_count": 32,
   "metadata": {
    "collapsed": false
   },
   "outputs": [
    {
     "name": "stdout",
     "output_type": "stream",
     "text": [
      "Start read data\n",
      "read data cost 3.0994415283203125e-06 second\n",
      "Start training\n",
      "loop 0\n",
      "loop 100\n",
      "loop 200\n",
      "loop 300\n",
      "loop 400\n",
      "loop 500\n",
      "loop 600\n",
      "loop 700\n",
      "loop 800\n",
      "loop 900\n",
      "loop 1000\n",
      "loop 1100\n",
      "loop 1200\n",
      "loop 1300\n",
      "loop 1400\n",
      "loop 1500\n",
      "loop 1600\n",
      "loop 1700\n",
      "loop 1800\n",
      "loop 1900\n",
      "loop 2000\n",
      "loop 2100\n",
      "loop 2200\n",
      "loop 2300\n",
      "loop 2400\n",
      "loop 2500\n",
      "loop 2600\n",
      "loop 2700\n",
      "loop 2800\n",
      "loop 2900\n",
      "loop 3000\n",
      "loop 3100\n",
      "loop 3200\n",
      "loop 3300\n",
      "loop 3400\n",
      "loop 3500\n",
      "loop 3600\n",
      "loop 3700\n",
      "loop 3800\n",
      "loop 3900\n",
      "loop 4000\n",
      "loop 4100\n",
      "loop 4200\n",
      "loop 4300\n",
      "loop 4400\n",
      "loop 4500\n",
      "loop 4600\n",
      "loop 4700\n",
      "loop 4800\n",
      "loop 4900\n",
      "loop 5000\n",
      "loop 5100\n",
      "loop 5200\n",
      "loop 5300\n",
      "loop 5400\n",
      "loop 5500\n",
      "loop 5600\n",
      "loop 5700\n",
      "loop 5800\n",
      "loop 5900\n",
      "loop 6000\n",
      "loop 6100\n",
      "loop 6200\n",
      "loop 6300\n",
      "loop 6400\n",
      "loop 6500\n",
      "loop 6600\n",
      "loop 6700\n",
      "loop 6800\n",
      "loop 6900\n",
      "loop 7000\n",
      "loop 7100\n",
      "loop 7200\n",
      "loop 7300\n",
      "loop 7400\n",
      "loop 7500\n",
      "loop 7600\n",
      "loop 7700\n",
      "loop 7800\n",
      "loop 7900\n",
      "loop 8000\n",
      "loop 8100\n",
      "loop 8200\n",
      "loop 8300\n",
      "loop 8400\n",
      "loop 8500\n",
      "loop 8600\n",
      "loop 8700\n",
      "loop 8800\n",
      "loop 8900\n",
      "loop 9000\n",
      "loop 9100\n",
      "loop 9200\n",
      "loop 9300\n",
      "loop 9400\n",
      "loop 9500\n",
      "loop 9600\n",
      "loop 9700\n",
      "loop 9800\n",
      "loop 9900\n",
      "loop 10000\n",
      "loop 10100\n",
      "loop 10200\n",
      "loop 10300\n",
      "loop 10400\n",
      "loop 10500\n",
      "loop 10600\n",
      "loop 10700\n",
      "loop 10800\n",
      "loop 10900\n",
      "loop 11000\n",
      "loop 11100\n",
      "loop 11200\n",
      "loop 11300\n",
      "loop 11400\n",
      "loop 11500\n",
      "loop 11600\n",
      "loop 11700\n",
      "loop 11800\n",
      "loop 11900\n",
      "loop 12000\n",
      "loop 12100\n",
      "loop 12200\n",
      "loop 12300\n",
      "loop 12400\n",
      "loop 12500\n",
      "loop 12600\n",
      "loop 12700\n",
      "loop 12800\n",
      "loop 12900\n",
      "loop 13000\n",
      "loop 13100\n",
      "loop 13200\n",
      "loop 13300\n",
      "loop 13400\n",
      "loop 13500\n",
      "loop 13600\n",
      "loop 13700\n",
      "loop 13800\n",
      "loop 13900\n",
      "loop 14000\n",
      "loop 14100\n",
      "loop 14200\n",
      "loop 14300\n",
      "loop 14400\n",
      "loop 14500\n",
      "loop 14600\n",
      "loop 14700\n",
      "loop 14800\n",
      "loop 14900\n",
      "loop 15000\n",
      "loop 15100\n",
      "loop 15200\n",
      "loop 15300\n",
      "loop 15400\n",
      "loop 15500\n",
      "loop 15600\n",
      "loop 15700\n",
      "loop 15800\n",
      "loop 15900\n",
      "loop 16000\n",
      "loop 16100\n",
      "loop 16200\n",
      "loop 16300\n",
      "loop 16400\n",
      "loop 16500\n",
      "loop 16600\n",
      "loop 16700\n",
      "loop 16800\n",
      "loop 16900\n",
      "loop 17000\n",
      "loop 17100\n",
      "loop 17200\n",
      "loop 17300\n",
      "loop 17400\n",
      "loop 17500\n",
      "loop 17600\n",
      "loop 17700\n",
      "loop 17800\n",
      "loop 17900\n",
      "loop 18000\n",
      "loop 18100\n",
      "loop 18200\n",
      "loop 18300\n",
      "loop 18400\n",
      "loop 18500\n",
      "loop 18600\n",
      "loop 18700\n",
      "loop 18800\n",
      "loop 18900\n",
      "loop 19000\n",
      "loop 19100\n",
      "loop 19200\n",
      "loop 19300\n",
      "loop 19400\n",
      "loop 19500\n",
      "loop 19600\n",
      "loop 19700\n",
      "loop 19800\n",
      "loop 19900\n",
      "loop 20000\n",
      "loop 20100\n",
      "loop 20200\n",
      "loop 20300\n",
      "loop 20400\n",
      "loop 20500\n",
      "loop 20600\n",
      "loop 20700\n",
      "loop 20800\n",
      "loop 20900\n",
      "loop 21000\n",
      "loop 21100\n",
      "loop 21200\n",
      "loop 21300\n",
      "loop 21400\n",
      "loop 21500\n",
      "loop 21600\n",
      "loop 21700\n",
      "loop 21800\n",
      "loop 21900\n",
      "loop 22000\n",
      "loop 22100\n",
      "loop 22200\n",
      "loop 22300\n",
      "loop 22400\n",
      "loop 22500\n",
      "loop 22600\n",
      "loop 22700\n",
      "loop 22800\n",
      "loop 22900\n",
      "loop 23000\n",
      "loop 23100\n",
      "loop 23200\n",
      "loop 23300\n",
      "loop 23400\n",
      "loop 23500\n",
      "loop 23600\n",
      "loop 23700\n",
      "loop 23800\n",
      "loop 23900\n",
      "loop 24000\n",
      "loop 24100\n",
      "loop 24200\n",
      "loop 24300\n",
      "loop 24400\n",
      "loop 24500\n",
      "loop 24600\n",
      "loop 24700\n",
      "loop 24800\n",
      "loop 24900\n",
      "loop 25000\n",
      "loop 25100\n",
      "loop 25200\n",
      "loop 25300\n",
      "loop 25400\n",
      "loop 25500\n",
      "loop 25600\n",
      "loop 25700\n",
      "loop 25800\n",
      "loop 25900\n",
      "loop 26000\n",
      "loop 26100\n",
      "loop 26200\n",
      "loop 26300\n",
      "loop 26400\n",
      "loop 26500\n",
      "loop 26600\n",
      "loop 26700\n",
      "loop 26800\n",
      "loop 26900\n",
      "loop 27000\n",
      "loop 27100\n",
      "loop 27200\n",
      "loop 27300\n",
      "loop 27400\n",
      "loop 27500\n",
      "loop 27600\n",
      "loop 27700\n",
      "loop 27800\n",
      "loop 27900\n",
      "loop 28000\n",
      "loop 28100\n",
      "loop 28200\n",
      "loop 28300\n",
      "loop 28400\n",
      "loop 28500\n",
      "loop 28600\n",
      "loop 28700\n",
      "loop 28800\n",
      "loop 28900\n",
      "loop 29000\n",
      "loop 29100\n",
      "loop 29200\n",
      "loop 29300\n",
      "loop 29400\n",
      "loop 29500\n",
      "loop 29600\n",
      "loop 29700\n",
      "loop 29800\n",
      "loop 29900\n",
      "loop 30000\n",
      "loop 30100\n",
      "loop 30200\n",
      "loop 30300\n",
      "loop 30400\n",
      "loop 30500\n",
      "loop 30600\n",
      "loop 30700\n",
      "loop 30800\n",
      "loop 30900\n",
      "loop 31000\n",
      "loop 31100\n",
      "loop 31200\n",
      "loop 31300\n",
      "loop 31400\n",
      "loop 31500\n",
      "loop 31600\n",
      "loop 31700\n",
      "loop 31800\n",
      "loop 31900\n",
      "loop 32000\n",
      "loop 32100\n",
      "loop 32200\n",
      "loop 32300\n",
      "loop 32400\n",
      "loop 32500\n",
      "loop 32600\n",
      "loop 32700\n",
      "loop 32800\n",
      "loop 32900\n",
      "loop 33000\n",
      "loop 33100\n",
      "loop 33200\n",
      "loop 33300\n",
      "loop 33400\n",
      "loop 33500\n",
      "loop 33600\n",
      "loop 33700\n",
      "loop 33800\n",
      "loop 33900\n",
      "loop 34000\n",
      "loop 34100\n",
      "loop 34200\n",
      "loop 34300\n",
      "loop 34400\n",
      "loop 34500\n",
      "loop 34600\n",
      "loop 34700\n",
      "loop 34800\n",
      "loop 34900\n",
      "loop 35000\n",
      "loop 35100\n",
      "loop 35200\n",
      "loop 35300\n",
      "loop 35400\n",
      "loop 35500\n",
      "loop 35600\n",
      "loop 35700\n",
      "loop 35800\n",
      "loop 35900\n",
      "loop 36000\n",
      "loop 36100\n",
      "loop 36200\n",
      "loop 36300\n",
      "loop 36400\n",
      "loop 36500\n",
      "loop 36600\n",
      "loop 36700\n",
      "loop 36800\n",
      "loop 36900\n",
      "loop 37000\n",
      "loop 37100\n",
      "loop 37200\n",
      "loop 37300\n",
      "loop 37400\n",
      "loop 37500\n",
      "loop 37600\n",
      "loop 37700\n",
      "loop 37800\n",
      "loop 37900\n",
      "loop 38000\n",
      "loop 38100\n",
      "loop 38200\n",
      "loop 38300\n",
      "loop 38400\n",
      "loop 38500\n",
      "loop 38600\n",
      "loop 38700\n",
      "loop 38800\n",
      "loop 38900\n",
      "loop 39000\n",
      "loop 39100\n",
      "loop 39200\n",
      "loop 39300\n",
      "loop 39400\n",
      "loop 39500\n",
      "loop 39600\n",
      "loop 39700\n",
      "loop 39800\n",
      "loop 39900\n",
      "loop 40000\n",
      "loop 40100\n",
      "loop 40200\n",
      "loop 40300\n",
      "loop 40400\n",
      "loop 40500\n",
      "loop 40600\n",
      "loop 40700\n",
      "loop 40800\n",
      "loop 40900\n",
      "loop 41000\n",
      "loop 41100\n",
      "loop 41200\n",
      "loop 41300\n",
      "loop 41400\n",
      "loop 41500\n",
      "loop 41600\n",
      "loop 41700\n",
      "loop 41800\n",
      "loop 41900\n",
      "loop 42000\n",
      "loop 42100\n",
      "loop 42200\n",
      "loop 42300\n",
      "loop 42400\n",
      "loop 42500\n",
      "loop 42600\n",
      "loop 42700\n",
      "loop 42800\n",
      "loop 42900\n",
      "loop 43000\n",
      "loop 43100\n",
      "loop 43200\n",
      "loop 43300\n",
      "loop 43400\n",
      "loop 43500\n",
      "loop 43600\n",
      "loop 43700\n",
      "loop 43800\n",
      "loop 43900\n",
      "loop 44000\n",
      "loop 44100\n",
      "loop 44200\n",
      "loop 44300\n",
      "loop 44400\n",
      "loop 44500\n",
      "loop 44600\n",
      "loop 44700\n",
      "loop 44800\n",
      "loop 44900\n",
      "loop 45000\n",
      "loop 45100\n",
      "loop 45200\n",
      "loop 45300\n",
      "loop 45400\n",
      "loop 45500\n",
      "loop 45600\n",
      "loop 45700\n",
      "loop 45800\n",
      "loop 45900\n",
      "loop 46000\n",
      "loop 46100\n",
      "loop 46200\n",
      "loop 46300\n",
      "loop 46400\n",
      "loop 46500\n",
      "loop 46600\n",
      "loop 46700\n",
      "loop 46800\n",
      "loop 46900\n",
      "loop 47000\n",
      "loop 47100\n",
      "loop 47200\n",
      "loop 47300\n",
      "loop 47400\n",
      "loop 47500\n",
      "loop 47600\n",
      "loop 47700\n",
      "loop 47800\n",
      "loop 47900\n",
      "loop 48000\n",
      "loop 48100\n",
      "loop 48200\n",
      "loop 48300\n",
      "loop 48400\n",
      "loop 48500\n",
      "loop 48600\n",
      "loop 48700\n",
      "loop 48800\n",
      "loop 48900\n",
      "loop 49000\n",
      "loop 49100\n",
      "loop 49200\n",
      "loop 49300\n",
      "loop 49400\n",
      "loop 49500\n",
      "loop 49600\n",
      "loop 49700\n",
      "loop 49800\n",
      "loop 49900\n",
      "training cost 13.730386972427368 second\n",
      "Start predicting\n",
      "predicting cost 4.6155900955200195 second\n",
      "             precision    recall  f1-score   support\n",
      "\n",
      "          0       0.83      1.00      0.91     80530\n",
      "          1       0.00      0.00      0.00      4590\n",
      "          2       0.00      0.00      0.00      2175\n",
      "          3       0.00      0.00      0.00      5920\n",
      "          4       0.00      0.00      0.00      4013\n",
      "          5       0.00      0.00      0.00        13\n",
      "          6       0.00      0.00      0.00         6\n",
      "          7       0.00      0.00      0.00         5\n",
      "\n",
      "avg / total       0.69      0.83      0.75     97252\n",
      "\n"
     ]
    },
    {
     "name": "stderr",
     "output_type": "stream",
     "text": [
      "/Users/apple/anaconda/envs/py36/lib/python3.6/site-packages/sklearn/metrics/classification.py:1135: UndefinedMetricWarning: Precision and F-score are ill-defined and being set to 0.0 in labels with no predicted samples.\n",
      "  'precision', 'predicted', average, warn_for)\n"
     ]
    }
   ],
   "source": [
    "if __name__ == '__main__':\n",
    "\n",
    "    print('Start read data')\n",
    "\n",
    "    time_1 = time.time()\n",
    "\n",
    "    train_features = array_DOC_train \n",
    "    test_features = array_DOC_test\n",
    "    train_labels = iterList_O_train\n",
    "    test_labels = iterList_O_test\n",
    "    # print train_features.shape\n",
    "    # print train_features.shape\n",
    "\n",
    "    time_2 = time.time()\n",
    "    print('read data cost '+ str(time_2 - time_1)+' second')\n",
    "\n",
    "    print('Start training')\n",
    "    p = Softmax()\n",
    "    p.train(train_features, train_labels)\n",
    "\n",
    "    time_3 = time.time()\n",
    "    print('training cost '+ str(time_3 - time_2)+' second')\n",
    "\n",
    "    print('Start predicting')\n",
    "    test_predict = p.predict(test_features)\n",
    "    time_4 = time.time()\n",
    "    print('predicting cost ' + str(time_4 - time_3) +' second')\n",
    "\n",
    "    score = classification_report(test_labels,test_predict)\n",
    "    print(str(score))"
   ]
  },
  {
   "cell_type": "code",
   "execution_count": null,
   "metadata": {
    "collapsed": true
   },
   "outputs": [],
   "source": []
  }
 ],
 "metadata": {
  "kernelspec": {
   "display_name": "Python 3",
   "language": "python",
   "name": "python3"
  },
  "language_info": {
   "codemirror_mode": {
    "name": "ipython",
    "version": 3
   },
   "file_extension": ".py",
   "mimetype": "text/x-python",
   "name": "python",
   "nbconvert_exporter": "python",
   "pygments_lexer": "ipython3",
   "version": "3.6.2"
  }
 },
 "nbformat": 4,
 "nbformat_minor": 2
}
