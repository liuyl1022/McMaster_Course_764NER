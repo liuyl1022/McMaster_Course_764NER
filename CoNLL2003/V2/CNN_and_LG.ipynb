{
 "cells": [
  {
   "cell_type": "code",
   "execution_count": null,
   "metadata": {
    "collapsed": false
   },
   "outputs": [],
   "source": [
    "from gensim.models import word2vec\n",
    "from keras.models import Sequential\n",
    "from keras.layers import Conv2D,MaxPool2D,Dense,Flatten\n",
    "from keras.layers import Dense, Dropout, Activation, Flatten\n",
    "from keras.layers import Convolution2D, AveragePooling2D\n",
    "from keras import backend as K\n",
    "import numpy as np"
   ]
  },
  {
   "cell_type": "code",
   "execution_count": null,
   "metadata": {
    "collapsed": true
   },
   "outputs": [],
   "source": [
    "model_DOC_test = word2vec.Word2Vec.load('DOC-test_model')\n",
    "model_DOC_train = word2vec.Word2Vec.load('DOC-train_model')"
   ]
  },
  {
   "cell_type": "code",
   "execution_count": null,
   "metadata": {
    "collapsed": false
   },
   "outputs": [],
   "source": [
    "train_file = open('train.txt', 'r')\n",
    "train_data = train_file.read().splitlines()\n",
    "train_file.close()"
   ]
  },
  {
   "cell_type": "code",
   "execution_count": null,
   "metadata": {
    "collapsed": true
   },
   "outputs": [],
   "source": [
    "test_file = open('test.txt', 'r')\n",
    "test_data = test_file.read().splitlines()\n",
    "test_file.close()"
   ]
  },
  {
   "cell_type": "code",
   "execution_count": null,
   "metadata": {
    "collapsed": false
   },
   "outputs": [],
   "source": [
    "len(train_data)"
   ]
  },
  {
   "cell_type": "code",
   "execution_count": null,
   "metadata": {
    "collapsed": false
   },
   "outputs": [],
   "source": [
    "def restructure_X(data):\n",
    "    sentence = []\n",
    "    X = []\n",
    "    Y = []\n",
    "    for i in range(len(data)):\n",
    "        if data[i] != \". 0\":    \n",
    "            sentence.append(data[i].split())\n",
    "        elif len(sentence)>0:\n",
    "            sentence = np.array(sentence)\n",
    "            X.append(sentence[:,0])\n",
    "            Y.append(sentence[:,1])\n",
    "            sentence = []\n",
    "                \n",
    "    return X,Y"
   ]
  },
  {
   "cell_type": "code",
   "execution_count": null,
   "metadata": {
    "collapsed": false
   },
   "outputs": [],
   "source": [
    "X_train, y_train= restructure_X(train_data)"
   ]
  },
  {
   "cell_type": "code",
   "execution_count": null,
   "metadata": {
    "collapsed": true
   },
   "outputs": [],
   "source": [
    "X_test,y_test = restructure_X(test_data)"
   ]
  },
  {
   "cell_type": "code",
   "execution_count": null,
   "metadata": {
    "collapsed": true
   },
   "outputs": [],
   "source": [
    "def get_vector(sentences,model):\n",
    "    data_vec = []\n",
    "    for sentence in sentences:\n",
    "        word_vec = []\n",
    "        for i in range(sentence.shape[0]):\n",
    "            word_vec.append(model[sentence[i]])\n",
    "        data_vec.append(np.array(word_vec))\n",
    "    return np.array(data_vec)"
   ]
  },
  {
   "cell_type": "code",
   "execution_count": null,
   "metadata": {
    "collapsed": false
   },
   "outputs": [],
   "source": [
    "X_train_vec = get_vector(X_train,model_DOC_train)"
   ]
  },
  {
   "cell_type": "code",
   "execution_count": null,
   "metadata": {
    "collapsed": false
   },
   "outputs": [],
   "source": [
    "X_test_vec = get_vector(X_test,model_DOC_test)"
   ]
  },
  {
   "cell_type": "code",
   "execution_count": null,
   "metadata": {
    "collapsed": true
   },
   "outputs": [],
   "source": [
    "# add contextual information: one word before and one word after\n",
    "# Thank Marshall Wice for teaching me this method\n",
    "def pad_words(dataset_vec):\n",
    "    new_data_vec = [] \n",
    "    for i in range(len(dataset_vec)):\n",
    "        sentence = dataset_vec[i]\n",
    "        sentence_vec = []\n",
    "        if len(sentence) == 1:\n",
    "            word_matrix = np.zeros((3, 50))\n",
    "            word_matrix[1] = sentence\n",
    "            sentence_vec.append(word_matrix)\n",
    "\n",
    "        elif len(sentence) == 2:\n",
    "            for i in range(len(sentence)):\n",
    "                word_matrix = np.zeros((3, 50))\n",
    "                if i == 0:\n",
    "                    word_matrix[1] = sentence[i]\n",
    "                    word_matrix[2] = sentence[i+1]\n",
    "                elif i == len(sentence)-1:\n",
    "                    word_matrix[0] = sentence[i-1]\n",
    "                    word_matrix[1] = sentence[i]\n",
    "                sentence_vec.append(word_matrix)\n",
    "\n",
    "        else:\n",
    "            for i in range(len(sentence)):\n",
    "                word_matrix = np.zeros((3, 50))\n",
    "                if i == 0:\n",
    "                    word_matrix[1] = sentence[i]\n",
    "                    word_matrix[2] = sentence[i+1]\n",
    "                elif i == len(sentence)-1:\n",
    "                    word_matrix[0] = sentence[i-1]\n",
    "                    word_matrix[1] = sentence[i]\n",
    "                else:\n",
    "                    word_matrix[0] = sentence[i-1]\n",
    "                    word_matrix[1] = sentence[i]\n",
    "                    word_matrix[2] = sentence[i+1]\n",
    "                sentence_vec.append(word_matrix)\n",
    "            \n",
    "        new_data_vec.append(np.array(sentence_vec)) \n",
    "        \n",
    "    new_data_vec = np.array(new_data_vec)\n",
    "    flattened_data_vec = []\n",
    "    for i in range(len(new_data_vec)):\n",
    "        for j in range(new_data_vec[i].shape[0]):\n",
    "            flattened_data_vec.append(new_data_vec[i][j])\n",
    "            \n",
    "    return np.array(flattened_data_vec)\n"
   ]
  },
  {
   "cell_type": "code",
   "execution_count": null,
   "metadata": {
    "collapsed": false
   },
   "outputs": [],
   "source": [
    "X_train = pad_words(X_train_vec)"
   ]
  },
  {
   "cell_type": "code",
   "execution_count": null,
   "metadata": {
    "collapsed": true
   },
   "outputs": [],
   "source": [
    "X_test = pad_words(X_test_vec)"
   ]
  },
  {
   "cell_type": "code",
   "execution_count": null,
   "metadata": {
    "collapsed": true
   },
   "outputs": [],
   "source": [
    "def pad_labels(labels):\n",
    "    new_labels = []\n",
    "    for i in range(len(labels)):\n",
    "        for j in range(len(labels[i])):\n",
    "            new_labels.append(labels[i][j])\n",
    "    return np.array(new_labels)"
   ]
  },
  {
   "cell_type": "code",
   "execution_count": null,
   "metadata": {
    "collapsed": false
   },
   "outputs": [],
   "source": [
    "pad_y_train = pad_labels(y_train)"
   ]
  },
  {
   "cell_type": "code",
   "execution_count": null,
   "metadata": {
    "collapsed": true
   },
   "outputs": [],
   "source": [
    "pad_y_test = pad_labels(y_test)"
   ]
  },
  {
   "cell_type": "code",
   "execution_count": null,
   "metadata": {
    "collapsed": false
   },
   "outputs": [],
   "source": [
    "pad_y_train[0]"
   ]
  },
  {
   "cell_type": "code",
   "execution_count": null,
   "metadata": {
    "collapsed": false
   },
   "outputs": [],
   "source": [
    "X_train = X_train.reshape(X_train.shape[0], 10, 15, 1)"
   ]
  },
  {
   "cell_type": "code",
   "execution_count": null,
   "metadata": {
    "collapsed": true
   },
   "outputs": [],
   "source": [
    "X_test = X_test.reshape(X_test.shape[0], 10, 15, 1)"
   ]
  },
  {
   "cell_type": "code",
   "execution_count": null,
   "metadata": {
    "collapsed": true
   },
   "outputs": [],
   "source": [
    "pad_y_train = pad_y_train.astype(np.float32).reshape(-1,1)"
   ]
  },
  {
   "cell_type": "code",
   "execution_count": null,
   "metadata": {
    "collapsed": true
   },
   "outputs": [],
   "source": [
    "pad_y_test = pad_y_test.astype(np.float32).reshape(-1,1)"
   ]
  },
  {
   "cell_type": "code",
   "execution_count": null,
   "metadata": {
    "collapsed": false
   },
   "outputs": [],
   "source": [
    "from sklearn.preprocessing import OneHotEncoder\n",
    "Onehot_y_train = OneHotEncoder().fit_transform(pad_y_train).todense()"
   ]
  },
  {
   "cell_type": "code",
   "execution_count": null,
   "metadata": {
    "collapsed": true
   },
   "outputs": [],
   "source": [
    "Onehot_y_test = OneHotEncoder().fit_transform(pad_y_test).todense()"
   ]
  },
  {
   "cell_type": "code",
   "execution_count": null,
   "metadata": {
    "collapsed": false
   },
   "outputs": [],
   "source": [
    "Onehot_y_test.shape"
   ]
  },
  {
   "cell_type": "markdown",
   "metadata": {},
   "source": [
    "### CNN"
   ]
  },
  {
   "cell_type": "code",
   "execution_count": null,
   "metadata": {
    "collapsed": false
   },
   "outputs": [],
   "source": [
    "model = Sequential()\n",
    "model.add(Conv2D(6,kernel_size=2,strides=1,padding='same',input_shape=(10, 15, 1)))\n",
    "model.add(Activation('relu'))\n",
    "model.add(Conv2D(16,kernel_size=2,strides=1,padding='valid'))\n",
    "model.add(Activation('relu'))\n",
    "model.add(Flatten())\n",
    "model.add(Dense(104))\n",
    "model.add(Dense(8,activation = 'softmax'))"
   ]
  },
  {
   "cell_type": "code",
   "execution_count": null,
   "metadata": {
    "collapsed": true
   },
   "outputs": [],
   "source": [
    "model.compile('sgd',loss='categorical_crossentropy',metrics=['accuracy'])"
   ]
  },
  {
   "cell_type": "code",
   "execution_count": null,
   "metadata": {
    "collapsed": false
   },
   "outputs": [],
   "source": [
    "model.fit(X_train,Onehot_y_train,batch_size=64,epochs=40,validation_data=[X_test,Onehot_y_test])"
   ]
  },
  {
   "cell_type": "code",
   "execution_count": null,
   "metadata": {
    "collapsed": false
   },
   "outputs": [],
   "source": [
    "predictions_last_epoch = model.predict(X_test, batch_size=64,verbose=1)"
   ]
  },
  {
   "cell_type": "code",
   "execution_count": null,
   "metadata": {
    "collapsed": true
   },
   "outputs": [],
   "source": [
    "target_names = ['O', 'I-ORG', 'I-MISC', 'I-PER', 'I-LOC', \n",
    "                    'B-MISC', 'B-LOC', 'B-ORG']"
   ]
  },
  {
   "cell_type": "code",
   "execution_count": null,
   "metadata": {
    "collapsed": true
   },
   "outputs": [],
   "source": [
    "predicted_classes = np.argmax(predictions_last_epoch, axis=1)"
   ]
  },
  {
   "cell_type": "code",
   "execution_count": null,
   "metadata": {
    "collapsed": true
   },
   "outputs": [],
   "source": [
    "from sklearn.metrics import classification_report"
   ]
  },
  {
   "cell_type": "code",
   "execution_count": null,
   "metadata": {
    "collapsed": false
   },
   "outputs": [],
   "source": [
    "print(classification_report(pad_y_test, predicted_classes, target_names=target_names))"
   ]
  },
  {
   "cell_type": "markdown",
   "metadata": {
    "collapsed": true
   },
   "source": [
    "### Logistic regression"
   ]
  },
  {
   "cell_type": "code",
   "execution_count": null,
   "metadata": {
    "collapsed": true
   },
   "outputs": [],
   "source": [
    "X_for_lg_train = pad_words(X_train_vec)"
   ]
  },
  {
   "cell_type": "code",
   "execution_count": null,
   "metadata": {
    "collapsed": false
   },
   "outputs": [],
   "source": [
    "X_for_lg_train = X_for_lg_train.reshape(y_for_lg_train.shape[0],150)"
   ]
  },
  {
   "cell_type": "code",
   "execution_count": null,
   "metadata": {
    "collapsed": false
   },
   "outputs": [],
   "source": [
    "X_for_lg_train.shape"
   ]
  },
  {
   "cell_type": "code",
   "execution_count": null,
   "metadata": {
    "collapsed": true
   },
   "outputs": [],
   "source": [
    "X_for_lg_test = pad_words(X_test_vec)"
   ]
  },
  {
   "cell_type": "code",
   "execution_count": null,
   "metadata": {
    "collapsed": true
   },
   "outputs": [],
   "source": [
    "X_for_lg_test = X_for_lg_test.reshape(X_for_lg_test.shape[0],150)"
   ]
  },
  {
   "cell_type": "code",
   "execution_count": null,
   "metadata": {
    "collapsed": true
   },
   "outputs": [],
   "source": [
    "from sklearn.linear_model import LogisticRegression"
   ]
  },
  {
   "cell_type": "code",
   "execution_count": null,
   "metadata": {
    "collapsed": true
   },
   "outputs": [],
   "source": [
    "lg = LogisticRegression(max_iter=10000, verbose=1, penalty='l2', multi_class='multinomial',solver='sag')"
   ]
  },
  {
   "cell_type": "code",
   "execution_count": null,
   "metadata": {
    "collapsed": false
   },
   "outputs": [],
   "source": [
    "lg.fit(X= X_for_lg_train,y=pad_labels(y_train))"
   ]
  },
  {
   "cell_type": "code",
   "execution_count": null,
   "metadata": {
    "collapsed": true
   },
   "outputs": [],
   "source": [
    "pred = lg.predict(X_for_lg_test)"
   ]
  },
  {
   "cell_type": "code",
   "execution_count": null,
   "metadata": {
    "collapsed": true
   },
   "outputs": [],
   "source": [
    "from sklearn.metrics import classification_report"
   ]
  },
  {
   "cell_type": "code",
   "execution_count": null,
   "metadata": {
    "collapsed": false
   },
   "outputs": [],
   "source": [
    "print(classification_report(pad_labels(y_test),pred))"
   ]
  }
 ],
 "metadata": {
  "kernelspec": {
   "display_name": "Python 3",
   "language": "python",
   "name": "python3"
  },
  "language_info": {
   "codemirror_mode": {
    "name": "ipython",
    "version": 3
   },
   "file_extension": ".py",
   "mimetype": "text/x-python",
   "name": "python",
   "nbconvert_exporter": "python",
   "pygments_lexer": "ipython3",
   "version": "3.6.2"
  }
 },
 "nbformat": 4,
 "nbformat_minor": 2
}
