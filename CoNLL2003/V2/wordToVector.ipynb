{
 "cells": [
  {
   "cell_type": "code",
   "execution_count": 2,
   "metadata": {
    "collapsed": true
   },
   "outputs": [],
   "source": [
    "from gensim.models import word2vec\n",
    "import numpy as np"
   ]
  },
  {
   "cell_type": "code",
   "execution_count": 3,
   "metadata": {
    "collapsed": false
   },
   "outputs": [],
   "source": [
    "#  test data\n",
    "DOC_test = word2vec.Text8Corpus('DOCSTART-test.txt')\n",
    "DOC_test_nDim = 50\n",
    "model_DOC_test = word2vec.Word2Vec(DOC_test,size = DOC_test_nDim, min_count=0)\n",
    "model_DOC_test.save('DOC-test_model')"
   ]
  },
  {
   "cell_type": "code",
   "execution_count": 4,
   "metadata": {
    "collapsed": false
   },
   "outputs": [
    {
     "name": "stderr",
     "output_type": "stream",
     "text": [
      "/Users/apple/anaconda/envs/py36/lib/python3.6/site-packages/ipykernel_launcher.py:1: DeprecationWarning: Call to deprecated `similarity` (Method will be removed in 4.0.0, use self.wv.similarity() instead).\n",
      "  \"\"\"Entry point for launching an IPython kernel.\n"
     ]
    },
    {
     "data": {
      "text/plain": [
       "-0.033468722948190671"
      ]
     },
     "execution_count": 4,
     "metadata": {},
     "output_type": "execute_result"
    }
   ],
   "source": [
    "model_DOC_test.similarity('take','over')"
   ]
  },
  {
   "cell_type": "code",
   "execution_count": 5,
   "metadata": {
    "collapsed": true
   },
   "outputs": [],
   "source": [
    "# train data\n",
    "DOC_train = word2vec.Text8Corpus('DOCSTART-train.txt')\n",
    "DOC_train_nDim = 50\n",
    "model_DOC_train = word2vec.Word2Vec(DOC_train,size = DOC_train_nDim, min_count=0)\n",
    "model_DOC_train.save('DOC-train_model')"
   ]
  },
  {
   "cell_type": "code",
   "execution_count": 6,
   "metadata": {
    "collapsed": false
   },
   "outputs": [
    {
     "name": "stderr",
     "output_type": "stream",
     "text": [
      "/Users/apple/anaconda/envs/py36/lib/python3.6/site-packages/ipykernel_launcher.py:1: DeprecationWarning: Call to deprecated `similarity` (Method will be removed in 4.0.0, use self.wv.similarity() instead).\n",
      "  \"\"\"Entry point for launching an IPython kernel.\n"
     ]
    },
    {
     "data": {
      "text/plain": [
       "0.5339750475580205"
      ]
     },
     "execution_count": 6,
     "metadata": {},
     "output_type": "execute_result"
    }
   ],
   "source": [
    "model_DOC_train.similarity('EU','1996-08-22')\n"
   ]
  },
  {
   "cell_type": "code",
   "execution_count": 7,
   "metadata": {
    "collapsed": false
   },
   "outputs": [
    {
     "name": "stderr",
     "output_type": "stream",
     "text": [
      "/Users/apple/anaconda/envs/py36/lib/python3.6/site-packages/ipykernel_launcher.py:1: DeprecationWarning: Call to deprecated `__getitem__` (Method will be removed in 4.0.0, use self.wv.__getitem__() instead).\n",
      "  \"\"\"Entry point for launching an IPython kernel.\n"
     ]
    },
    {
     "data": {
      "text/plain": [
       "array([-0.03445555,  0.02889566, -0.002839  , -0.04358141,  0.01067885,\n",
       "        0.01634672,  0.04089611, -0.0606119 ,  0.04906473, -0.04738773,\n",
       "        0.00470871,  0.02121208,  0.04683112, -0.00681976,  0.00409573,\n",
       "       -0.00507599, -0.00491429, -0.01747142,  0.00439242, -0.02178282,\n",
       "        0.01906204,  0.02182511,  0.00380261,  0.00227448,  0.03499264,\n",
       "        0.0315215 , -0.03929484, -0.04410506, -0.01021097, -0.01204193,\n",
       "       -0.02993992,  0.0284667 ,  0.03765746,  0.00752881,  0.04152681,\n",
       "        0.07358049,  0.0143613 , -0.02018701, -0.00683285,  0.05386478,\n",
       "       -0.00892711,  0.02842982, -0.05725342,  0.04354369, -0.01382473,\n",
       "       -0.05589106,  0.02499664,  0.09574845,  0.00086422, -0.0284655 ], dtype=float32)"
      ]
     },
     "execution_count": 7,
     "metadata": {},
     "output_type": "execute_result"
    }
   ],
   "source": [
    "model_DOC_test['.']"
   ]
  },
  {
   "cell_type": "code",
   "execution_count": 9,
   "metadata": {
    "collapsed": false
   },
   "outputs": [
    {
     "name": "stderr",
     "output_type": "stream",
     "text": [
      "/Users/apple/anaconda/envs/py36/lib/python3.6/site-packages/ipykernel_launcher.py:1: DeprecationWarning: Call to deprecated `__getitem__` (Method will be removed in 4.0.0, use self.wv.__getitem__() instead).\n",
      "  \"\"\"Entry point for launching an IPython kernel.\n"
     ]
    },
    {
     "data": {
      "text/plain": [
       "array([-0.01193638,  0.04159803, -0.0968156 , -0.10837822, -0.03486482,\n",
       "        0.03152671, -0.04120085, -0.01799973, -0.04441532,  0.12153453,\n",
       "       -0.03806015, -0.14113413, -0.0793061 ,  0.04427146, -0.10021572,\n",
       "        0.00251728,  0.01071345,  0.05879793,  0.01499915, -0.1932801 ], dtype=float32)"
      ]
     },
     "execution_count": 9,
     "metadata": {},
     "output_type": "execute_result"
    }
   ],
   "source": [
    "model_DOC_train['.']"
   ]
  },
  {
   "cell_type": "code",
   "execution_count": null,
   "metadata": {
    "collapsed": true
   },
   "outputs": [],
   "source": []
  }
 ],
 "metadata": {
  "kernelspec": {
   "display_name": "Python 3",
   "language": "python",
   "name": "python3"
  },
  "language_info": {
   "codemirror_mode": {
    "name": "ipython",
    "version": 3
   },
   "file_extension": ".py",
   "mimetype": "text/x-python",
   "name": "python",
   "nbconvert_exporter": "python",
   "pygments_lexer": "ipython3",
   "version": "3.6.2"
  }
 },
 "nbformat": 4,
 "nbformat_minor": 2
}
