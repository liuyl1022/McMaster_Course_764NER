{
 "cells": [
  {
   "cell_type": "code",
   "execution_count": 29,
   "metadata": {
    "collapsed": true
   },
   "outputs": [],
   "source": [
    "import pandas as pd\n",
    "import numpy as np"
   ]
  },
  {
   "cell_type": "code",
   "execution_count": 11,
   "metadata": {
    "collapsed": false
   },
   "outputs": [],
   "source": [
    "test = pd.read_table('NEEL2016-test_neel.gs',header = None,delim_whitespace=True)"
   ]
  },
  {
   "cell_type": "code",
   "execution_count": 13,
   "metadata": {
    "collapsed": false
   },
   "outputs": [
    {
     "data": {
      "text/html": [
       "<div>\n",
       "<style>\n",
       "    .dataframe thead tr:only-child th {\n",
       "        text-align: right;\n",
       "    }\n",
       "\n",
       "    .dataframe thead th {\n",
       "        text-align: left;\n",
       "    }\n",
       "\n",
       "    .dataframe tbody tr th {\n",
       "        vertical-align: top;\n",
       "    }\n",
       "</style>\n",
       "<table border=\"1\" class=\"dataframe\">\n",
       "  <thead>\n",
       "    <tr style=\"text-align: right;\">\n",
       "      <th></th>\n",
       "      <th>0</th>\n",
       "      <th>1</th>\n",
       "      <th>2</th>\n",
       "      <th>3</th>\n",
       "      <th>4</th>\n",
       "      <th>5</th>\n",
       "    </tr>\n",
       "  </thead>\n",
       "  <tbody>\n",
       "    <tr>\n",
       "      <th>0</th>\n",
       "      <td>674869443671941120</td>\n",
       "      <td>93</td>\n",
       "      <td>101</td>\n",
       "      <td>http://dbpedia.org/resource/Egyptians</td>\n",
       "      <td>1</td>\n",
       "      <td>Thing</td>\n",
       "    </tr>\n",
       "    <tr>\n",
       "      <th>1</th>\n",
       "      <td>674869443671941120</td>\n",
       "      <td>63</td>\n",
       "      <td>68</td>\n",
       "      <td>http://dbpedia.org/resource/Barack_Obama</td>\n",
       "      <td>1</td>\n",
       "      <td>Person</td>\n",
       "    </tr>\n",
       "    <tr>\n",
       "      <th>2</th>\n",
       "      <td>674869443671941120</td>\n",
       "      <td>112</td>\n",
       "      <td>123</td>\n",
       "      <td>NIL101</td>\n",
       "      <td>1</td>\n",
       "      <td>Person</td>\n",
       "    </tr>\n",
       "    <tr>\n",
       "      <th>3</th>\n",
       "      <td>674869443671941120</td>\n",
       "      <td>4</td>\n",
       "      <td>17</td>\n",
       "      <td>NIL113</td>\n",
       "      <td>1</td>\n",
       "      <td>Person</td>\n",
       "    </tr>\n",
       "    <tr>\n",
       "      <th>4</th>\n",
       "      <td>674869443671941120</td>\n",
       "      <td>125</td>\n",
       "      <td>135</td>\n",
       "      <td>NIL165</td>\n",
       "      <td>1</td>\n",
       "      <td>Person</td>\n",
       "    </tr>\n",
       "  </tbody>\n",
       "</table>\n",
       "</div>"
      ],
      "text/plain": [
       "                    0    1    2                                         3  4  \\\n",
       "0  674869443671941120   93  101     http://dbpedia.org/resource/Egyptians  1   \n",
       "1  674869443671941120   63   68  http://dbpedia.org/resource/Barack_Obama  1   \n",
       "2  674869443671941120  112  123                                    NIL101  1   \n",
       "3  674869443671941120    4   17                                    NIL113  1   \n",
       "4  674869443671941120  125  135                                    NIL165  1   \n",
       "\n",
       "        5  \n",
       "0   Thing  \n",
       "1  Person  \n",
       "2  Person  \n",
       "3  Person  \n",
       "4  Person  "
      ]
     },
     "execution_count": 13,
     "metadata": {},
     "output_type": "execute_result"
    }
   ],
   "source": [
    "test.head(5)"
   ]
  },
  {
   "cell_type": "code",
   "execution_count": 16,
   "metadata": {
    "collapsed": false
   },
   "outputs": [],
   "source": [
    "col4 = test[4].values"
   ]
  },
  {
   "cell_type": "code",
   "execution_count": 38,
   "metadata": {
    "collapsed": true
   },
   "outputs": [],
   "source": [
    "col1 = test[0]"
   ]
  },
  {
   "cell_type": "code",
   "execution_count": 39,
   "metadata": {
    "collapsed": false
   },
   "outputs": [],
   "source": [
    "#col1.to_csv('test_data_ID',header=False,index = False)"
   ]
  },
  {
   "cell_type": "code",
   "execution_count": 48,
   "metadata": {
    "collapsed": true
   },
   "outputs": [],
   "source": [
    "col5 = test[5].values"
   ]
  },
  {
   "cell_type": "code",
   "execution_count": 42,
   "metadata": {
    "collapsed": false
   },
   "outputs": [],
   "source": [
    "train = pd.read_table('NEEL2016-training_neel.gs',header =None,delim_whitespace=True)"
   ]
  },
  {
   "cell_type": "code",
   "execution_count": 43,
   "metadata": {
    "collapsed": false
   },
   "outputs": [
    {
     "data": {
      "text/html": [
       "<div>\n",
       "<style>\n",
       "    .dataframe thead tr:only-child th {\n",
       "        text-align: right;\n",
       "    }\n",
       "\n",
       "    .dataframe thead th {\n",
       "        text-align: left;\n",
       "    }\n",
       "\n",
       "    .dataframe tbody tr th {\n",
       "        vertical-align: top;\n",
       "    }\n",
       "</style>\n",
       "<table border=\"1\" class=\"dataframe\">\n",
       "  <thead>\n",
       "    <tr style=\"text-align: right;\">\n",
       "      <th></th>\n",
       "      <th>0</th>\n",
       "      <th>1</th>\n",
       "      <th>2</th>\n",
       "      <th>3</th>\n",
       "      <th>4</th>\n",
       "      <th>5</th>\n",
       "    </tr>\n",
       "  </thead>\n",
       "  <tbody>\n",
       "    <tr>\n",
       "      <th>0</th>\n",
       "      <td>100000025580548097</td>\n",
       "      <td>31</td>\n",
       "      <td>35</td>\n",
       "      <td>http://dbpedia.org/resource/BRIC</td>\n",
       "      <td>1</td>\n",
       "      <td>Thing</td>\n",
       "    </tr>\n",
       "    <tr>\n",
       "      <th>1</th>\n",
       "      <td>100000025580548097</td>\n",
       "      <td>69</td>\n",
       "      <td>74</td>\n",
       "      <td>http://dbpedia.org/resource/Intel</td>\n",
       "      <td>1</td>\n",
       "      <td>Organization</td>\n",
       "    </tr>\n",
       "    <tr>\n",
       "      <th>2</th>\n",
       "      <td>100000025580548097</td>\n",
       "      <td>3</td>\n",
       "      <td>8</td>\n",
       "      <td>http://dbpedia.org/resource/Intel</td>\n",
       "      <td>1</td>\n",
       "      <td>Organization</td>\n",
       "    </tr>\n",
       "    <tr>\n",
       "      <th>3</th>\n",
       "      <td>100008638684475392</td>\n",
       "      <td>104</td>\n",
       "      <td>110</td>\n",
       "      <td>http://dbpedia.org/resource/Afghanistan</td>\n",
       "      <td>1</td>\n",
       "      <td>Location</td>\n",
       "    </tr>\n",
       "    <tr>\n",
       "      <th>4</th>\n",
       "      <td>100010138022330368</td>\n",
       "      <td>29</td>\n",
       "      <td>34</td>\n",
       "      <td>http://dbpedia.org/resource/Japan</td>\n",
       "      <td>1</td>\n",
       "      <td>Location</td>\n",
       "    </tr>\n",
       "  </tbody>\n",
       "</table>\n",
       "</div>"
      ],
      "text/plain": [
       "                    0    1    2                                        3  4  \\\n",
       "0  100000025580548097   31   35         http://dbpedia.org/resource/BRIC  1   \n",
       "1  100000025580548097   69   74        http://dbpedia.org/resource/Intel  1   \n",
       "2  100000025580548097    3    8        http://dbpedia.org/resource/Intel  1   \n",
       "3  100008638684475392  104  110  http://dbpedia.org/resource/Afghanistan  1   \n",
       "4  100010138022330368   29   34        http://dbpedia.org/resource/Japan  1   \n",
       "\n",
       "              5  \n",
       "0         Thing  \n",
       "1  Organization  \n",
       "2  Organization  \n",
       "3      Location  \n",
       "4      Location  "
      ]
     },
     "execution_count": 43,
     "metadata": {},
     "output_type": "execute_result"
    }
   ],
   "source": [
    "train.head(5)"
   ]
  },
  {
   "cell_type": "code",
   "execution_count": 44,
   "metadata": {
    "collapsed": true
   },
   "outputs": [],
   "source": [
    "train_col1 = train[0]"
   ]
  },
  {
   "cell_type": "code",
   "execution_count": 45,
   "metadata": {
    "collapsed": true
   },
   "outputs": [],
   "source": [
    "train_col1.to_csv('train_data_ID',header = False,index = False)"
   ]
  },
  {
   "cell_type": "code",
   "execution_count": 65,
   "metadata": {
    "collapsed": false
   },
   "outputs": [],
   "source": [
    "test_textData = [line.rstrip() for line in open('NEEL2016-test.tsv')]"
   ]
  },
  {
   "cell_type": "code",
   "execution_count": 67,
   "metadata": {
    "collapsed": false
   },
   "outputs": [
    {
     "data": {
      "text/plain": [
       "[\"|674963312203816962|,|Day 9: Wearing a #StarWars T-Shirt each day until 'The Force Awakens'.  We're half way there! https://t.co/QoAOxoSCJk|\",\n",
       " '|675567581365932032|,|@realDonaldTrump @ComatoseJeb #Trump rest. We need u 2 stay strong.|',\n",
       " '|677037059710820352|,|.@DannGireDHFilm awards 3½ stars to #StarWars #TheForceAwakens. His review: https://t.co/waEJjB8cSn|',\n",
       " '|677036683028799488|,|Our film critic Damon Smith gives #TheForceAwakens 8.5/10 - \"a rollicking and unabashedly old-fashioned battle beyond the stars\"|',\n",
       " \"|676803867204538368|,|RT @JamesBallardie: The Radicalisation of Luke Skywalker: A Jedi's Path To Jihad -  https://t.co/jq0W9xuWYw #StarWarsForceAwakens #StarWars|\"]"
      ]
     },
     "execution_count": 67,
     "metadata": {},
     "output_type": "execute_result"
    }
   ],
   "source": [
    "lentest_textData[:5]\n",
    "\n"
   ]
  },
  {
   "cell_type": "code",
   "execution_count": null,
   "metadata": {
    "collapsed": false
   },
   "outputs": [],
   "source": []
  },
  {
   "cell_type": "code",
   "execution_count": null,
   "metadata": {
    "collapsed": true
   },
   "outputs": [],
   "source": []
  }
 ],
 "metadata": {
  "kernelspec": {
   "display_name": "Python 3",
   "language": "python",
   "name": "python3"
  },
  "language_info": {
   "codemirror_mode": {
    "name": "ipython",
    "version": 3
   },
   "file_extension": ".py",
   "mimetype": "text/x-python",
   "name": "python",
   "nbconvert_exporter": "python",
   "pygments_lexer": "ipython3",
   "version": "3.6.2"
  }
 },
 "nbformat": 4,
 "nbformat_minor": 2
}
