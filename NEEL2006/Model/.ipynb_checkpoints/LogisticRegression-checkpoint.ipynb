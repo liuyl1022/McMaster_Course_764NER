{
 "cells": [
  {
   "cell_type": "code",
   "execution_count": 2,
   "metadata": {
    "collapsed": true
   },
   "outputs": [],
   "source": [
    "import math\n",
    "import pandas as pd\n",
    "import numpy as np\n",
    "from gensim.models import word2vec\n",
    "from sklearn.metrics import accuracy_score\n",
    "import random\n",
    "import time\n",
    "from sklearn.metrics import classification_report"
   ]
  },
  {
   "cell_type": "code",
   "execution_count": 3,
   "metadata": {
    "collapsed": false
   },
   "outputs": [
    {
     "data": {
      "text/plain": [
       "(8665, 64)"
      ]
     },
     "execution_count": 3,
     "metadata": {},
     "output_type": "execute_result"
    }
   ],
   "source": [
    "X_train = pd.read_csv('X_train.txt',header = None)\n",
    "train_data = np.array(X_train)\n",
    "train_data.shape"
   ]
  },
  {
   "cell_type": "code",
   "execution_count": 4,
   "metadata": {
    "collapsed": false
   },
   "outputs": [
    {
     "data": {
      "text/plain": [
       "(1022, 64)"
      ]
     },
     "execution_count": 4,
     "metadata": {},
     "output_type": "execute_result"
    }
   ],
   "source": [
    "X_test = pd.read_csv('X_test.txt',header = None)\n",
    "test_data = np.array(X_test)\n",
    "test_data.shape"
   ]
  },
  {
   "cell_type": "code",
   "execution_count": 5,
   "metadata": {
    "collapsed": false
   },
   "outputs": [
    {
     "data": {
      "text/plain": [
       "(8665, 1)"
      ]
     },
     "execution_count": 5,
     "metadata": {},
     "output_type": "execute_result"
    }
   ],
   "source": [
    "y_train = pd.read_csv('train_Label.txt',header = None)\n",
    "array_y_train = y_train.values\n",
    "array_y_train.shape"
   ]
  },
  {
   "cell_type": "code",
   "execution_count": 6,
   "metadata": {
    "collapsed": false
   },
   "outputs": [
    {
     "data": {
      "text/plain": [
       "(1022, 1)"
      ]
     },
     "execution_count": 6,
     "metadata": {},
     "output_type": "execute_result"
    }
   ],
   "source": [
    "y_test = pd.read_csv('test_Label.txt',header = None)\n",
    "array_y_test = y_test.values\n",
    "array_y_test.shape"
   ]
  },
  {
   "cell_type": "code",
   "execution_count": 9,
   "metadata": {
    "collapsed": false
   },
   "outputs": [],
   "source": [
    "list_y_test = array_y_test.tolist()"
   ]
  },
  {
   "cell_type": "code",
   "execution_count": 10,
   "metadata": {
    "collapsed": true
   },
   "outputs": [],
   "source": [
    "list_y_train = array_y_train.tolist()"
   ]
  },
  {
   "cell_type": "code",
   "execution_count": 11,
   "metadata": {
    "collapsed": false
   },
   "outputs": [],
   "source": [
    "iterList_y_test = sum(list_y_test,[])"
   ]
  },
  {
   "cell_type": "code",
   "execution_count": 12,
   "metadata": {
    "collapsed": false
   },
   "outputs": [
    {
     "data": {
      "text/plain": [
       "[1, 2, 2, 2, 2]"
      ]
     },
     "execution_count": 12,
     "metadata": {},
     "output_type": "execute_result"
    }
   ],
   "source": [
    "iterList_y_test[0:5]"
   ]
  },
  {
   "cell_type": "code",
   "execution_count": 13,
   "metadata": {
    "collapsed": true
   },
   "outputs": [],
   "source": [
    "iterList_y_train = sum(list_y_train,[])"
   ]
  },
  {
   "cell_type": "code",
   "execution_count": 25,
   "metadata": {
    "collapsed": true
   },
   "outputs": [],
   "source": [
    "# learn from: https://blog.csdn.net/wds2006sdo/article/details/53699778?utm_source=itdadao&utm_medium=referral\n",
    "class Softmax(object):\n",
    "\n",
    "    def __init__(self):\n",
    "        self.learning_step = 0.000001           # 学习速率\n",
    "        self.max_iteration = 100             # 最大迭代次数\n",
    "        self.weight_lambda = 0.01               # 衰退权重\n",
    "\n",
    "    def cal_e(self,x,l):\n",
    "        '''\n",
    "        计算博客中的公式3\n",
    "        '''\n",
    "\n",
    "        theta_l = self.w[l]\n",
    "        product = np.dot(theta_l,x)\n",
    "\n",
    "        return math.exp(product)\n",
    "\n",
    "    def cal_probability(self,x,j):\n",
    "        '''\n",
    "        计算博客中的公式2\n",
    "        '''\n",
    "\n",
    "        molecule = self.cal_e(x,j)\n",
    "        denominator = sum([self.cal_e(x,i) for i in range(self.k)])\n",
    "\n",
    "        return molecule/denominator\n",
    "\n",
    "\n",
    "    def cal_partial_derivative(self,x,y,j):\n",
    "        '''\n",
    "        计算博客中的公式1\n",
    "        '''\n",
    "\n",
    "        first = int(y==j)                           # 计算示性函数\n",
    "        second = self.cal_probability(x,j)          # 计算后面那个概率\n",
    "\n",
    "        return -x*(first-second) + self.weight_lambda*self.w[j]\n",
    "\n",
    "    def predict_(self, x):\n",
    "        result = np.dot(self.w,x)\n",
    "        row, column = result.shape\n",
    "\n",
    "        # 找最大值所在的列\n",
    "        _positon = np.argmax(result)\n",
    "        m, n = divmod(_positon, column)\n",
    "\n",
    "        return m\n",
    "\n",
    "    def train(self, features, labels):\n",
    "        self.k = len(set(labels))\n",
    "\n",
    "        self.w = np.zeros((self.k,len(features[0])+1))\n",
    "        time = 0\n",
    "\n",
    "        while time < self.max_iteration:\n",
    "            if(time%100 == 0):\n",
    "                print('loop %d' % time)\n",
    "            time += 1\n",
    "            index = random.randint(0, len(labels) - 1)\n",
    "\n",
    "            x = features[index]\n",
    "            y = labels[index]\n",
    "\n",
    "            x = list(x)\n",
    "            x.append(1.0)\n",
    "            x = np.array(x)\n",
    "\n",
    "            derivatives = [self.cal_partial_derivative(x,y,j) for j in range(self.k)]\n",
    "\n",
    "            for j in range(self.k):\n",
    "                self.w[j] -= self.learning_step * derivatives[j]\n",
    "\n",
    "    def predict(self,features):\n",
    "        labels = []\n",
    "        for feature in features:\n",
    "            x = list(feature)\n",
    "            x.append(1)\n",
    "            x = np.matrix(x)\n",
    "            x = np.transpose(x)\n",
    "\n",
    "            labels.append(self.predict_(x))\n",
    "        return labels"
   ]
  },
  {
   "cell_type": "code",
   "execution_count": 26,
   "metadata": {
    "collapsed": false
   },
   "outputs": [
    {
     "name": "stdout",
     "output_type": "stream",
     "text": [
      "Start read data\n",
      "read data cost 4.0531158447265625e-06 second\n",
      "Start training\n",
      "loop 0\n",
      "training cost 0.0529179573059082 second\n",
      "Start predicting\n",
      "predicting cost 0.08904600143432617 second\n",
      "             precision    recall  f1-score   support\n",
      "\n",
      "          0       0.00      0.00      0.00        43\n",
      "          1       0.00      0.00      0.00        49\n",
      "          2       0.33      1.00      0.50       337\n",
      "          3       0.00      0.00      0.00       354\n",
      "          4       0.00      0.00      0.00       158\n",
      "          5       0.00      0.00      0.00        24\n",
      "          6       0.00      0.00      0.00        57\n",
      "\n",
      "avg / total       0.11      0.33      0.16      1022\n",
      "\n"
     ]
    },
    {
     "name": "stderr",
     "output_type": "stream",
     "text": [
      "/Users/apple/anaconda/envs/py36/lib/python3.6/site-packages/sklearn/metrics/classification.py:1135: UndefinedMetricWarning: Precision and F-score are ill-defined and being set to 0.0 in labels with no predicted samples.\n",
      "  'precision', 'predicted', average, warn_for)\n"
     ]
    }
   ],
   "source": [
    "if __name__ == '__main__':\n",
    "\n",
    "    print('Start read data')\n",
    "\n",
    "    time_1 = time.time()\n",
    "\n",
    "    train_features = train_data \n",
    "    test_features = test_data\n",
    "    train_labels = iterList_y_train\n",
    "    test_labels = iterList_y_test\n",
    "    # print train_features.shape\n",
    "    # print train_features.shape\n",
    "\n",
    "    time_2 = time.time()\n",
    "    print('read data cost '+ str(time_2 - time_1)+' second')\n",
    "\n",
    "    print('Start training')\n",
    "    p = Softmax()\n",
    "    p.train(train_features, train_labels)\n",
    "\n",
    "    time_3 = time.time()\n",
    "    print('training cost '+ str(time_3 - time_2)+' second')\n",
    "\n",
    "    print('Start predicting')\n",
    "    test_predict = p.predict(test_features)\n",
    "    time_4 = time.time()\n",
    "    print('predicting cost ' + str(time_4 - time_3) +' second')\n",
    "\n",
    "    score = classification_report(test_labels,test_predict)\n",
    "    print(str(score))"
   ]
  },
  {
   "cell_type": "code",
   "execution_count": null,
   "metadata": {
    "collapsed": true
   },
   "outputs": [],
   "source": []
  }
 ],
 "metadata": {
  "kernelspec": {
   "display_name": "Python 3",
   "language": "python",
   "name": "python3"
  },
  "language_info": {
   "codemirror_mode": {
    "name": "ipython",
    "version": 3
   },
   "file_extension": ".py",
   "mimetype": "text/x-python",
   "name": "python",
   "nbconvert_exporter": "python",
   "pygments_lexer": "ipython3",
   "version": "3.6.2"
  }
 },
 "nbformat": 4,
 "nbformat_minor": 2
}
