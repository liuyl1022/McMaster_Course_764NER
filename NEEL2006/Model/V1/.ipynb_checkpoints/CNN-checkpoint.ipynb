{
 "cells": [
  {
   "cell_type": "code",
   "execution_count": 10,
   "metadata": {
    "collapsed": true
   },
   "outputs": [],
   "source": [
    "from gensim.models import word2vec\n",
    "import numpy as np\n",
    "from sklearn.preprocessing import OneHotEncoder\n",
    "from sklearn.metrics import classification_report\n",
    "import pandas as pd\n",
    "from sklearn.preprocessing import MinMaxScaler\n",
    "import tensorflow as tf\n",
    "from sklearn.metrics import classification_report"
   ]
  },
  {
   "cell_type": "code",
   "execution_count": 11,
   "metadata": {
    "collapsed": true
   },
   "outputs": [],
   "source": [
    "def get_word_data(filename):\n",
    "    file = pd.read_csv(filename,header = None)\n",
    "    data = np.array(file)\n",
    "    scaler = MinMaxScaler()\n",
    "    data = scaler.fit_transform(data)\n",
    "    data = data.reshape(-1,8,8,1)\n",
    "    return data"
   ]
  },
  {
   "cell_type": "code",
   "execution_count": 12,
   "metadata": {
    "collapsed": true
   },
   "outputs": [],
   "source": [
    "X_train = get_word_data('X_train.txt')"
   ]
  },
  {
   "cell_type": "code",
   "execution_count": 13,
   "metadata": {
    "collapsed": false
   },
   "outputs": [],
   "source": [
    "X_test = get_word_data('X_test.txt')"
   ]
  },
  {
   "cell_type": "code",
   "execution_count": 14,
   "metadata": {
    "collapsed": true
   },
   "outputs": [],
   "source": [
    "def get_label_data(filename):\n",
    "    file = pd.read_csv(filename,header = None)\n",
    "    array = file.values\n",
    "    array = array.astype(np.float32).reshape(-1,1)\n",
    "    array = OneHotEncoder().fit_transform(array).todense()\n",
    "    return array"
   ]
  },
  {
   "cell_type": "code",
   "execution_count": 15,
   "metadata": {
    "collapsed": true
   },
   "outputs": [],
   "source": [
    "def test_read_label_file(filename):\n",
    "    file = pd.read_table(filename,header=None)\n",
    "    array = file.values\n",
    "    return array"
   ]
  },
  {
   "cell_type": "code",
   "execution_count": 16,
   "metadata": {
    "collapsed": true
   },
   "outputs": [],
   "source": [
    "y_train = get_label_data('train_Label.txt')"
   ]
  },
  {
   "cell_type": "code",
   "execution_count": 17,
   "metadata": {
    "collapsed": true
   },
   "outputs": [],
   "source": [
    "y_test = get_label_data('test_Label.txt')"
   ]
  },
  {
   "cell_type": "code",
   "execution_count": 18,
   "metadata": {
    "collapsed": true
   },
   "outputs": [],
   "source": [
    "array_y_test = test_read_label_file('test_Label.txt')"
   ]
  },
  {
   "cell_type": "markdown",
   "metadata": {},
   "source": [
    "\n",
    "# CNN"
   ]
  },
  {
   "cell_type": "code",
   "execution_count": 19,
   "metadata": {
    "collapsed": true
   },
   "outputs": [],
   "source": [
    "batch_size = 32\n",
    "def generatebatch(X,Y,n_example,batch_size):\n",
    "    for batch_i in range(n_example // batch_size):\n",
    "        start = batch_i * batch_size\n",
    "        end = start + batch_size\n",
    "        batch_xs = X[start:end]\n",
    "        batch_ys = Y[start:end]\n",
    "        yield batch_xs, batch_ys  "
   ]
  },
  {
   "cell_type": "code",
   "execution_count": 20,
   "metadata": {
    "collapsed": true
   },
   "outputs": [],
   "source": [
    "tf.reset_default_graph()"
   ]
  },
  {
   "cell_type": "code",
   "execution_count": 21,
   "metadata": {
    "collapsed": false
   },
   "outputs": [],
   "source": [
    "import tensorflow as tf\n",
    "tf.reset_default_graph()"
   ]
  },
  {
   "cell_type": "code",
   "execution_count": 33,
   "metadata": {
    "collapsed": true
   },
   "outputs": [],
   "source": [
    "#input layer\n",
    "tf_X = tf.placeholder(tf.float32,[None,8,8,1])\n",
    "tf_Y = tf.placeholder(tf.float32,[None,7])"
   ]
  },
  {
   "cell_type": "code",
   "execution_count": 34,
   "metadata": {
    "collapsed": false
   },
   "outputs": [
    {
     "name": "stdout",
     "output_type": "stream",
     "text": [
      "Tensor(\"AvgPool_2:0\", shape=(?, 4, 4, 10), dtype=float32)\n"
     ]
    }
   ],
   "source": [
    "# conv layer and relu layer\n",
    "conv_filter_w1 = tf.Variable(tf.random_normal([3,3,1,10]))\n",
    "conv_filter_b1 = tf.Variable(tf.random_normal([10]))\n",
    "relu_feature_maps1 = tf.nn.relu(tf.nn.conv2d(tf_X,conv_filter_w1,strides = [1,1,1,1],padding='SAME')+conv_filter_b1)\n",
    "#average pooling layer\n",
    "avg_pool1 = tf.nn.avg_pool(relu_feature_maps1,ksize = [1,3,3,1],strides = [1,2,2,1],padding = 'SAME')\n",
    "print(avg_pool1)"
   ]
  },
  {
   "cell_type": "code",
   "execution_count": 35,
   "metadata": {
    "collapsed": true
   },
   "outputs": [],
   "source": [
    "# second conv layer\n",
    "conv_filter_w2 = tf.Variable(tf.random_normal([3,3,10,5]))\n",
    "conv_filter_b2 = tf.Variable(tf.random_normal([5]))\n",
    "conv_out2 = tf.nn.conv2d(relu_feature_maps1,conv_filter_w2,strides=[1,2,2,1],padding = 'SAME')+ conv_filter_b2"
   ]
  },
  {
   "cell_type": "code",
   "execution_count": 36,
   "metadata": {
    "collapsed": false
   },
   "outputs": [],
   "source": [
    "batch_mean, batch_var = tf.nn.moments(conv_out2, [0, 1, 2], keep_dims=True)\n",
    "shift = tf.Variable(tf.zeros([5]))\n",
    "scale = tf.Variable(tf.ones([5]))\n",
    "epsilon = 1e-3\n",
    "BN_out = tf.nn.batch_normalization(conv_out2, batch_mean, batch_var, shift, scale, epsilon)"
   ]
  },
  {
   "cell_type": "code",
   "execution_count": 37,
   "metadata": {
    "collapsed": false
   },
   "outputs": [],
   "source": [
    "relu_BN_maps2 = tf.nn.relu(BN_out)"
   ]
  },
  {
   "cell_type": "code",
   "execution_count": 38,
   "metadata": {
    "collapsed": false
   },
   "outputs": [
    {
     "name": "stdout",
     "output_type": "stream",
     "text": [
      "Tensor(\"AvgPool_3:0\", shape=(?, 2, 2, 5), dtype=float32)\n"
     ]
    }
   ],
   "source": [
    "#average pooling layer\n",
    "avg_pool2 = tf.nn.avg_pool(relu_BN_maps2,ksize=[1,3,3,1],strides=[1,2,2,1],padding='SAME')\n",
    "print(avg_pool2)"
   ]
  },
  {
   "cell_type": "code",
   "execution_count": 39,
   "metadata": {
    "collapsed": false
   },
   "outputs": [],
   "source": [
    "# flatten\n",
    "avg_pool2_flat = tf.reshape(avg_pool2, [-1, 2*2*5])"
   ]
  },
  {
   "cell_type": "code",
   "execution_count": 40,
   "metadata": {
    "collapsed": true
   },
   "outputs": [],
   "source": [
    "#Fully connection layer\n",
    "fc_w1 = tf.Variable(tf.random_normal([2*2*5,35]))\n",
    "fc_b1 = tf.Variable(tf.random_normal([35]))\n",
    "fc_out1 = tf.nn.relu(tf.matmul(avg_pool2_flat, fc_w1) + fc_b1)"
   ]
  },
  {
   "cell_type": "code",
   "execution_count": 41,
   "metadata": {
    "collapsed": true
   },
   "outputs": [],
   "source": [
    "# Output layer\n",
    "out_w1 = tf.Variable(tf.random_normal([35,7]))\n",
    "out_b1 = tf.Variable(tf.random_normal([7]))\n",
    "pred = tf.nn.softmax(tf.matmul(fc_out1,out_w1)+out_b1)"
   ]
  },
  {
   "cell_type": "code",
   "execution_count": 42,
   "metadata": {
    "collapsed": false
   },
   "outputs": [],
   "source": [
    "loss = -tf.reduce_mean(tf_Y*tf.log(tf.clip_by_value(pred,1e-11,1.0)))\n",
    "train_step = tf.train.AdamOptimizer(1e-3).minimize(loss)\n",
    "y_pred = tf.arg_max(pred,1)\n",
    "bool_pred = tf.equal(tf.arg_max(tf_Y,1),y_pred)\n",
    "accuracy = tf.reduce_mean(tf.cast(bool_pred,tf.float32))"
   ]
  },
  {
   "cell_type": "code",
   "execution_count": 43,
   "metadata": {
    "collapsed": false
   },
   "outputs": [],
   "source": [
    "epochs = 1\n",
    "\n",
    "\n",
    "with tf.Session() as sess:\n",
    "    sess.run(tf.global_variables_initializer())\n",
    "    for epoch in range(epochs):\n",
    "        for batch_xs, batch_ys in generatebatch(X_train,y_train,y_train.shape[0],batch_size):\n",
    "            sess.run(train_step, feed_dict={tf_X:batch_xs,tf_Y:batch_ys})\n",
    "    res_ypred = y_pred.eval(feed_dict={tf_X:X_test,tf_Y:y_test}).flatten() "
   ]
  },
  {
   "cell_type": "code",
   "execution_count": 44,
   "metadata": {
    "collapsed": false
   },
   "outputs": [
    {
     "name": "stdout",
     "output_type": "stream",
     "text": [
      "             precision    recall  f1-score   support\n",
      "\n",
      "          0       0.04      0.37      0.07        43\n",
      "          1       0.03      0.02      0.02        49\n",
      "          2       0.31      0.09      0.15       337\n",
      "          3       0.48      0.26      0.33       354\n",
      "          4       0.10      0.11      0.10       158\n",
      "          5       0.00      0.00      0.00        24\n",
      "          6       0.00      0.00      0.00        57\n",
      "\n",
      "avg / total       0.29      0.15      0.18      1022\n",
      "\n"
     ]
    },
    {
     "name": "stderr",
     "output_type": "stream",
     "text": [
      "/Users/apple/anaconda/envs/py36/lib/python3.6/site-packages/sklearn/metrics/classification.py:1135: UndefinedMetricWarning: Precision and F-score are ill-defined and being set to 0.0 in labels with no predicted samples.\n",
      "  'precision', 'predicted', average, warn_for)\n"
     ]
    }
   ],
   "source": [
    "print(classification_report(array_y_test,res_ypred))"
   ]
  },
  {
   "cell_type": "code",
   "execution_count": null,
   "metadata": {
    "collapsed": true
   },
   "outputs": [],
   "source": []
  }
 ],
 "metadata": {
  "kernelspec": {
   "display_name": "Python 3",
   "language": "python",
   "name": "python3"
  },
  "language_info": {
   "codemirror_mode": {
    "name": "ipython",
    "version": 3
   },
   "file_extension": ".py",
   "mimetype": "text/x-python",
   "name": "python",
   "nbconvert_exporter": "python",
   "pygments_lexer": "ipython3",
   "version": "3.6.2"
  }
 },
 "nbformat": 4,
 "nbformat_minor": 2
}
