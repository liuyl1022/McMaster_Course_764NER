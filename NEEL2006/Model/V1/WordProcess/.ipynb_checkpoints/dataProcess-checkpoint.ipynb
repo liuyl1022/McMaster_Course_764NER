{
 "cells": [
  {
   "cell_type": "code",
   "execution_count": 2,
   "metadata": {
    "collapsed": true
   },
   "outputs": [],
   "source": [
    "import pandas as pd\n",
    "import numpy as np\n",
    "from nltk.corpus import stopwords\n",
    "import string"
   ]
  },
  {
   "cell_type": "markdown",
   "metadata": {},
   "source": [
    "## Train data process"
   ]
  },
  {
   "cell_type": "code",
   "execution_count": null,
   "metadata": {
    "collapsed": false
   },
   "outputs": [],
   "source": [
    "train_data = pd.read_csv('twitter_training.txt',sep= '|',header = None)"
   ]
  },
  {
   "cell_type": "code",
   "execution_count": null,
   "metadata": {
    "collapsed": false
   },
   "outputs": [],
   "source": [
    "train_data.info()"
   ]
  },
  {
   "cell_type": "code",
   "execution_count": null,
   "metadata": {
    "collapsed": false
   },
   "outputs": [],
   "source": [
    "train_data[4600:4700]"
   ]
  },
  {
   "cell_type": "code",
   "execution_count": null,
   "metadata": {
    "collapsed": false
   },
   "outputs": [],
   "source": [
    "#train_data.drop(train_data.columns[0],axis=1,inplace = True)"
   ]
  },
  {
   "cell_type": "code",
   "execution_count": null,
   "metadata": {
    "collapsed": false
   },
   "outputs": [],
   "source": [
    "#train_data.drop(train_data.columns[0],axis=1,inplace = True)"
   ]
  },
  {
   "cell_type": "code",
   "execution_count": null,
   "metadata": {
    "collapsed": false
   },
   "outputs": [],
   "source": [
    "#train_data.drop(train_data.columns[3],axis=1,inplace = True)"
   ]
  },
  {
   "cell_type": "code",
   "execution_count": null,
   "metadata": {
    "collapsed": false
   },
   "outputs": [],
   "source": [
    "#train_data"
   ]
  },
  {
   "cell_type": "code",
   "execution_count": null,
   "metadata": {
    "collapsed": true
   },
   "outputs": [],
   "source": [
    "original_train = pd.read_table('NEEL2016-training_neel.gs',header = None,delim_whitespace=True)"
   ]
  },
  {
   "cell_type": "code",
   "execution_count": null,
   "metadata": {
    "collapsed": false
   },
   "outputs": [],
   "source": [
    "original_train.drop(original_train.columns[2],axis=1,inplace = True)"
   ]
  },
  {
   "cell_type": "code",
   "execution_count": null,
   "metadata": {
    "collapsed": false
   },
   "outputs": [],
   "source": [
    "original_train.head()"
   ]
  },
  {
   "cell_type": "code",
   "execution_count": null,
   "metadata": {
    "collapsed": true
   },
   "outputs": [],
   "source": [
    "train = pd.concat([train_data, original_train], axis=1)"
   ]
  },
  {
   "cell_type": "code",
   "execution_count": null,
   "metadata": {
    "collapsed": false
   },
   "outputs": [],
   "source": [
    "train"
   ]
  },
  {
   "cell_type": "markdown",
   "metadata": {},
   "source": [
    "## Test data Process"
   ]
  },
  {
   "cell_type": "code",
   "execution_count": 3,
   "metadata": {
    "collapsed": false
   },
   "outputs": [],
   "source": [
    "test_data = pd.read_table('twitter_test.txt',header = None,sep='|')"
   ]
  },
  {
   "cell_type": "code",
   "execution_count": 4,
   "metadata": {
    "collapsed": false
   },
   "outputs": [
    {
     "name": "stdout",
     "output_type": "stream",
     "text": [
      "<class 'pandas.core.frame.DataFrame'>\n",
      "RangeIndex: 1022 entries, 0 to 1021\n",
      "Data columns (total 6 columns):\n",
      "0    0 non-null float64\n",
      "1    1022 non-null int64\n",
      "2    1022 non-null object\n",
      "3    1022 non-null object\n",
      "4    1022 non-null object\n",
      "5    0 non-null float64\n",
      "dtypes: float64(2), int64(1), object(3)\n",
      "memory usage: 48.0+ KB\n"
     ]
    }
   ],
   "source": [
    "test_data.info()"
   ]
  },
  {
   "cell_type": "code",
   "execution_count": 5,
   "metadata": {
    "collapsed": false
   },
   "outputs": [
    {
     "data": {
      "text/html": [
       "<div>\n",
       "<style>\n",
       "    .dataframe thead tr:only-child th {\n",
       "        text-align: right;\n",
       "    }\n",
       "\n",
       "    .dataframe thead th {\n",
       "        text-align: left;\n",
       "    }\n",
       "\n",
       "    .dataframe tbody tr th {\n",
       "        vertical-align: top;\n",
       "    }\n",
       "</style>\n",
       "<table border=\"1\" class=\"dataframe\">\n",
       "  <thead>\n",
       "    <tr style=\"text-align: right;\">\n",
       "      <th></th>\n",
       "      <th>0</th>\n",
       "      <th>1</th>\n",
       "      <th>2</th>\n",
       "      <th>3</th>\n",
       "      <th>4</th>\n",
       "      <th>5</th>\n",
       "    </tr>\n",
       "  </thead>\n",
       "  <tbody>\n",
       "    <tr>\n",
       "      <th>0</th>\n",
       "      <td>NaN</td>\n",
       "      <td>674869443671941120</td>\n",
       "      <td>RT @EntheosShines: Just As Some Parents Have A...</td>\n",
       "      <td>Egyptian</td>\n",
       "      <td>Thing</td>\n",
       "      <td>NaN</td>\n",
       "    </tr>\n",
       "    <tr>\n",
       "      <th>1</th>\n",
       "      <td>NaN</td>\n",
       "      <td>674869443671941120</td>\n",
       "      <td>RT @EntheosShines: Just As Some Parents Have A...</td>\n",
       "      <td>Obama</td>\n",
       "      <td>Person</td>\n",
       "      <td>NaN</td>\n",
       "    </tr>\n",
       "    <tr>\n",
       "      <th>2</th>\n",
       "      <td>NaN</td>\n",
       "      <td>674869443671941120</td>\n",
       "      <td>RT @EntheosShines: Just As Some Parents Have A...</td>\n",
       "      <td>chirofrenzy</td>\n",
       "      <td>Person</td>\n",
       "      <td>NaN</td>\n",
       "    </tr>\n",
       "    <tr>\n",
       "      <th>3</th>\n",
       "      <td>NaN</td>\n",
       "      <td>674869443671941120</td>\n",
       "      <td>RT @EntheosShines: Just As Some Parents Have A...</td>\n",
       "      <td>EntheosShines</td>\n",
       "      <td>Person</td>\n",
       "      <td>NaN</td>\n",
       "    </tr>\n",
       "    <tr>\n",
       "      <th>4</th>\n",
       "      <td>NaN</td>\n",
       "      <td>674869443671941120</td>\n",
       "      <td>RT @EntheosShines: Just As Some Parents Have A...</td>\n",
       "      <td>PatVPeters</td>\n",
       "      <td>Person</td>\n",
       "      <td>NaN</td>\n",
       "    </tr>\n",
       "  </tbody>\n",
       "</table>\n",
       "</div>"
      ],
      "text/plain": [
       "    0                   1                                                  2  \\\n",
       "0 NaN  674869443671941120  RT @EntheosShines: Just As Some Parents Have A...   \n",
       "1 NaN  674869443671941120  RT @EntheosShines: Just As Some Parents Have A...   \n",
       "2 NaN  674869443671941120  RT @EntheosShines: Just As Some Parents Have A...   \n",
       "3 NaN  674869443671941120  RT @EntheosShines: Just As Some Parents Have A...   \n",
       "4 NaN  674869443671941120  RT @EntheosShines: Just As Some Parents Have A...   \n",
       "\n",
       "               3       4   5  \n",
       "0       Egyptian   Thing NaN  \n",
       "1          Obama  Person NaN  \n",
       "2    chirofrenzy  Person NaN  \n",
       "3  EntheosShines  Person NaN  \n",
       "4     PatVPeters  Person NaN  "
      ]
     },
     "execution_count": 5,
     "metadata": {},
     "output_type": "execute_result"
    }
   ],
   "source": [
    "test_data.head(5)"
   ]
  },
  {
   "cell_type": "code",
   "execution_count": 6,
   "metadata": {
    "collapsed": true
   },
   "outputs": [],
   "source": [
    "test_data.drop(test_data.columns[0],axis=1,inplace = True)"
   ]
  },
  {
   "cell_type": "code",
   "execution_count": 7,
   "metadata": {
    "collapsed": true
   },
   "outputs": [],
   "source": [
    "test_data.drop(test_data.columns[0],axis=1,inplace = True)"
   ]
  },
  {
   "cell_type": "code",
   "execution_count": 8,
   "metadata": {
    "collapsed": true
   },
   "outputs": [],
   "source": [
    "test_data.drop(test_data.columns[3],axis=1,inplace = True)"
   ]
  },
  {
   "cell_type": "code",
   "execution_count": 9,
   "metadata": {
    "collapsed": true
   },
   "outputs": [],
   "source": [
    "test_data.columns=['Sentence','Entity','Label']"
   ]
  },
  {
   "cell_type": "code",
   "execution_count": 11,
   "metadata": {
    "collapsed": false
   },
   "outputs": [
    {
     "data": {
      "text/html": [
       "<div>\n",
       "<style>\n",
       "    .dataframe thead tr:only-child th {\n",
       "        text-align: right;\n",
       "    }\n",
       "\n",
       "    .dataframe thead th {\n",
       "        text-align: left;\n",
       "    }\n",
       "\n",
       "    .dataframe tbody tr th {\n",
       "        vertical-align: top;\n",
       "    }\n",
       "</style>\n",
       "<table border=\"1\" class=\"dataframe\">\n",
       "  <thead>\n",
       "    <tr style=\"text-align: right;\">\n",
       "      <th></th>\n",
       "      <th>Sentence</th>\n",
       "      <th>Entity</th>\n",
       "      <th>Label</th>\n",
       "    </tr>\n",
       "  </thead>\n",
       "  <tbody>\n",
       "    <tr>\n",
       "      <th>0</th>\n",
       "      <td>RT @EntheosShines: Just As Some Parents Have A...</td>\n",
       "      <td>Egyptian</td>\n",
       "      <td>Thing</td>\n",
       "    </tr>\n",
       "    <tr>\n",
       "      <th>1</th>\n",
       "      <td>RT @EntheosShines: Just As Some Parents Have A...</td>\n",
       "      <td>Obama</td>\n",
       "      <td>Person</td>\n",
       "    </tr>\n",
       "    <tr>\n",
       "      <th>2</th>\n",
       "      <td>RT @EntheosShines: Just As Some Parents Have A...</td>\n",
       "      <td>chirofrenzy</td>\n",
       "      <td>Person</td>\n",
       "    </tr>\n",
       "    <tr>\n",
       "      <th>3</th>\n",
       "      <td>RT @EntheosShines: Just As Some Parents Have A...</td>\n",
       "      <td>EntheosShines</td>\n",
       "      <td>Person</td>\n",
       "    </tr>\n",
       "    <tr>\n",
       "      <th>4</th>\n",
       "      <td>RT @EntheosShines: Just As Some Parents Have A...</td>\n",
       "      <td>PatVPeters</td>\n",
       "      <td>Person</td>\n",
       "    </tr>\n",
       "    <tr>\n",
       "      <th>5</th>\n",
       "      <td>RT @Rick_OntheRocks: The Ultimate List Of Wher...</td>\n",
       "      <td>Star Wars</td>\n",
       "      <td>Product</td>\n",
       "    </tr>\n",
       "    <tr>\n",
       "      <th>6</th>\n",
       "      <td>RT @Rick_OntheRocks: The Ultimate List Of Wher...</td>\n",
       "      <td>StarWars</td>\n",
       "      <td>Product</td>\n",
       "    </tr>\n",
       "    <tr>\n",
       "      <th>7</th>\n",
       "      <td>RT @Rick_OntheRocks: The Ultimate List Of Wher...</td>\n",
       "      <td>TheForceAwakens</td>\n",
       "      <td>Product</td>\n",
       "    </tr>\n",
       "    <tr>\n",
       "      <th>8</th>\n",
       "      <td>RT @Rick_OntheRocks: The Ultimate List Of Wher...</td>\n",
       "      <td>Rick_OntheRocks</td>\n",
       "      <td>Person</td>\n",
       "    </tr>\n",
       "    <tr>\n",
       "      <th>9</th>\n",
       "      <td>RT @regentsuni: Is the #starwars force strong ...</td>\n",
       "      <td>starwars</td>\n",
       "      <td>Product</td>\n",
       "    </tr>\n",
       "  </tbody>\n",
       "</table>\n",
       "</div>"
      ],
      "text/plain": [
       "                                            Sentence           Entity    Label\n",
       "0  RT @EntheosShines: Just As Some Parents Have A...         Egyptian    Thing\n",
       "1  RT @EntheosShines: Just As Some Parents Have A...            Obama   Person\n",
       "2  RT @EntheosShines: Just As Some Parents Have A...      chirofrenzy   Person\n",
       "3  RT @EntheosShines: Just As Some Parents Have A...    EntheosShines   Person\n",
       "4  RT @EntheosShines: Just As Some Parents Have A...       PatVPeters   Person\n",
       "5  RT @Rick_OntheRocks: The Ultimate List Of Wher...        Star Wars  Product\n",
       "6  RT @Rick_OntheRocks: The Ultimate List Of Wher...         StarWars  Product\n",
       "7  RT @Rick_OntheRocks: The Ultimate List Of Wher...  TheForceAwakens  Product\n",
       "8  RT @Rick_OntheRocks: The Ultimate List Of Wher...  Rick_OntheRocks   Person\n",
       "9  RT @regentsuni: Is the #starwars force strong ...         starwars  Product"
      ]
     },
     "execution_count": 11,
     "metadata": {},
     "output_type": "execute_result"
    }
   ],
   "source": [
    "test_data.head(10)"
   ]
  },
  {
   "cell_type": "markdown",
   "metadata": {},
   "source": [
    "### Delete punctuation and stopwords"
   ]
  },
  {
   "cell_type": "code",
   "execution_count": 12,
   "metadata": {
    "collapsed": false
   },
   "outputs": [],
   "source": [
    "def text_process(sentence):\n",
    "    \"\"\"\n",
    "    Takes in a string of text, then performs the following:\n",
    "    1. Remove all punctuation\n",
    "    2. Remove all stopwords\n",
    "    3. Returns a list of the cleaned text\n",
    "    \"\"\"\n",
    "    # Check characters to see if they are in punctuation\n",
    "    nopunc = [char for char in sentence if char not in string.punctuation]\n",
    "\n",
    "    # Join the characters again to form the string.\n",
    "    nopunc = ''.join(nopunc)\n",
    "    \n",
    "    # Now just remove any stopwords\n",
    "    return [word for word in nopunc.split() if word.lower() not in stopwords.words('english')]"
   ]
  },
  {
   "cell_type": "code",
   "execution_count": 13,
   "metadata": {
    "collapsed": false
   },
   "outputs": [
    {
     "data": {
      "text/plain": [
       "0       [RT, EntheosShines, Parents, Favorite, Child, ...\n",
       "1       [RT, EntheosShines, Parents, Favorite, Child, ...\n",
       "2       [RT, EntheosShines, Parents, Favorite, Child, ...\n",
       "3       [RT, EntheosShines, Parents, Favorite, Child, ...\n",
       "4       [RT, EntheosShines, Parents, Favorite, Child, ...\n",
       "5       [RT, RickOntheRocks, Ultimate, List, Buy, Star...\n",
       "6       [RT, RickOntheRocks, Ultimate, List, Buy, Star...\n",
       "7       [RT, RickOntheRocks, Ultimate, List, Buy, Star...\n",
       "8       [RT, RickOntheRocks, Ultimate, List, Buy, Star...\n",
       "9       [RT, regentsuni, starwars, force, strong, Take...\n",
       "10      [RT, regentsuni, starwars, force, strong, Take...\n",
       "11      [RT, regentsuni, starwars, force, strong, Take...\n",
       "12      [RT, regentsuni, starwars, force, strong, Take...\n",
       "13      [RT, regentsuni, starwars, force, strong, Take...\n",
       "14      [celebrateyourforce, starwars, starwarsbattlef...\n",
       "15      [case, anyone, forgotten, 1, WEEK, StarWars, c...\n",
       "16      [case, anyone, forgotten, 1, WEEK, StarWars, c...\n",
       "17      [case, anyone, forgotten, 1, WEEK, StarWars, c...\n",
       "18      [case, anyone, forgotten, 1, WEEK, StarWars, c...\n",
       "19      [case, anyone, forgotten, 1, WEEK, StarWars, c...\n",
       "20      [MB, DawnCullo, Star, Wars, Force, Awakens, Pr...\n",
       "21      [MB, DawnCullo, Star, Wars, Force, Awakens, Pr...\n",
       "22      [MB, DawnCullo, Star, Wars, Force, Awakens, Pr...\n",
       "23      [MB, DawnCullo, Star, Wars, Force, Awakens, Pr...\n",
       "24      [7, Days, StarWars, TheForceAwakens, httpstcoX...\n",
       "25      [7, Days, StarWars, TheForceAwakens, httpstcoX...\n",
       "26      [Fingers, crossed, lip, service, malick, starw...\n",
       "27      [Fingers, crossed, lip, service, malick, starw...\n",
       "28      [Star, Wars, 1313, might, dead, yet, httpstco5...\n",
       "29      [Star, Wars, 1313, might, dead, yet, httpstco5...\n",
       "                              ...                        \n",
       "992     [see, StarWars, seeing, amazing, movie, go, ba...\n",
       "993     [RT, DeanWye, force, strong, film, TV, trail, ...\n",
       "994     [RT, DeanWye, force, strong, film, TV, trail, ...\n",
       "995     [RT, DeanWye, force, strong, film, TV, trail, ...\n",
       "996     [RT, DeanWye, force, strong, film, TV, trail, ...\n",
       "997     [Ive, asked, talk, nowIve, seen, TheForceAwake...\n",
       "998     [MovieManMenzel, Star, Wars, Force, Awakens, R...\n",
       "999     [MovieManMenzel, Star, Wars, Force, Awakens, R...\n",
       "1000    [MovieManMenzel, Star, Wars, Force, Awakens, R...\n",
       "1001    [MovieManMenzel, Star, Wars, Force, Awakens, R...\n",
       "1002    [MovieManMenzel, Star, Wars, Force, Awakens, R...\n",
       "1003    [MovieManMenzel, Star, Wars, Force, Awakens, R...\n",
       "1004    [RT, IMDb, BoxOffice, starwars, TheForceAwaken...\n",
       "1005    [RT, IMDb, BoxOffice, starwars, TheForceAwaken...\n",
       "1006    [RT, IMDb, BoxOffice, starwars, TheForceAwaken...\n",
       "1007    [TheFilmFile, Review, STAR, WARS, EPISODE, VII...\n",
       "1008    [TheFilmFile, Review, STAR, WARS, EPISODE, VII...\n",
       "1009    [TheFilmFile, Review, STAR, WARS, EPISODE, VII...\n",
       "1010    [TheFilmFile, Review, STAR, WARS, EPISODE, VII...\n",
       "1011    [RT, 702sydney, StarWars, TheForceAwakens, pre...\n",
       "1012    [RT, 702sydney, StarWars, TheForceAwakens, pre...\n",
       "1013    [RT, 702sydney, StarWars, TheForceAwakens, pre...\n",
       "1014    [RT, 702sydney, StarWars, TheForceAwakens, pre...\n",
       "1015                [Star, Wars, Day, httpstcoe27hMipoJo]\n",
       "1016    [RT, akyenebajoey, wish, PulseMania, Xmas, sta...\n",
       "1017    [RT, akyenebajoey, wish, PulseMania, Xmas, sta...\n",
       "1018    [RT, akyenebajoey, wish, PulseMania, Xmas, sta...\n",
       "1019    [RT, akyenebajoey, wish, PulseMania, Xmas, sta...\n",
       "1020    [RT, akyenebajoey, wish, PulseMania, Xmas, sta...\n",
       "1021    [RT, akyenebajoey, wish, PulseMania, Xmas, sta...\n",
       "Name: Sentence, Length: 1022, dtype: object"
      ]
     },
     "execution_count": 13,
     "metadata": {},
     "output_type": "execute_result"
    }
   ],
   "source": [
    "test_data['Sentence'].apply(text_process)"
   ]
  },
  {
   "cell_type": "code",
   "execution_count": 14,
   "metadata": {
    "collapsed": false
   },
   "outputs": [],
   "source": [
    "from sklearn.feature_extraction.text import CountVectorizer"
   ]
  },
  {
   "cell_type": "code",
   "execution_count": 15,
   "metadata": {
    "collapsed": false
   },
   "outputs": [],
   "source": [
    "bow_transformer = CountVectorizer(analyzer = text_process).fit(test_data['Sentence'])"
   ]
  },
  {
   "cell_type": "code",
   "execution_count": 16,
   "metadata": {
    "collapsed": false
   },
   "outputs": [
    {
     "data": {
      "text/plain": [
       "\"✨🌟💫Getting so close, #TheForceAwakens. #StarWars marathon this weekend, yip I'm just that wild and crazy! 🖖🏾🤓🙅🏽 💫🌟✨ https://t.co/GKaSLCuAim\""
      ]
     },
     "execution_count": 16,
     "metadata": {},
     "output_type": "execute_result"
    }
   ],
   "source": [
    "test_data.iloc[77]['Sentence']"
   ]
  },
  {
   "cell_type": "code",
   "execution_count": 17,
   "metadata": {
    "collapsed": false
   },
   "outputs": [
    {
     "data": {
      "text/html": [
       "<div>\n",
       "<style>\n",
       "    .dataframe thead tr:only-child th {\n",
       "        text-align: right;\n",
       "    }\n",
       "\n",
       "    .dataframe thead th {\n",
       "        text-align: left;\n",
       "    }\n",
       "\n",
       "    .dataframe tbody tr th {\n",
       "        vertical-align: top;\n",
       "    }\n",
       "</style>\n",
       "<table border=\"1\" class=\"dataframe\">\n",
       "  <thead>\n",
       "    <tr style=\"text-align: right;\">\n",
       "      <th></th>\n",
       "      <th>Sentence</th>\n",
       "      <th>Entity</th>\n",
       "      <th>Label</th>\n",
       "    </tr>\n",
       "  </thead>\n",
       "  <tbody>\n",
       "    <tr>\n",
       "      <th>0</th>\n",
       "      <td>RT @EntheosShines: Just As Some Parents Have A...</td>\n",
       "      <td>Egyptian</td>\n",
       "      <td>Thing</td>\n",
       "    </tr>\n",
       "    <tr>\n",
       "      <th>1</th>\n",
       "      <td>RT @EntheosShines: Just As Some Parents Have A...</td>\n",
       "      <td>Obama</td>\n",
       "      <td>Person</td>\n",
       "    </tr>\n",
       "    <tr>\n",
       "      <th>2</th>\n",
       "      <td>RT @EntheosShines: Just As Some Parents Have A...</td>\n",
       "      <td>chirofrenzy</td>\n",
       "      <td>Person</td>\n",
       "    </tr>\n",
       "    <tr>\n",
       "      <th>3</th>\n",
       "      <td>RT @EntheosShines: Just As Some Parents Have A...</td>\n",
       "      <td>EntheosShines</td>\n",
       "      <td>Person</td>\n",
       "    </tr>\n",
       "    <tr>\n",
       "      <th>4</th>\n",
       "      <td>RT @EntheosShines: Just As Some Parents Have A...</td>\n",
       "      <td>PatVPeters</td>\n",
       "      <td>Person</td>\n",
       "    </tr>\n",
       "  </tbody>\n",
       "</table>\n",
       "</div>"
      ],
      "text/plain": [
       "                                            Sentence         Entity   Label\n",
       "0  RT @EntheosShines: Just As Some Parents Have A...       Egyptian   Thing\n",
       "1  RT @EntheosShines: Just As Some Parents Have A...          Obama  Person\n",
       "2  RT @EntheosShines: Just As Some Parents Have A...    chirofrenzy  Person\n",
       "3  RT @EntheosShines: Just As Some Parents Have A...  EntheosShines  Person\n",
       "4  RT @EntheosShines: Just As Some Parents Have A...     PatVPeters  Person"
      ]
     },
     "execution_count": 17,
     "metadata": {},
     "output_type": "execute_result"
    }
   ],
   "source": [
    "test_data.head()"
   ]
  },
  {
   "cell_type": "code",
   "execution_count": 18,
   "metadata": {
    "collapsed": false
   },
   "outputs": [
    {
     "name": "stdout",
     "output_type": "stream",
     "text": [
      "<class 'pandas.core.frame.DataFrame'>\n",
      "RangeIndex: 1022 entries, 0 to 1021\n",
      "Data columns (total 3 columns):\n",
      "Sentence    1022 non-null object\n",
      "Entity      1022 non-null object\n",
      "Label       1022 non-null object\n",
      "dtypes: object(3)\n",
      "memory usage: 24.0+ KB\n"
     ]
    }
   ],
   "source": [
    "test_data.info()"
   ]
  },
  {
   "cell_type": "code",
   "execution_count": 19,
   "metadata": {
    "collapsed": true
   },
   "outputs": [],
   "source": [
    "def whetherIsCapital(entity):\n",
    "    if entity.islower() == True:\n",
    "        return '0'\n",
    "    else:\n",
    "        return '1'"
   ]
  },
  {
   "cell_type": "code",
   "execution_count": 20,
   "metadata": {
    "collapsed": true
   },
   "outputs": [],
   "source": [
    "test_data['WhetherIsCapital'] = test_data['Entity'].map(whetherIsCapital)"
   ]
  },
  {
   "cell_type": "code",
   "execution_count": 21,
   "metadata": {
    "collapsed": false
   },
   "outputs": [
    {
     "name": "stdout",
     "output_type": "stream",
     "text": [
      "<class 'pandas.core.frame.DataFrame'>\n",
      "RangeIndex: 1022 entries, 0 to 1021\n",
      "Data columns (total 4 columns):\n",
      "Sentence            1022 non-null object\n",
      "Entity              1022 non-null object\n",
      "Label               1022 non-null object\n",
      "WhetherIsCapital    1022 non-null object\n",
      "dtypes: object(4)\n",
      "memory usage: 32.0+ KB\n"
     ]
    }
   ],
   "source": [
    "test_data.info()"
   ]
  },
  {
   "cell_type": "code",
   "execution_count": 22,
   "metadata": {
    "collapsed": false
   },
   "outputs": [
    {
     "data": {
      "text/html": [
       "<div>\n",
       "<style>\n",
       "    .dataframe thead tr:only-child th {\n",
       "        text-align: right;\n",
       "    }\n",
       "\n",
       "    .dataframe thead th {\n",
       "        text-align: left;\n",
       "    }\n",
       "\n",
       "    .dataframe tbody tr th {\n",
       "        vertical-align: top;\n",
       "    }\n",
       "</style>\n",
       "<table border=\"1\" class=\"dataframe\">\n",
       "  <thead>\n",
       "    <tr style=\"text-align: right;\">\n",
       "      <th></th>\n",
       "      <th>Sentence</th>\n",
       "      <th>Entity</th>\n",
       "      <th>Label</th>\n",
       "      <th>WhetherIsCapital</th>\n",
       "    </tr>\n",
       "  </thead>\n",
       "  <tbody>\n",
       "    <tr>\n",
       "      <th>0</th>\n",
       "      <td>RT @EntheosShines: Just As Some Parents Have A...</td>\n",
       "      <td>Egyptian</td>\n",
       "      <td>Thing</td>\n",
       "      <td>1</td>\n",
       "    </tr>\n",
       "    <tr>\n",
       "      <th>1</th>\n",
       "      <td>RT @EntheosShines: Just As Some Parents Have A...</td>\n",
       "      <td>Obama</td>\n",
       "      <td>Person</td>\n",
       "      <td>1</td>\n",
       "    </tr>\n",
       "    <tr>\n",
       "      <th>2</th>\n",
       "      <td>RT @EntheosShines: Just As Some Parents Have A...</td>\n",
       "      <td>chirofrenzy</td>\n",
       "      <td>Person</td>\n",
       "      <td>0</td>\n",
       "    </tr>\n",
       "    <tr>\n",
       "      <th>3</th>\n",
       "      <td>RT @EntheosShines: Just As Some Parents Have A...</td>\n",
       "      <td>EntheosShines</td>\n",
       "      <td>Person</td>\n",
       "      <td>1</td>\n",
       "    </tr>\n",
       "    <tr>\n",
       "      <th>4</th>\n",
       "      <td>RT @EntheosShines: Just As Some Parents Have A...</td>\n",
       "      <td>PatVPeters</td>\n",
       "      <td>Person</td>\n",
       "      <td>1</td>\n",
       "    </tr>\n",
       "    <tr>\n",
       "      <th>5</th>\n",
       "      <td>RT @Rick_OntheRocks: The Ultimate List Of Wher...</td>\n",
       "      <td>Star Wars</td>\n",
       "      <td>Product</td>\n",
       "      <td>1</td>\n",
       "    </tr>\n",
       "    <tr>\n",
       "      <th>6</th>\n",
       "      <td>RT @Rick_OntheRocks: The Ultimate List Of Wher...</td>\n",
       "      <td>StarWars</td>\n",
       "      <td>Product</td>\n",
       "      <td>1</td>\n",
       "    </tr>\n",
       "    <tr>\n",
       "      <th>7</th>\n",
       "      <td>RT @Rick_OntheRocks: The Ultimate List Of Wher...</td>\n",
       "      <td>TheForceAwakens</td>\n",
       "      <td>Product</td>\n",
       "      <td>1</td>\n",
       "    </tr>\n",
       "    <tr>\n",
       "      <th>8</th>\n",
       "      <td>RT @Rick_OntheRocks: The Ultimate List Of Wher...</td>\n",
       "      <td>Rick_OntheRocks</td>\n",
       "      <td>Person</td>\n",
       "      <td>1</td>\n",
       "    </tr>\n",
       "    <tr>\n",
       "      <th>9</th>\n",
       "      <td>RT @regentsuni: Is the #starwars force strong ...</td>\n",
       "      <td>starwars</td>\n",
       "      <td>Product</td>\n",
       "      <td>0</td>\n",
       "    </tr>\n",
       "  </tbody>\n",
       "</table>\n",
       "</div>"
      ],
      "text/plain": [
       "                                            Sentence           Entity  \\\n",
       "0  RT @EntheosShines: Just As Some Parents Have A...         Egyptian   \n",
       "1  RT @EntheosShines: Just As Some Parents Have A...            Obama   \n",
       "2  RT @EntheosShines: Just As Some Parents Have A...      chirofrenzy   \n",
       "3  RT @EntheosShines: Just As Some Parents Have A...    EntheosShines   \n",
       "4  RT @EntheosShines: Just As Some Parents Have A...       PatVPeters   \n",
       "5  RT @Rick_OntheRocks: The Ultimate List Of Wher...        Star Wars   \n",
       "6  RT @Rick_OntheRocks: The Ultimate List Of Wher...         StarWars   \n",
       "7  RT @Rick_OntheRocks: The Ultimate List Of Wher...  TheForceAwakens   \n",
       "8  RT @Rick_OntheRocks: The Ultimate List Of Wher...  Rick_OntheRocks   \n",
       "9  RT @regentsuni: Is the #starwars force strong ...         starwars   \n",
       "\n",
       "     Label WhetherIsCapital  \n",
       "0    Thing                1  \n",
       "1   Person                1  \n",
       "2   Person                0  \n",
       "3   Person                1  \n",
       "4   Person                1  \n",
       "5  Product                1  \n",
       "6  Product                1  \n",
       "7  Product                1  \n",
       "8   Person                1  \n",
       "9  Product                0  "
      ]
     },
     "execution_count": 22,
     "metadata": {},
     "output_type": "execute_result"
    }
   ],
   "source": [
    "test_data.head(10)"
   ]
  },
  {
   "cell_type": "code",
   "execution_count": 23,
   "metadata": {
    "collapsed": true
   },
   "outputs": [],
   "source": [
    "def calculateLength(Sentence):\n",
    "    return len(Sentence)"
   ]
  },
  {
   "cell_type": "code",
   "execution_count": 24,
   "metadata": {
    "collapsed": true
   },
   "outputs": [],
   "source": [
    "test_data['SentenceLength'] = test_data['Sentence'].map(calculateLength)"
   ]
  },
  {
   "cell_type": "code",
   "execution_count": 26,
   "metadata": {
    "collapsed": false
   },
   "outputs": [
    {
     "data": {
      "text/html": [
       "<div>\n",
       "<style>\n",
       "    .dataframe thead tr:only-child th {\n",
       "        text-align: right;\n",
       "    }\n",
       "\n",
       "    .dataframe thead th {\n",
       "        text-align: left;\n",
       "    }\n",
       "\n",
       "    .dataframe tbody tr th {\n",
       "        vertical-align: top;\n",
       "    }\n",
       "</style>\n",
       "<table border=\"1\" class=\"dataframe\">\n",
       "  <thead>\n",
       "    <tr style=\"text-align: right;\">\n",
       "      <th></th>\n",
       "      <th>Sentence</th>\n",
       "      <th>Entity</th>\n",
       "      <th>Label</th>\n",
       "      <th>WhetherIsCapital</th>\n",
       "      <th>SentenceLength</th>\n",
       "    </tr>\n",
       "  </thead>\n",
       "  <tbody>\n",
       "    <tr>\n",
       "      <th>0</th>\n",
       "      <td>RT @EntheosShines: Just As Some Parents Have A...</td>\n",
       "      <td>Egyptian</td>\n",
       "      <td>Thing</td>\n",
       "      <td>1</td>\n",
       "      <td>140</td>\n",
       "    </tr>\n",
       "    <tr>\n",
       "      <th>1</th>\n",
       "      <td>RT @EntheosShines: Just As Some Parents Have A...</td>\n",
       "      <td>Obama</td>\n",
       "      <td>Person</td>\n",
       "      <td>1</td>\n",
       "      <td>140</td>\n",
       "    </tr>\n",
       "    <tr>\n",
       "      <th>2</th>\n",
       "      <td>RT @EntheosShines: Just As Some Parents Have A...</td>\n",
       "      <td>chirofrenzy</td>\n",
       "      <td>Person</td>\n",
       "      <td>0</td>\n",
       "      <td>140</td>\n",
       "    </tr>\n",
       "    <tr>\n",
       "      <th>3</th>\n",
       "      <td>RT @EntheosShines: Just As Some Parents Have A...</td>\n",
       "      <td>EntheosShines</td>\n",
       "      <td>Person</td>\n",
       "      <td>1</td>\n",
       "      <td>140</td>\n",
       "    </tr>\n",
       "    <tr>\n",
       "      <th>4</th>\n",
       "      <td>RT @EntheosShines: Just As Some Parents Have A...</td>\n",
       "      <td>PatVPeters</td>\n",
       "      <td>Person</td>\n",
       "      <td>1</td>\n",
       "      <td>140</td>\n",
       "    </tr>\n",
       "    <tr>\n",
       "      <th>5</th>\n",
       "      <td>RT @Rick_OntheRocks: The Ultimate List Of Wher...</td>\n",
       "      <td>Star Wars</td>\n",
       "      <td>Product</td>\n",
       "      <td>1</td>\n",
       "      <td>140</td>\n",
       "    </tr>\n",
       "    <tr>\n",
       "      <th>6</th>\n",
       "      <td>RT @Rick_OntheRocks: The Ultimate List Of Wher...</td>\n",
       "      <td>StarWars</td>\n",
       "      <td>Product</td>\n",
       "      <td>1</td>\n",
       "      <td>140</td>\n",
       "    </tr>\n",
       "    <tr>\n",
       "      <th>7</th>\n",
       "      <td>RT @Rick_OntheRocks: The Ultimate List Of Wher...</td>\n",
       "      <td>TheForceAwakens</td>\n",
       "      <td>Product</td>\n",
       "      <td>1</td>\n",
       "      <td>140</td>\n",
       "    </tr>\n",
       "    <tr>\n",
       "      <th>8</th>\n",
       "      <td>RT @Rick_OntheRocks: The Ultimate List Of Wher...</td>\n",
       "      <td>Rick_OntheRocks</td>\n",
       "      <td>Person</td>\n",
       "      <td>1</td>\n",
       "      <td>140</td>\n",
       "    </tr>\n",
       "    <tr>\n",
       "      <th>9</th>\n",
       "      <td>RT @regentsuni: Is the #starwars force strong ...</td>\n",
       "      <td>starwars</td>\n",
       "      <td>Product</td>\n",
       "      <td>0</td>\n",
       "      <td>140</td>\n",
       "    </tr>\n",
       "  </tbody>\n",
       "</table>\n",
       "</div>"
      ],
      "text/plain": [
       "                                            Sentence           Entity  \\\n",
       "0  RT @EntheosShines: Just As Some Parents Have A...         Egyptian   \n",
       "1  RT @EntheosShines: Just As Some Parents Have A...            Obama   \n",
       "2  RT @EntheosShines: Just As Some Parents Have A...      chirofrenzy   \n",
       "3  RT @EntheosShines: Just As Some Parents Have A...    EntheosShines   \n",
       "4  RT @EntheosShines: Just As Some Parents Have A...       PatVPeters   \n",
       "5  RT @Rick_OntheRocks: The Ultimate List Of Wher...        Star Wars   \n",
       "6  RT @Rick_OntheRocks: The Ultimate List Of Wher...         StarWars   \n",
       "7  RT @Rick_OntheRocks: The Ultimate List Of Wher...  TheForceAwakens   \n",
       "8  RT @Rick_OntheRocks: The Ultimate List Of Wher...  Rick_OntheRocks   \n",
       "9  RT @regentsuni: Is the #starwars force strong ...         starwars   \n",
       "\n",
       "     Label WhetherIsCapital  SentenceLength  \n",
       "0    Thing                1             140  \n",
       "1   Person                1             140  \n",
       "2   Person                0             140  \n",
       "3   Person                1             140  \n",
       "4   Person                1             140  \n",
       "5  Product                1             140  \n",
       "6  Product                1             140  \n",
       "7  Product                1             140  \n",
       "8   Person                1             140  \n",
       "9  Product                0             140  "
      ]
     },
     "execution_count": 26,
     "metadata": {},
     "output_type": "execute_result"
    }
   ],
   "source": [
    "test_data.head(10)"
   ]
  },
  {
   "cell_type": "markdown",
   "metadata": {},
   "source": [
    "### Delete URL"
   ]
  },
  {
   "cell_type": "code",
   "execution_count": 27,
   "metadata": {
    "collapsed": false
   },
   "outputs": [],
   "source": [
    "def delete_url(list1):\n",
    "    new = []\n",
    "    for word in list1:\n",
    "        if (word.startswith('https') == False):\n",
    "            new.append(word)\n",
    "    return new"
   ]
  },
  {
   "cell_type": "code",
   "execution_count": 32,
   "metadata": {
    "collapsed": false
   },
   "outputs": [],
   "source": [
    "def sentence_delete_url(sentence):\n",
    "    word = sentence.split()\n",
    "    newlist = delete_url(word)\n",
    "    newsentence = ' '.join(newlist)\n",
    "    return newsentence"
   ]
  },
  {
   "cell_type": "code",
   "execution_count": 33,
   "metadata": {
    "collapsed": false
   },
   "outputs": [],
   "source": [
    "test_data['NewSentence']=test_data['Sentence'].map(sentence_delete_url)"
   ]
  },
  {
   "cell_type": "code",
   "execution_count": 38,
   "metadata": {
    "collapsed": false
   },
   "outputs": [
    {
     "data": {
      "text/plain": [
       "'Just in case anyone has forgotten... 1 WEEK until #StarWars comes out @LAriola25 @Breeskiis @NatalieBrookeJ @bennyB522'"
      ]
     },
     "execution_count": 38,
     "metadata": {},
     "output_type": "execute_result"
    }
   ],
   "source": [
    "test_data.iloc[17]['NewSentence']"
   ]
  },
  {
   "cell_type": "code",
   "execution_count": 39,
   "metadata": {
    "collapsed": true
   },
   "outputs": [],
   "source": [
    "test_data['NewLength']=test_data['NewSentence'].map(calculateLength)"
   ]
  },
  {
   "cell_type": "code",
   "execution_count": 47,
   "metadata": {
    "collapsed": false
   },
   "outputs": [],
   "source": [
    "#Delete emoji\n",
    "\n",
    "import re\n",
    "\n",
    "emoji_pattern = re.compile(u'[\\U00010000-\\U0010ffff]')\n",
    "\n",
    "def remove_emoji(text):\n",
    "    return emoji_pattern.sub(r'', text)"
   ]
  },
  {
   "cell_type": "code",
   "execution_count": 48,
   "metadata": {
    "collapsed": true
   },
   "outputs": [],
   "source": [
    "test_data['FinalSentence']=test_data['NewSentence'].map(remove_emoji)"
   ]
  },
  {
   "cell_type": "code",
   "execution_count": 51,
   "metadata": {
    "collapsed": false
   },
   "outputs": [
    {
     "data": {
      "text/plain": [
       "'RT @OliveaSea: Star wars inspired makeup look#Tutorial #Starwars #Theforceawakens #Starwarsmakeup #beauty #Cosmetics https://t.co…'"
      ]
     },
     "execution_count": 51,
     "metadata": {},
     "output_type": "execute_result"
    }
   ],
   "source": [
    "test_data.iloc[144]['FinalSentence']"
   ]
  },
  {
   "cell_type": "markdown",
   "metadata": {},
   "source": [
    "#### Sentence to sent2vec"
   ]
  },
  {
   "cell_type": "code",
   "execution_count": null,
   "metadata": {
    "collapsed": true
   },
   "outputs": [],
   "source": []
  }
 ],
 "metadata": {
  "kernelspec": {
   "display_name": "Python 3",
   "language": "python",
   "name": "python3"
  },
  "language_info": {
   "codemirror_mode": {
    "name": "ipython",
    "version": 3
   },
   "file_extension": ".py",
   "mimetype": "text/x-python",
   "name": "python",
   "nbconvert_exporter": "python",
   "pygments_lexer": "ipython3",
   "version": "3.6.2"
  }
 },
 "nbformat": 4,
 "nbformat_minor": 2
}
