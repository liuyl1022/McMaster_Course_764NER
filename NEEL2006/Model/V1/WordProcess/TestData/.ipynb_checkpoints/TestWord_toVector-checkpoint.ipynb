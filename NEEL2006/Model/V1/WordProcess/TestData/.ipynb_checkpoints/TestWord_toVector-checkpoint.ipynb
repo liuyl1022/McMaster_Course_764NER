{
 "cells": [
  {
   "cell_type": "code",
   "execution_count": 1,
   "metadata": {
    "collapsed": true
   },
   "outputs": [],
   "source": [
    "from gensim.models import word2vec\n",
    "import numpy as np\n",
    "from gensim.models import doc2vec\n",
    "import pandas as pd"
   ]
  },
  {
   "cell_type": "markdown",
   "metadata": {},
   "source": [
    "### test Entity data"
   ]
  },
  {
   "cell_type": "code",
   "execution_count": 13,
   "metadata": {
    "collapsed": false
   },
   "outputs": [],
   "source": [
    "word_test = word2vec.Text8Corpus('test_entity.txt')\n",
    "DOC_test_nDim = 30\n",
    "model_DOC_test = word2vec.Word2Vec(word_test,size = DOC_test_nDim, min_count=0)\n",
    "model_DOC_test.save('entity-test_model')"
   ]
  },
  {
   "cell_type": "code",
   "execution_count": 14,
   "metadata": {
    "collapsed": false
   },
   "outputs": [
    {
     "name": "stderr",
     "output_type": "stream",
     "text": [
      "/Users/apple/anaconda/envs/py36/lib/python3.6/site-packages/ipykernel_launcher.py:1: DeprecationWarning: Call to deprecated `similarity` (Method will be removed in 4.0.0, use self.wv.similarity() instead).\n",
      "  \"\"\"Entry point for launching an IPython kernel.\n"
     ]
    },
    {
     "data": {
      "text/plain": [
       "0.05380954021381712"
      ]
     },
     "execution_count": 14,
     "metadata": {},
     "output_type": "execute_result"
    }
   ],
   "source": [
    "model_DOC_test.similarity('Obama','Regent')"
   ]
  },
  {
   "cell_type": "code",
   "execution_count": 16,
   "metadata": {
    "collapsed": false
   },
   "outputs": [
    {
     "name": "stderr",
     "output_type": "stream",
     "text": [
      "/Users/apple/anaconda/envs/py36/lib/python3.6/site-packages/ipykernel_launcher.py:1: DeprecationWarning: Call to deprecated `__getitem__` (Method will be removed in 4.0.0, use self.wv.__getitem__() instead).\n",
      "  \"\"\"Entry point for launching an IPython kernel.\n"
     ]
    },
    {
     "data": {
      "text/plain": [
       "array([-0.00358698,  0.00825558,  0.01000657, -0.01121948, -0.00611889,\n",
       "        0.0100502 , -0.01282815, -0.01358646, -0.00259741,  0.01283388,\n",
       "       -0.01457858,  0.00260822, -0.00295308,  0.00185217, -0.00279383,\n",
       "       -0.00546903, -0.01236994,  0.00231605, -0.00052707, -0.00988279,\n",
       "        0.00774956, -0.01217433, -0.00118884,  0.01482905, -0.01278821,\n",
       "        0.00825629,  0.00059616,  0.00044476,  0.00596473,  0.01208534], dtype=float32)"
      ]
     },
     "execution_count": 16,
     "metadata": {},
     "output_type": "execute_result"
    }
   ],
   "source": [
    "model_DOC_test['Star_Wars']"
   ]
  },
  {
   "cell_type": "code",
   "execution_count": 18,
   "metadata": {
    "collapsed": true
   },
   "outputs": [],
   "source": [
    "def modelToVector(model, file):\n",
    " \n",
    "    new = []\n",
    "    f = open(file, 'r')\n",
    "    lines = f.readlines()\n",
    "    f.close()\n",
    "    \n",
    "    for i in lines:\n",
    "        x = i.strip('\\n')\n",
    "        array = model[x]\n",
    "        new.append(array)\n",
    "\n",
    "    return new"
   ]
  },
  {
   "cell_type": "code",
   "execution_count": 19,
   "metadata": {
    "collapsed": false
   },
   "outputs": [
    {
     "name": "stderr",
     "output_type": "stream",
     "text": [
      "/Users/apple/anaconda/envs/py36/lib/python3.6/site-packages/ipykernel_launcher.py:10: DeprecationWarning: Call to deprecated `__getitem__` (Method will be removed in 4.0.0, use self.wv.__getitem__() instead).\n",
      "  # Remove the CWD from sys.path while we load stuff.\n"
     ]
    }
   ],
   "source": [
    "Vector_entity_test = modelToVector(model_DOC_test,'test_entity.txt')"
   ]
  },
  {
   "cell_type": "code",
   "execution_count": 20,
   "metadata": {
    "collapsed": false
   },
   "outputs": [
    {
     "data": {
      "text/plain": [
       "1022"
      ]
     },
     "execution_count": 20,
     "metadata": {},
     "output_type": "execute_result"
    }
   ],
   "source": [
    "len(Vector_entity_test)"
   ]
  },
  {
   "cell_type": "code",
   "execution_count": 21,
   "metadata": {
    "collapsed": false
   },
   "outputs": [
    {
     "data": {
      "text/plain": [
       "list"
      ]
     },
     "execution_count": 21,
     "metadata": {},
     "output_type": "execute_result"
    }
   ],
   "source": [
    "type(Vector_entity_test)"
   ]
  },
  {
   "cell_type": "code",
   "execution_count": 22,
   "metadata": {
    "collapsed": true
   },
   "outputs": [],
   "source": [
    "TestEntity_df = pd.DataFrame(Vector_entity_test,columns=None)"
   ]
  },
  {
   "cell_type": "code",
   "execution_count": 23,
   "metadata": {
    "collapsed": false
   },
   "outputs": [
    {
     "data": {
      "text/html": [
       "<div>\n",
       "<style>\n",
       "    .dataframe thead tr:only-child th {\n",
       "        text-align: right;\n",
       "    }\n",
       "\n",
       "    .dataframe thead th {\n",
       "        text-align: left;\n",
       "    }\n",
       "\n",
       "    .dataframe tbody tr th {\n",
       "        vertical-align: top;\n",
       "    }\n",
       "</style>\n",
       "<table border=\"1\" class=\"dataframe\">\n",
       "  <thead>\n",
       "    <tr style=\"text-align: right;\">\n",
       "      <th></th>\n",
       "      <th>0</th>\n",
       "      <th>1</th>\n",
       "      <th>2</th>\n",
       "      <th>3</th>\n",
       "      <th>4</th>\n",
       "      <th>5</th>\n",
       "      <th>6</th>\n",
       "      <th>7</th>\n",
       "      <th>8</th>\n",
       "      <th>9</th>\n",
       "      <th>...</th>\n",
       "      <th>20</th>\n",
       "      <th>21</th>\n",
       "      <th>22</th>\n",
       "      <th>23</th>\n",
       "      <th>24</th>\n",
       "      <th>25</th>\n",
       "      <th>26</th>\n",
       "      <th>27</th>\n",
       "      <th>28</th>\n",
       "      <th>29</th>\n",
       "    </tr>\n",
       "  </thead>\n",
       "  <tbody>\n",
       "    <tr>\n",
       "      <th>0</th>\n",
       "      <td>0.009079</td>\n",
       "      <td>0.002616</td>\n",
       "      <td>-0.009022</td>\n",
       "      <td>0.002755</td>\n",
       "      <td>0.015635</td>\n",
       "      <td>0.008183</td>\n",
       "      <td>-0.004521</td>\n",
       "      <td>0.012645</td>\n",
       "      <td>-0.013167</td>\n",
       "      <td>0.004201</td>\n",
       "      <td>...</td>\n",
       "      <td>0.013837</td>\n",
       "      <td>0.009801</td>\n",
       "      <td>-0.012661</td>\n",
       "      <td>-0.010237</td>\n",
       "      <td>0.000445</td>\n",
       "      <td>0.008965</td>\n",
       "      <td>0.000660</td>\n",
       "      <td>0.003572</td>\n",
       "      <td>0.003650</td>\n",
       "      <td>0.013173</td>\n",
       "    </tr>\n",
       "    <tr>\n",
       "      <th>1</th>\n",
       "      <td>0.002747</td>\n",
       "      <td>0.014417</td>\n",
       "      <td>0.015984</td>\n",
       "      <td>0.010029</td>\n",
       "      <td>-0.011487</td>\n",
       "      <td>0.010453</td>\n",
       "      <td>-0.006467</td>\n",
       "      <td>-0.011284</td>\n",
       "      <td>0.003901</td>\n",
       "      <td>0.009043</td>\n",
       "      <td>...</td>\n",
       "      <td>0.012572</td>\n",
       "      <td>-0.004769</td>\n",
       "      <td>0.013365</td>\n",
       "      <td>-0.013271</td>\n",
       "      <td>0.011573</td>\n",
       "      <td>0.005813</td>\n",
       "      <td>0.000987</td>\n",
       "      <td>0.010081</td>\n",
       "      <td>-0.008665</td>\n",
       "      <td>0.005939</td>\n",
       "    </tr>\n",
       "    <tr>\n",
       "      <th>2</th>\n",
       "      <td>-0.010846</td>\n",
       "      <td>0.002876</td>\n",
       "      <td>0.006696</td>\n",
       "      <td>-0.004381</td>\n",
       "      <td>-0.007701</td>\n",
       "      <td>-0.005989</td>\n",
       "      <td>0.013982</td>\n",
       "      <td>0.000271</td>\n",
       "      <td>0.000721</td>\n",
       "      <td>0.006808</td>\n",
       "      <td>...</td>\n",
       "      <td>0.004168</td>\n",
       "      <td>0.011815</td>\n",
       "      <td>-0.015800</td>\n",
       "      <td>-0.013429</td>\n",
       "      <td>-0.007059</td>\n",
       "      <td>-0.012902</td>\n",
       "      <td>0.002170</td>\n",
       "      <td>0.010749</td>\n",
       "      <td>0.004149</td>\n",
       "      <td>0.009423</td>\n",
       "    </tr>\n",
       "    <tr>\n",
       "      <th>3</th>\n",
       "      <td>0.005587</td>\n",
       "      <td>0.012313</td>\n",
       "      <td>-0.008079</td>\n",
       "      <td>-0.000046</td>\n",
       "      <td>-0.011994</td>\n",
       "      <td>0.015321</td>\n",
       "      <td>-0.004675</td>\n",
       "      <td>0.012182</td>\n",
       "      <td>0.008177</td>\n",
       "      <td>0.003287</td>\n",
       "      <td>...</td>\n",
       "      <td>0.000699</td>\n",
       "      <td>-0.016382</td>\n",
       "      <td>-0.003823</td>\n",
       "      <td>-0.000998</td>\n",
       "      <td>-0.013225</td>\n",
       "      <td>-0.016639</td>\n",
       "      <td>-0.016288</td>\n",
       "      <td>-0.014748</td>\n",
       "      <td>-0.007637</td>\n",
       "      <td>-0.012969</td>\n",
       "    </tr>\n",
       "    <tr>\n",
       "      <th>4</th>\n",
       "      <td>-0.003343</td>\n",
       "      <td>-0.009941</td>\n",
       "      <td>0.010609</td>\n",
       "      <td>0.007976</td>\n",
       "      <td>-0.012446</td>\n",
       "      <td>-0.015510</td>\n",
       "      <td>-0.012789</td>\n",
       "      <td>0.012785</td>\n",
       "      <td>0.010317</td>\n",
       "      <td>0.002852</td>\n",
       "      <td>...</td>\n",
       "      <td>0.002548</td>\n",
       "      <td>0.012481</td>\n",
       "      <td>0.008529</td>\n",
       "      <td>-0.013702</td>\n",
       "      <td>-0.007623</td>\n",
       "      <td>-0.012652</td>\n",
       "      <td>0.003730</td>\n",
       "      <td>-0.016186</td>\n",
       "      <td>-0.015747</td>\n",
       "      <td>0.001988</td>\n",
       "    </tr>\n",
       "  </tbody>\n",
       "</table>\n",
       "<p>5 rows × 30 columns</p>\n",
       "</div>"
      ],
      "text/plain": [
       "         0         1         2         3         4         5         6   \\\n",
       "0  0.009079  0.002616 -0.009022  0.002755  0.015635  0.008183 -0.004521   \n",
       "1  0.002747  0.014417  0.015984  0.010029 -0.011487  0.010453 -0.006467   \n",
       "2 -0.010846  0.002876  0.006696 -0.004381 -0.007701 -0.005989  0.013982   \n",
       "3  0.005587  0.012313 -0.008079 -0.000046 -0.011994  0.015321 -0.004675   \n",
       "4 -0.003343 -0.009941  0.010609  0.007976 -0.012446 -0.015510 -0.012789   \n",
       "\n",
       "         7         8         9     ...           20        21        22  \\\n",
       "0  0.012645 -0.013167  0.004201    ...     0.013837  0.009801 -0.012661   \n",
       "1 -0.011284  0.003901  0.009043    ...     0.012572 -0.004769  0.013365   \n",
       "2  0.000271  0.000721  0.006808    ...     0.004168  0.011815 -0.015800   \n",
       "3  0.012182  0.008177  0.003287    ...     0.000699 -0.016382 -0.003823   \n",
       "4  0.012785  0.010317  0.002852    ...     0.002548  0.012481  0.008529   \n",
       "\n",
       "         23        24        25        26        27        28        29  \n",
       "0 -0.010237  0.000445  0.008965  0.000660  0.003572  0.003650  0.013173  \n",
       "1 -0.013271  0.011573  0.005813  0.000987  0.010081 -0.008665  0.005939  \n",
       "2 -0.013429 -0.007059 -0.012902  0.002170  0.010749  0.004149  0.009423  \n",
       "3 -0.000998 -0.013225 -0.016639 -0.016288 -0.014748 -0.007637 -0.012969  \n",
       "4 -0.013702 -0.007623 -0.012652  0.003730 -0.016186 -0.015747  0.001988  \n",
       "\n",
       "[5 rows x 30 columns]"
      ]
     },
     "execution_count": 23,
     "metadata": {},
     "output_type": "execute_result"
    }
   ],
   "source": [
    "TestEntity_df.head(5)"
   ]
  },
  {
   "cell_type": "code",
   "execution_count": 24,
   "metadata": {
    "collapsed": true
   },
   "outputs": [],
   "source": [
    "TestEntity_df.to_csv('EntityVector.txt',header=None,index = False)"
   ]
  },
  {
   "cell_type": "code",
   "execution_count": null,
   "metadata": {
    "collapsed": true
   },
   "outputs": [],
   "source": []
  },
  {
   "cell_type": "code",
   "execution_count": null,
   "metadata": {
    "collapsed": true
   },
   "outputs": [],
   "source": []
  },
  {
   "cell_type": "markdown",
   "metadata": {},
   "source": [
    "### test Sentence data"
   ]
  },
  {
   "cell_type": "code",
   "execution_count": 2,
   "metadata": {
    "collapsed": true
   },
   "outputs": [],
   "source": [
    "f = open('test_sentence.txt','r')\n",
    "lines = f.readlines()"
   ]
  },
  {
   "cell_type": "code",
   "execution_count": 3,
   "metadata": {
    "collapsed": false
   },
   "outputs": [],
   "source": [
    "i=1\n",
    "for line in lines:\n",
    "    name=str(i)+\".txt\"\n",
    "    f_write = open(\"TestSentence/\"+name,'w')\n",
    "    f_write.write(line)\n",
    "    f_write.close()\n",
    "    i = i+1"
   ]
  },
  {
   "cell_type": "code",
   "execution_count": null,
   "metadata": {
    "collapsed": true
   },
   "outputs": [],
   "source": []
  }
 ],
 "metadata": {
  "kernelspec": {
   "display_name": "Python 3",
   "language": "python",
   "name": "python3"
  },
  "language_info": {
   "codemirror_mode": {
    "name": "ipython",
    "version": 3
   },
   "file_extension": ".py",
   "mimetype": "text/x-python",
   "name": "python",
   "nbconvert_exporter": "python",
   "pygments_lexer": "ipython3",
   "version": "3.6.2"
  }
 },
 "nbformat": 4,
 "nbformat_minor": 2
}
