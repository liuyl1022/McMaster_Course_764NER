{
 "cells": [
  {
   "cell_type": "code",
   "execution_count": 2,
   "metadata": {
    "collapsed": true
   },
   "outputs": [],
   "source": [
    "from gensim.models import Doc2Vec\n",
    "import gensim\n",
    "import os"
   ]
  },
  {
   "cell_type": "code",
   "execution_count": 3,
   "metadata": {
    "collapsed": true
   },
   "outputs": [],
   "source": [
    "#Learn from:  https://www.zhihu.com/question/48013814?from=profile_question_card\n",
    "\n",
    "# doc2vec parameters\n",
    "vector_size = 30  # 30维\n",
    "window_size = 15\n",
    "min_count = 0\n",
    "sampling_threshold = 1e-5\n",
    "negative_size = 5\n",
    "train_epoch = 10\n",
    "dm = 0  # 0 = dbow; 1 = dmpv\n",
    "worker_count = 8  # number of parallel processes"
   ]
  },
  {
   "cell_type": "code",
   "execution_count": 4,
   "metadata": {
    "collapsed": true
   },
   "outputs": [],
   "source": [
    "def train(file):\n",
    "    train_corpus = file\n",
    "    doc = gensim.models.doc2vec.TaggedLineDocument(train_corpus)\n",
    "    model = Doc2Vec(doc, size=vector_size, window=window_size, min_count=min_count, sample=sampling_threshold,\n",
    "                    workers=worker_count, hs=0, dm=dm, negative=negative_size, dbow_words=1, dm_concat=1,\n",
    "                    iter=train_epoch)\n",
    "    return model[0]"
   ]
  },
  {
   "cell_type": "code",
   "execution_count": 5,
   "metadata": {
    "collapsed": false
   },
   "outputs": [
    {
     "name": "stderr",
     "output_type": "stream",
     "text": [
      "/Users/apple/anaconda/envs/py36/lib/python3.6/site-packages/gensim/models/doc2vec.py:355: UserWarning: The parameter `iter` is deprecated, will be removed in 4.0.0, use `epochs` instead.\n",
      "  warnings.warn(\"The parameter `iter` is deprecated, will be removed in 4.0.0, use `epochs` instead.\")\n",
      "/Users/apple/anaconda/envs/py36/lib/python3.6/site-packages/gensim/models/doc2vec.py:359: UserWarning: The parameter `size` is deprecated, will be removed in 4.0.0, use `vector_size` instead.\n",
      "  warnings.warn(\"The parameter `size` is deprecated, will be removed in 4.0.0, use `vector_size` instead.\")\n"
     ]
    }
   ],
   "source": [
    "SentenceVector = []\n",
    "for i in range(1,1023):\n",
    "    filename = str(i)+'.txt'\n",
    "    returnmodel = train(filename)\n",
    "    model_list = returnmodel.tolist()\n",
    "    SentenceVector.append(model_list)"
   ]
  },
  {
   "cell_type": "code",
   "execution_count": 6,
   "metadata": {
    "collapsed": false
   },
   "outputs": [
    {
     "data": {
      "text/plain": [
       "1022"
      ]
     },
     "execution_count": 6,
     "metadata": {},
     "output_type": "execute_result"
    }
   ],
   "source": [
    "len(SentenceVector)"
   ]
  },
  {
   "cell_type": "code",
   "execution_count": 7,
   "metadata": {
    "collapsed": true
   },
   "outputs": [],
   "source": [
    "import pandas as pd"
   ]
  },
  {
   "cell_type": "code",
   "execution_count": 8,
   "metadata": {
    "collapsed": false
   },
   "outputs": [],
   "source": [
    "Sentence_df = pd.DataFrame(SentenceVector,columns=None)"
   ]
  },
  {
   "cell_type": "code",
   "execution_count": 9,
   "metadata": {
    "collapsed": false
   },
   "outputs": [
    {
     "data": {
      "text/html": [
       "<div>\n",
       "<style>\n",
       "    .dataframe thead tr:only-child th {\n",
       "        text-align: right;\n",
       "    }\n",
       "\n",
       "    .dataframe thead th {\n",
       "        text-align: left;\n",
       "    }\n",
       "\n",
       "    .dataframe tbody tr th {\n",
       "        vertical-align: top;\n",
       "    }\n",
       "</style>\n",
       "<table border=\"1\" class=\"dataframe\">\n",
       "  <thead>\n",
       "    <tr style=\"text-align: right;\">\n",
       "      <th></th>\n",
       "      <th>0</th>\n",
       "      <th>1</th>\n",
       "      <th>2</th>\n",
       "      <th>3</th>\n",
       "      <th>4</th>\n",
       "      <th>5</th>\n",
       "      <th>6</th>\n",
       "      <th>7</th>\n",
       "      <th>8</th>\n",
       "      <th>9</th>\n",
       "      <th>...</th>\n",
       "      <th>20</th>\n",
       "      <th>21</th>\n",
       "      <th>22</th>\n",
       "      <th>23</th>\n",
       "      <th>24</th>\n",
       "      <th>25</th>\n",
       "      <th>26</th>\n",
       "      <th>27</th>\n",
       "      <th>28</th>\n",
       "      <th>29</th>\n",
       "    </tr>\n",
       "  </thead>\n",
       "  <tbody>\n",
       "    <tr>\n",
       "      <th>0</th>\n",
       "      <td>0.016115</td>\n",
       "      <td>-0.006078</td>\n",
       "      <td>-0.005004</td>\n",
       "      <td>0.015284</td>\n",
       "      <td>-0.015493</td>\n",
       "      <td>0.002012</td>\n",
       "      <td>0.014366</td>\n",
       "      <td>-0.002897</td>\n",
       "      <td>0.001058</td>\n",
       "      <td>0.004209</td>\n",
       "      <td>...</td>\n",
       "      <td>0.011805</td>\n",
       "      <td>0.013735</td>\n",
       "      <td>-0.015555</td>\n",
       "      <td>-0.010858</td>\n",
       "      <td>0.004356</td>\n",
       "      <td>0.007937</td>\n",
       "      <td>-0.002964</td>\n",
       "      <td>-0.011186</td>\n",
       "      <td>0.015685</td>\n",
       "      <td>0.012921</td>\n",
       "    </tr>\n",
       "    <tr>\n",
       "      <th>1</th>\n",
       "      <td>0.016115</td>\n",
       "      <td>-0.006078</td>\n",
       "      <td>-0.005004</td>\n",
       "      <td>0.015284</td>\n",
       "      <td>-0.015493</td>\n",
       "      <td>0.002012</td>\n",
       "      <td>0.014366</td>\n",
       "      <td>-0.002897</td>\n",
       "      <td>0.001058</td>\n",
       "      <td>0.004209</td>\n",
       "      <td>...</td>\n",
       "      <td>0.011805</td>\n",
       "      <td>0.013735</td>\n",
       "      <td>-0.015555</td>\n",
       "      <td>-0.010858</td>\n",
       "      <td>0.004356</td>\n",
       "      <td>0.007937</td>\n",
       "      <td>-0.002964</td>\n",
       "      <td>-0.011186</td>\n",
       "      <td>0.015685</td>\n",
       "      <td>0.012921</td>\n",
       "    </tr>\n",
       "    <tr>\n",
       "      <th>2</th>\n",
       "      <td>0.016115</td>\n",
       "      <td>-0.006078</td>\n",
       "      <td>-0.005004</td>\n",
       "      <td>0.015284</td>\n",
       "      <td>-0.015493</td>\n",
       "      <td>0.002012</td>\n",
       "      <td>0.014366</td>\n",
       "      <td>-0.002897</td>\n",
       "      <td>0.001058</td>\n",
       "      <td>0.004209</td>\n",
       "      <td>...</td>\n",
       "      <td>0.011805</td>\n",
       "      <td>0.013735</td>\n",
       "      <td>-0.015555</td>\n",
       "      <td>-0.010858</td>\n",
       "      <td>0.004356</td>\n",
       "      <td>0.007937</td>\n",
       "      <td>-0.002964</td>\n",
       "      <td>-0.011186</td>\n",
       "      <td>0.015685</td>\n",
       "      <td>0.012921</td>\n",
       "    </tr>\n",
       "    <tr>\n",
       "      <th>3</th>\n",
       "      <td>0.016115</td>\n",
       "      <td>-0.006078</td>\n",
       "      <td>-0.005004</td>\n",
       "      <td>0.015284</td>\n",
       "      <td>-0.015493</td>\n",
       "      <td>0.002012</td>\n",
       "      <td>0.014366</td>\n",
       "      <td>-0.002897</td>\n",
       "      <td>0.001058</td>\n",
       "      <td>0.004209</td>\n",
       "      <td>...</td>\n",
       "      <td>0.011805</td>\n",
       "      <td>0.013735</td>\n",
       "      <td>-0.015555</td>\n",
       "      <td>-0.010858</td>\n",
       "      <td>0.004356</td>\n",
       "      <td>0.007937</td>\n",
       "      <td>-0.002964</td>\n",
       "      <td>-0.011186</td>\n",
       "      <td>0.015685</td>\n",
       "      <td>0.012921</td>\n",
       "    </tr>\n",
       "    <tr>\n",
       "      <th>4</th>\n",
       "      <td>0.016115</td>\n",
       "      <td>-0.006078</td>\n",
       "      <td>-0.005004</td>\n",
       "      <td>0.015284</td>\n",
       "      <td>-0.015493</td>\n",
       "      <td>0.002012</td>\n",
       "      <td>0.014366</td>\n",
       "      <td>-0.002897</td>\n",
       "      <td>0.001058</td>\n",
       "      <td>0.004209</td>\n",
       "      <td>...</td>\n",
       "      <td>0.011805</td>\n",
       "      <td>0.013735</td>\n",
       "      <td>-0.015555</td>\n",
       "      <td>-0.010858</td>\n",
       "      <td>0.004356</td>\n",
       "      <td>0.007937</td>\n",
       "      <td>-0.002964</td>\n",
       "      <td>-0.011186</td>\n",
       "      <td>0.015685</td>\n",
       "      <td>0.012921</td>\n",
       "    </tr>\n",
       "  </tbody>\n",
       "</table>\n",
       "<p>5 rows × 30 columns</p>\n",
       "</div>"
      ],
      "text/plain": [
       "         0         1         2         3         4         5         6   \\\n",
       "0  0.016115 -0.006078 -0.005004  0.015284 -0.015493  0.002012  0.014366   \n",
       "1  0.016115 -0.006078 -0.005004  0.015284 -0.015493  0.002012  0.014366   \n",
       "2  0.016115 -0.006078 -0.005004  0.015284 -0.015493  0.002012  0.014366   \n",
       "3  0.016115 -0.006078 -0.005004  0.015284 -0.015493  0.002012  0.014366   \n",
       "4  0.016115 -0.006078 -0.005004  0.015284 -0.015493  0.002012  0.014366   \n",
       "\n",
       "         7         8         9     ...           20        21        22  \\\n",
       "0 -0.002897  0.001058  0.004209    ...     0.011805  0.013735 -0.015555   \n",
       "1 -0.002897  0.001058  0.004209    ...     0.011805  0.013735 -0.015555   \n",
       "2 -0.002897  0.001058  0.004209    ...     0.011805  0.013735 -0.015555   \n",
       "3 -0.002897  0.001058  0.004209    ...     0.011805  0.013735 -0.015555   \n",
       "4 -0.002897  0.001058  0.004209    ...     0.011805  0.013735 -0.015555   \n",
       "\n",
       "         23        24        25        26        27        28        29  \n",
       "0 -0.010858  0.004356  0.007937 -0.002964 -0.011186  0.015685  0.012921  \n",
       "1 -0.010858  0.004356  0.007937 -0.002964 -0.011186  0.015685  0.012921  \n",
       "2 -0.010858  0.004356  0.007937 -0.002964 -0.011186  0.015685  0.012921  \n",
       "3 -0.010858  0.004356  0.007937 -0.002964 -0.011186  0.015685  0.012921  \n",
       "4 -0.010858  0.004356  0.007937 -0.002964 -0.011186  0.015685  0.012921  \n",
       "\n",
       "[5 rows x 30 columns]"
      ]
     },
     "execution_count": 9,
     "metadata": {},
     "output_type": "execute_result"
    }
   ],
   "source": [
    "Sentence_df.head(5)"
   ]
  },
  {
   "cell_type": "code",
   "execution_count": 10,
   "metadata": {
    "collapsed": false
   },
   "outputs": [],
   "source": [
    "Sentence_df.to_csv('SentenceVector.txt',header=None,index = False)"
   ]
  },
  {
   "cell_type": "code",
   "execution_count": null,
   "metadata": {
    "collapsed": true
   },
   "outputs": [],
   "source": []
  }
 ],
 "metadata": {
  "kernelspec": {
   "display_name": "Python 3",
   "language": "python",
   "name": "python3"
  },
  "language_info": {
   "codemirror_mode": {
    "name": "ipython",
    "version": 3
   },
   "file_extension": ".py",
   "mimetype": "text/x-python",
   "name": "python",
   "nbconvert_exporter": "python",
   "pygments_lexer": "ipython3",
   "version": "3.6.2"
  }
 },
 "nbformat": 4,
 "nbformat_minor": 2
}
