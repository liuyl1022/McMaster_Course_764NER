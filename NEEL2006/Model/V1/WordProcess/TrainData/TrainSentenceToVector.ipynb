{
 "cells": [
  {
   "cell_type": "code",
   "execution_count": 1,
   "metadata": {
    "collapsed": true
   },
   "outputs": [],
   "source": [
    "from gensim.models import Doc2Vec\n",
    "import gensim\n",
    "import os"
   ]
  },
  {
   "cell_type": "code",
   "execution_count": 2,
   "metadata": {
    "collapsed": true
   },
   "outputs": [],
   "source": [
    "#Learn from:  https://www.zhihu.com/question/48013814?from=profile_question_card\n",
    "\n",
    "# doc2vec parameters\n",
    "vector_size = 30  # 30维\n",
    "window_size = 15\n",
    "min_count = 0\n",
    "sampling_threshold = 1e-5\n",
    "negative_size = 5\n",
    "train_epoch = 10\n",
    "dm = 0  # 0 = dbow; 1 = dmpv\n",
    "worker_count = 8  # number of parallel processes"
   ]
  },
  {
   "cell_type": "code",
   "execution_count": 3,
   "metadata": {
    "collapsed": true
   },
   "outputs": [],
   "source": [
    "def train(file):\n",
    "    train_corpus = file\n",
    "    doc = gensim.models.doc2vec.TaggedLineDocument(train_corpus)\n",
    "    model = Doc2Vec(doc, size=vector_size, window=window_size, min_count=min_count, sample=sampling_threshold,\n",
    "                    workers=worker_count, hs=0, dm=dm, negative=negative_size, dbow_words=1, dm_concat=1,\n",
    "                    iter=train_epoch)\n",
    "    return model[0]"
   ]
  },
  {
   "cell_type": "code",
   "execution_count": 4,
   "metadata": {
    "collapsed": false
   },
   "outputs": [
    {
     "name": "stderr",
     "output_type": "stream",
     "text": [
      "/Users/apple/anaconda/envs/py36/lib/python3.6/site-packages/gensim/models/doc2vec.py:355: UserWarning: The parameter `iter` is deprecated, will be removed in 4.0.0, use `epochs` instead.\n",
      "  warnings.warn(\"The parameter `iter` is deprecated, will be removed in 4.0.0, use `epochs` instead.\")\n",
      "/Users/apple/anaconda/envs/py36/lib/python3.6/site-packages/gensim/models/doc2vec.py:359: UserWarning: The parameter `size` is deprecated, will be removed in 4.0.0, use `vector_size` instead.\n",
      "  warnings.warn(\"The parameter `size` is deprecated, will be removed in 4.0.0, use `vector_size` instead.\")\n"
     ]
    }
   ],
   "source": [
    "SentenceVector = []\n",
    "for i in range(1,8666):\n",
    "    filename = str(i)+'.txt'\n",
    "    returnmodel = train(filename)\n",
    "    model_list = returnmodel.tolist()\n",
    "    SentenceVector.append(model_list)"
   ]
  },
  {
   "cell_type": "code",
   "execution_count": 5,
   "metadata": {
    "collapsed": false
   },
   "outputs": [
    {
     "data": {
      "text/plain": [
       "8665"
      ]
     },
     "execution_count": 5,
     "metadata": {},
     "output_type": "execute_result"
    }
   ],
   "source": [
    "len(SentenceVector)"
   ]
  },
  {
   "cell_type": "code",
   "execution_count": 6,
   "metadata": {
    "collapsed": true
   },
   "outputs": [],
   "source": [
    "import pandas as pd"
   ]
  },
  {
   "cell_type": "code",
   "execution_count": 7,
   "metadata": {
    "collapsed": false
   },
   "outputs": [],
   "source": [
    "Sentence_df = pd.DataFrame(SentenceVector,columns=None)"
   ]
  },
  {
   "cell_type": "code",
   "execution_count": 8,
   "metadata": {
    "collapsed": false
   },
   "outputs": [
    {
     "data": {
      "text/html": [
       "<div>\n",
       "<style>\n",
       "    .dataframe thead tr:only-child th {\n",
       "        text-align: right;\n",
       "    }\n",
       "\n",
       "    .dataframe thead th {\n",
       "        text-align: left;\n",
       "    }\n",
       "\n",
       "    .dataframe tbody tr th {\n",
       "        vertical-align: top;\n",
       "    }\n",
       "</style>\n",
       "<table border=\"1\" class=\"dataframe\">\n",
       "  <thead>\n",
       "    <tr style=\"text-align: right;\">\n",
       "      <th></th>\n",
       "      <th>0</th>\n",
       "      <th>1</th>\n",
       "      <th>2</th>\n",
       "      <th>3</th>\n",
       "      <th>4</th>\n",
       "      <th>5</th>\n",
       "      <th>6</th>\n",
       "      <th>7</th>\n",
       "      <th>8</th>\n",
       "      <th>9</th>\n",
       "      <th>...</th>\n",
       "      <th>20</th>\n",
       "      <th>21</th>\n",
       "      <th>22</th>\n",
       "      <th>23</th>\n",
       "      <th>24</th>\n",
       "      <th>25</th>\n",
       "      <th>26</th>\n",
       "      <th>27</th>\n",
       "      <th>28</th>\n",
       "      <th>29</th>\n",
       "    </tr>\n",
       "  </thead>\n",
       "  <tbody>\n",
       "    <tr>\n",
       "      <th>0</th>\n",
       "      <td>-0.015632</td>\n",
       "      <td>-0.016064</td>\n",
       "      <td>0.002566</td>\n",
       "      <td>-0.016051</td>\n",
       "      <td>0.004084</td>\n",
       "      <td>-0.003305</td>\n",
       "      <td>-0.000632</td>\n",
       "      <td>0.0162</td>\n",
       "      <td>-0.015391</td>\n",
       "      <td>-0.003698</td>\n",
       "      <td>...</td>\n",
       "      <td>0.005607</td>\n",
       "      <td>0.004687</td>\n",
       "      <td>-0.008585</td>\n",
       "      <td>-0.005331</td>\n",
       "      <td>-0.013338</td>\n",
       "      <td>-0.012959</td>\n",
       "      <td>-0.005622</td>\n",
       "      <td>-0.002344</td>\n",
       "      <td>-0.010753</td>\n",
       "      <td>-0.000542</td>\n",
       "    </tr>\n",
       "    <tr>\n",
       "      <th>1</th>\n",
       "      <td>-0.015632</td>\n",
       "      <td>-0.016064</td>\n",
       "      <td>0.002566</td>\n",
       "      <td>-0.016051</td>\n",
       "      <td>0.004084</td>\n",
       "      <td>-0.003305</td>\n",
       "      <td>-0.000632</td>\n",
       "      <td>0.0162</td>\n",
       "      <td>-0.015391</td>\n",
       "      <td>-0.003698</td>\n",
       "      <td>...</td>\n",
       "      <td>0.005607</td>\n",
       "      <td>0.004687</td>\n",
       "      <td>-0.008585</td>\n",
       "      <td>-0.005331</td>\n",
       "      <td>-0.013338</td>\n",
       "      <td>-0.012959</td>\n",
       "      <td>-0.005622</td>\n",
       "      <td>-0.002344</td>\n",
       "      <td>-0.010753</td>\n",
       "      <td>-0.000542</td>\n",
       "    </tr>\n",
       "    <tr>\n",
       "      <th>2</th>\n",
       "      <td>-0.015632</td>\n",
       "      <td>-0.016064</td>\n",
       "      <td>0.002566</td>\n",
       "      <td>-0.016051</td>\n",
       "      <td>0.004084</td>\n",
       "      <td>-0.003305</td>\n",
       "      <td>-0.000632</td>\n",
       "      <td>0.0162</td>\n",
       "      <td>-0.015391</td>\n",
       "      <td>-0.003698</td>\n",
       "      <td>...</td>\n",
       "      <td>0.005607</td>\n",
       "      <td>0.004687</td>\n",
       "      <td>-0.008585</td>\n",
       "      <td>-0.005331</td>\n",
       "      <td>-0.013338</td>\n",
       "      <td>-0.012959</td>\n",
       "      <td>-0.005622</td>\n",
       "      <td>-0.002344</td>\n",
       "      <td>-0.010753</td>\n",
       "      <td>-0.000542</td>\n",
       "    </tr>\n",
       "    <tr>\n",
       "      <th>3</th>\n",
       "      <td>-0.015632</td>\n",
       "      <td>-0.016064</td>\n",
       "      <td>0.002566</td>\n",
       "      <td>-0.016051</td>\n",
       "      <td>0.004084</td>\n",
       "      <td>-0.003305</td>\n",
       "      <td>-0.000632</td>\n",
       "      <td>0.0162</td>\n",
       "      <td>-0.015391</td>\n",
       "      <td>-0.003698</td>\n",
       "      <td>...</td>\n",
       "      <td>0.005607</td>\n",
       "      <td>0.004687</td>\n",
       "      <td>-0.008585</td>\n",
       "      <td>-0.005331</td>\n",
       "      <td>-0.013338</td>\n",
       "      <td>-0.012959</td>\n",
       "      <td>-0.005622</td>\n",
       "      <td>-0.002344</td>\n",
       "      <td>-0.010753</td>\n",
       "      <td>-0.000542</td>\n",
       "    </tr>\n",
       "    <tr>\n",
       "      <th>4</th>\n",
       "      <td>-0.015632</td>\n",
       "      <td>-0.016064</td>\n",
       "      <td>0.002566</td>\n",
       "      <td>-0.016051</td>\n",
       "      <td>0.004084</td>\n",
       "      <td>-0.003305</td>\n",
       "      <td>-0.000632</td>\n",
       "      <td>0.0162</td>\n",
       "      <td>-0.015391</td>\n",
       "      <td>-0.003698</td>\n",
       "      <td>...</td>\n",
       "      <td>0.005607</td>\n",
       "      <td>0.004687</td>\n",
       "      <td>-0.008585</td>\n",
       "      <td>-0.005331</td>\n",
       "      <td>-0.013338</td>\n",
       "      <td>-0.012959</td>\n",
       "      <td>-0.005622</td>\n",
       "      <td>-0.002344</td>\n",
       "      <td>-0.010753</td>\n",
       "      <td>-0.000542</td>\n",
       "    </tr>\n",
       "  </tbody>\n",
       "</table>\n",
       "<p>5 rows × 30 columns</p>\n",
       "</div>"
      ],
      "text/plain": [
       "         0         1         2         3         4         5         6   \\\n",
       "0 -0.015632 -0.016064  0.002566 -0.016051  0.004084 -0.003305 -0.000632   \n",
       "1 -0.015632 -0.016064  0.002566 -0.016051  0.004084 -0.003305 -0.000632   \n",
       "2 -0.015632 -0.016064  0.002566 -0.016051  0.004084 -0.003305 -0.000632   \n",
       "3 -0.015632 -0.016064  0.002566 -0.016051  0.004084 -0.003305 -0.000632   \n",
       "4 -0.015632 -0.016064  0.002566 -0.016051  0.004084 -0.003305 -0.000632   \n",
       "\n",
       "       7         8         9     ...           20        21        22  \\\n",
       "0  0.0162 -0.015391 -0.003698    ...     0.005607  0.004687 -0.008585   \n",
       "1  0.0162 -0.015391 -0.003698    ...     0.005607  0.004687 -0.008585   \n",
       "2  0.0162 -0.015391 -0.003698    ...     0.005607  0.004687 -0.008585   \n",
       "3  0.0162 -0.015391 -0.003698    ...     0.005607  0.004687 -0.008585   \n",
       "4  0.0162 -0.015391 -0.003698    ...     0.005607  0.004687 -0.008585   \n",
       "\n",
       "         23        24        25        26        27        28        29  \n",
       "0 -0.005331 -0.013338 -0.012959 -0.005622 -0.002344 -0.010753 -0.000542  \n",
       "1 -0.005331 -0.013338 -0.012959 -0.005622 -0.002344 -0.010753 -0.000542  \n",
       "2 -0.005331 -0.013338 -0.012959 -0.005622 -0.002344 -0.010753 -0.000542  \n",
       "3 -0.005331 -0.013338 -0.012959 -0.005622 -0.002344 -0.010753 -0.000542  \n",
       "4 -0.005331 -0.013338 -0.012959 -0.005622 -0.002344 -0.010753 -0.000542  \n",
       "\n",
       "[5 rows x 30 columns]"
      ]
     },
     "execution_count": 8,
     "metadata": {},
     "output_type": "execute_result"
    }
   ],
   "source": [
    "Sentence_df.head(5)"
   ]
  },
  {
   "cell_type": "code",
   "execution_count": 9,
   "metadata": {
    "collapsed": false
   },
   "outputs": [],
   "source": [
    "Sentence_df.to_csv('TrainSentenceVector.txt',header=None,index = False)"
   ]
  },
  {
   "cell_type": "code",
   "execution_count": null,
   "metadata": {
    "collapsed": true
   },
   "outputs": [],
   "source": []
  }
 ],
 "metadata": {
  "kernelspec": {
   "display_name": "Python 3",
   "language": "python",
   "name": "python3"
  },
  "language_info": {
   "codemirror_mode": {
    "name": "ipython",
    "version": 3
   },
   "file_extension": ".py",
   "mimetype": "text/x-python",
   "name": "python",
   "nbconvert_exporter": "python",
   "pygments_lexer": "ipython3",
   "version": "3.6.2"
  }
 },
 "nbformat": 4,
 "nbformat_minor": 2
}
