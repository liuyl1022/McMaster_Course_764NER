{
 "cells": [
  {
   "cell_type": "code",
   "execution_count": 1,
   "metadata": {
    "collapsed": true
   },
   "outputs": [],
   "source": [
    "from gensim.models import word2vec\n",
    "import numpy as np\n",
    "from gensim.models import doc2vec\n",
    "import pandas as pd"
   ]
  },
  {
   "cell_type": "markdown",
   "metadata": {},
   "source": [
    "### train Entity data"
   ]
  },
  {
   "cell_type": "code",
   "execution_count": 2,
   "metadata": {
    "collapsed": false
   },
   "outputs": [],
   "source": [
    "word_train = word2vec.Text8Corpus('train_entity.txt')\n",
    "DOC_test_nDim = 30\n",
    "model_DOC_train = word2vec.Word2Vec(word_train,size = DOC_test_nDim, min_count=0)\n",
    "model_DOC_train.save('entity-train_model')"
   ]
  },
  {
   "cell_type": "code",
   "execution_count": 3,
   "metadata": {
    "collapsed": false
   },
   "outputs": [
    {
     "name": "stderr",
     "output_type": "stream",
     "text": [
      "/Users/apple/anaconda/envs/py36/lib/python3.6/site-packages/ipykernel_launcher.py:1: DeprecationWarning: Call to deprecated `similarity` (Method will be removed in 4.0.0, use self.wv.similarity() instead).\n",
      "  \"\"\"Entry point for launching an IPython kernel.\n"
     ]
    },
    {
     "data": {
      "text/plain": [
       "0.28254320232204949"
      ]
     },
     "execution_count": 3,
     "metadata": {},
     "output_type": "execute_result"
    }
   ],
   "source": [
    "model_DOC_train.similarity('Japan','Intel')"
   ]
  },
  {
   "cell_type": "code",
   "execution_count": 4,
   "metadata": {
    "collapsed": false
   },
   "outputs": [
    {
     "name": "stderr",
     "output_type": "stream",
     "text": [
      "/Users/apple/anaconda/envs/py36/lib/python3.6/site-packages/ipykernel_launcher.py:1: DeprecationWarning: Call to deprecated `__getitem__` (Method will be removed in 4.0.0, use self.wv.__getitem__() instead).\n",
      "  \"\"\"Entry point for launching an IPython kernel.\n"
     ]
    },
    {
     "data": {
      "text/plain": [
       "array([ 0.01643158, -0.01592619, -0.00893391,  0.00883638,  0.00052792,\n",
       "        0.00206454, -0.01037793, -0.00371506,  0.00216669,  0.01552418,\n",
       "       -0.00520756,  0.01052481, -0.01095147, -0.00151547, -0.0158608 ,\n",
       "        0.00656832, -0.00215675,  0.0043735 ,  0.01215726, -0.00941629,\n",
       "       -0.01217818, -0.00973915, -0.00179448, -0.01582171, -0.01285082,\n",
       "        0.01188857, -0.01420294,  0.003416  ,  0.00978192, -0.01477145], dtype=float32)"
      ]
     },
     "execution_count": 4,
     "metadata": {},
     "output_type": "execute_result"
    }
   ],
   "source": [
    "model_DOC_train['MUFC']"
   ]
  },
  {
   "cell_type": "code",
   "execution_count": 5,
   "metadata": {
    "collapsed": true
   },
   "outputs": [],
   "source": [
    "def modelToVector(model, file):\n",
    " \n",
    "    new = []\n",
    "    f = open(file, 'r')\n",
    "    lines = f.readlines()\n",
    "    f.close()\n",
    "    \n",
    "    for i in lines:\n",
    "        x = i.strip('\\n')\n",
    "        array = model[x]\n",
    "        new.append(array)\n",
    "\n",
    "    return new"
   ]
  },
  {
   "cell_type": "code",
   "execution_count": 6,
   "metadata": {
    "collapsed": false
   },
   "outputs": [
    {
     "name": "stderr",
     "output_type": "stream",
     "text": [
      "/Users/apple/anaconda/envs/py36/lib/python3.6/site-packages/ipykernel_launcher.py:10: DeprecationWarning: Call to deprecated `__getitem__` (Method will be removed in 4.0.0, use self.wv.__getitem__() instead).\n",
      "  # Remove the CWD from sys.path while we load stuff.\n"
     ]
    }
   ],
   "source": [
    "Vector_entity_train = modelToVector(model_DOC_train,'train_entity.txt')"
   ]
  },
  {
   "cell_type": "code",
   "execution_count": 7,
   "metadata": {
    "collapsed": false
   },
   "outputs": [
    {
     "data": {
      "text/plain": [
       "8665"
      ]
     },
     "execution_count": 7,
     "metadata": {},
     "output_type": "execute_result"
    }
   ],
   "source": [
    "len(Vector_entity_train)"
   ]
  },
  {
   "cell_type": "code",
   "execution_count": 8,
   "metadata": {
    "collapsed": true
   },
   "outputs": [],
   "source": [
    "TrainEntity_df = pd.DataFrame(Vector_entity_train,columns=None)"
   ]
  },
  {
   "cell_type": "code",
   "execution_count": 9,
   "metadata": {
    "collapsed": false
   },
   "outputs": [
    {
     "data": {
      "text/html": [
       "<div>\n",
       "<style>\n",
       "    .dataframe thead tr:only-child th {\n",
       "        text-align: right;\n",
       "    }\n",
       "\n",
       "    .dataframe thead th {\n",
       "        text-align: left;\n",
       "    }\n",
       "\n",
       "    .dataframe tbody tr th {\n",
       "        vertical-align: top;\n",
       "    }\n",
       "</style>\n",
       "<table border=\"1\" class=\"dataframe\">\n",
       "  <thead>\n",
       "    <tr style=\"text-align: right;\">\n",
       "      <th></th>\n",
       "      <th>0</th>\n",
       "      <th>1</th>\n",
       "      <th>2</th>\n",
       "      <th>3</th>\n",
       "      <th>4</th>\n",
       "      <th>5</th>\n",
       "      <th>6</th>\n",
       "      <th>7</th>\n",
       "      <th>8</th>\n",
       "      <th>9</th>\n",
       "      <th>...</th>\n",
       "      <th>20</th>\n",
       "      <th>21</th>\n",
       "      <th>22</th>\n",
       "      <th>23</th>\n",
       "      <th>24</th>\n",
       "      <th>25</th>\n",
       "      <th>26</th>\n",
       "      <th>27</th>\n",
       "      <th>28</th>\n",
       "      <th>29</th>\n",
       "    </tr>\n",
       "  </thead>\n",
       "  <tbody>\n",
       "    <tr>\n",
       "      <th>0</th>\n",
       "      <td>0.016357</td>\n",
       "      <td>-0.011280</td>\n",
       "      <td>-0.012199</td>\n",
       "      <td>0.008725</td>\n",
       "      <td>-0.002172</td>\n",
       "      <td>0.011725</td>\n",
       "      <td>-0.008146</td>\n",
       "      <td>0.010754</td>\n",
       "      <td>0.003541</td>\n",
       "      <td>0.011191</td>\n",
       "      <td>...</td>\n",
       "      <td>0.008354</td>\n",
       "      <td>-0.016249</td>\n",
       "      <td>0.005144</td>\n",
       "      <td>-0.011293</td>\n",
       "      <td>0.005238</td>\n",
       "      <td>0.013881</td>\n",
       "      <td>-0.012081</td>\n",
       "      <td>0.010951</td>\n",
       "      <td>-0.004249</td>\n",
       "      <td>-0.014137</td>\n",
       "    </tr>\n",
       "    <tr>\n",
       "      <th>1</th>\n",
       "      <td>-0.009758</td>\n",
       "      <td>0.006747</td>\n",
       "      <td>0.014411</td>\n",
       "      <td>0.006068</td>\n",
       "      <td>0.013461</td>\n",
       "      <td>-0.009518</td>\n",
       "      <td>0.002943</td>\n",
       "      <td>-0.005908</td>\n",
       "      <td>-0.015716</td>\n",
       "      <td>-0.003454</td>\n",
       "      <td>...</td>\n",
       "      <td>0.010729</td>\n",
       "      <td>-0.015284</td>\n",
       "      <td>0.005553</td>\n",
       "      <td>0.015347</td>\n",
       "      <td>0.003846</td>\n",
       "      <td>-0.009774</td>\n",
       "      <td>-0.003433</td>\n",
       "      <td>0.014791</td>\n",
       "      <td>0.011234</td>\n",
       "      <td>0.014963</td>\n",
       "    </tr>\n",
       "    <tr>\n",
       "      <th>2</th>\n",
       "      <td>-0.009758</td>\n",
       "      <td>0.006747</td>\n",
       "      <td>0.014411</td>\n",
       "      <td>0.006068</td>\n",
       "      <td>0.013461</td>\n",
       "      <td>-0.009518</td>\n",
       "      <td>0.002943</td>\n",
       "      <td>-0.005908</td>\n",
       "      <td>-0.015716</td>\n",
       "      <td>-0.003454</td>\n",
       "      <td>...</td>\n",
       "      <td>0.010729</td>\n",
       "      <td>-0.015284</td>\n",
       "      <td>0.005553</td>\n",
       "      <td>0.015347</td>\n",
       "      <td>0.003846</td>\n",
       "      <td>-0.009774</td>\n",
       "      <td>-0.003433</td>\n",
       "      <td>0.014791</td>\n",
       "      <td>0.011234</td>\n",
       "      <td>0.014963</td>\n",
       "    </tr>\n",
       "    <tr>\n",
       "      <th>3</th>\n",
       "      <td>-0.006076</td>\n",
       "      <td>0.002234</td>\n",
       "      <td>0.010835</td>\n",
       "      <td>0.005876</td>\n",
       "      <td>0.010859</td>\n",
       "      <td>-0.009789</td>\n",
       "      <td>0.005674</td>\n",
       "      <td>-0.014638</td>\n",
       "      <td>-0.009278</td>\n",
       "      <td>0.008242</td>\n",
       "      <td>...</td>\n",
       "      <td>0.007657</td>\n",
       "      <td>0.000251</td>\n",
       "      <td>0.001455</td>\n",
       "      <td>0.000451</td>\n",
       "      <td>0.006962</td>\n",
       "      <td>0.001704</td>\n",
       "      <td>0.009796</td>\n",
       "      <td>-0.001864</td>\n",
       "      <td>0.012596</td>\n",
       "      <td>0.012396</td>\n",
       "    </tr>\n",
       "    <tr>\n",
       "      <th>4</th>\n",
       "      <td>-0.005170</td>\n",
       "      <td>-0.002957</td>\n",
       "      <td>-0.015972</td>\n",
       "      <td>-0.001991</td>\n",
       "      <td>0.002849</td>\n",
       "      <td>-0.005567</td>\n",
       "      <td>0.001905</td>\n",
       "      <td>-0.014061</td>\n",
       "      <td>-0.007054</td>\n",
       "      <td>-0.013618</td>\n",
       "      <td>...</td>\n",
       "      <td>-0.001807</td>\n",
       "      <td>-0.006342</td>\n",
       "      <td>-0.002412</td>\n",
       "      <td>0.008980</td>\n",
       "      <td>-0.013466</td>\n",
       "      <td>-0.018642</td>\n",
       "      <td>0.013617</td>\n",
       "      <td>0.001186</td>\n",
       "      <td>-0.001319</td>\n",
       "      <td>0.001265</td>\n",
       "    </tr>\n",
       "  </tbody>\n",
       "</table>\n",
       "<p>5 rows × 30 columns</p>\n",
       "</div>"
      ],
      "text/plain": [
       "         0         1         2         3         4         5         6   \\\n",
       "0  0.016357 -0.011280 -0.012199  0.008725 -0.002172  0.011725 -0.008146   \n",
       "1 -0.009758  0.006747  0.014411  0.006068  0.013461 -0.009518  0.002943   \n",
       "2 -0.009758  0.006747  0.014411  0.006068  0.013461 -0.009518  0.002943   \n",
       "3 -0.006076  0.002234  0.010835  0.005876  0.010859 -0.009789  0.005674   \n",
       "4 -0.005170 -0.002957 -0.015972 -0.001991  0.002849 -0.005567  0.001905   \n",
       "\n",
       "         7         8         9     ...           20        21        22  \\\n",
       "0  0.010754  0.003541  0.011191    ...     0.008354 -0.016249  0.005144   \n",
       "1 -0.005908 -0.015716 -0.003454    ...     0.010729 -0.015284  0.005553   \n",
       "2 -0.005908 -0.015716 -0.003454    ...     0.010729 -0.015284  0.005553   \n",
       "3 -0.014638 -0.009278  0.008242    ...     0.007657  0.000251  0.001455   \n",
       "4 -0.014061 -0.007054 -0.013618    ...    -0.001807 -0.006342 -0.002412   \n",
       "\n",
       "         23        24        25        26        27        28        29  \n",
       "0 -0.011293  0.005238  0.013881 -0.012081  0.010951 -0.004249 -0.014137  \n",
       "1  0.015347  0.003846 -0.009774 -0.003433  0.014791  0.011234  0.014963  \n",
       "2  0.015347  0.003846 -0.009774 -0.003433  0.014791  0.011234  0.014963  \n",
       "3  0.000451  0.006962  0.001704  0.009796 -0.001864  0.012596  0.012396  \n",
       "4  0.008980 -0.013466 -0.018642  0.013617  0.001186 -0.001319  0.001265  \n",
       "\n",
       "[5 rows x 30 columns]"
      ]
     },
     "execution_count": 9,
     "metadata": {},
     "output_type": "execute_result"
    }
   ],
   "source": [
    "TrainEntity_df.head(5)"
   ]
  },
  {
   "cell_type": "code",
   "execution_count": 10,
   "metadata": {
    "collapsed": true
   },
   "outputs": [],
   "source": [
    "TrainEntity_df.to_csv('Train_EntityVector.txt',header=None,index = False)"
   ]
  },
  {
   "cell_type": "code",
   "execution_count": null,
   "metadata": {
    "collapsed": true
   },
   "outputs": [],
   "source": []
  },
  {
   "cell_type": "markdown",
   "metadata": {},
   "source": [
    "### train Sentence data"
   ]
  },
  {
   "cell_type": "code",
   "execution_count": 6,
   "metadata": {
    "collapsed": true
   },
   "outputs": [],
   "source": [
    "f = open('train_sentence.txt','r')\n",
    "lines = f.readlines()"
   ]
  },
  {
   "cell_type": "code",
   "execution_count": 7,
   "metadata": {
    "collapsed": false
   },
   "outputs": [],
   "source": [
    "i=1\n",
    "for line in lines:\n",
    "    name=str(i)+\".txt\"\n",
    "    f_write = open(\"TrainSentence/\"+name,'w')\n",
    "    f_write.write(line)\n",
    "    f_write.close()\n",
    "    i = i+1"
   ]
  },
  {
   "cell_type": "code",
   "execution_count": null,
   "metadata": {
    "collapsed": true
   },
   "outputs": [],
   "source": []
  }
 ],
 "metadata": {
  "kernelspec": {
   "display_name": "Python 3",
   "language": "python",
   "name": "python3"
  },
  "language_info": {
   "codemirror_mode": {
    "name": "ipython",
    "version": 3
   },
   "file_extension": ".py",
   "mimetype": "text/x-python",
   "name": "python",
   "nbconvert_exporter": "python",
   "pygments_lexer": "ipython3",
   "version": "3.6.2"
  }
 },
 "nbformat": 4,
 "nbformat_minor": 2
}
