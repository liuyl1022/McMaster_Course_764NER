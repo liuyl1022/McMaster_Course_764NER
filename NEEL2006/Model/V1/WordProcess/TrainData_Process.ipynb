{
 "cells": [
  {
   "cell_type": "code",
   "execution_count": 1,
   "metadata": {
    "collapsed": true
   },
   "outputs": [],
   "source": [
    "import pandas as pd\n",
    "import numpy as np\n",
    "from nltk.corpus import stopwords\n",
    "import string\n",
    "from sklearn.feature_extraction.text import CountVectorizer\n",
    "import re"
   ]
  },
  {
   "cell_type": "markdown",
   "metadata": {},
   "source": [
    "## Train data process"
   ]
  },
  {
   "cell_type": "code",
   "execution_count": 18,
   "metadata": {
    "collapsed": true
   },
   "outputs": [],
   "source": [
    "f = open(\"twitter_training.txt\",'r')\n",
    "lines = f.readlines()"
   ]
  },
  {
   "cell_type": "code",
   "execution_count": 19,
   "metadata": {
    "collapsed": false
   },
   "outputs": [
    {
     "data": {
      "text/plain": [
       "8665"
      ]
     },
     "execution_count": 19,
     "metadata": {},
     "output_type": "execute_result"
    }
   ],
   "source": [
    "len(lines)"
   ]
  },
  {
   "cell_type": "code",
   "execution_count": 24,
   "metadata": {
    "collapsed": false
   },
   "outputs": [],
   "source": [
    "train_data = pd.DataFrame(lines)"
   ]
  },
  {
   "cell_type": "code",
   "execution_count": 25,
   "metadata": {
    "collapsed": false
   },
   "outputs": [],
   "source": [
    "train_data = train_data[0].str.split('|',expand=True)"
   ]
  },
  {
   "cell_type": "code",
   "execution_count": 27,
   "metadata": {
    "collapsed": false
   },
   "outputs": [
    {
     "name": "stdout",
     "output_type": "stream",
     "text": [
      "<class 'pandas.core.frame.DataFrame'>\n",
      "RangeIndex: 8665 entries, 0 to 8664\n",
      "Data columns (total 6 columns):\n",
      "0    8665 non-null object\n",
      "1    8665 non-null object\n",
      "2    8665 non-null object\n",
      "3    8665 non-null object\n",
      "4    8665 non-null object\n",
      "5    8665 non-null object\n",
      "dtypes: object(6)\n",
      "memory usage: 406.2+ KB\n"
     ]
    }
   ],
   "source": [
    "train_data.info()"
   ]
  },
  {
   "cell_type": "code",
   "execution_count": 28,
   "metadata": {
    "collapsed": true
   },
   "outputs": [],
   "source": [
    "train_data.columns=['None1','ID','Sentence','Entity','Label','None2']"
   ]
  },
  {
   "cell_type": "markdown",
   "metadata": {},
   "source": [
    "#### Delete punctuation and stopwords"
   ]
  },
  {
   "cell_type": "code",
   "execution_count": 30,
   "metadata": {
    "collapsed": true
   },
   "outputs": [],
   "source": [
    "def text_process(sentence):\n",
    "    \"\"\"\n",
    "    Takes in a string of text, then performs the following:\n",
    "    1. Remove all punctuation\n",
    "    2. Remove all stopwords\n",
    "    3. Returns a list of the cleaned text\n",
    "    \"\"\"\n",
    "    # Check characters to see if they are in punctuation\n",
    "    nopunc = [char for char in sentence if char not in string.punctuation]\n",
    "\n",
    "    # Join the characters again to form the string.\n",
    "    nopunc = ''.join(nopunc)\n",
    "    \n",
    "    # Now just remove any stopwords\n",
    "    return [word for word in nopunc.split() if word.lower() not in stopwords.words('english')]"
   ]
  },
  {
   "cell_type": "code",
   "execution_count": 31,
   "metadata": {
    "collapsed": true
   },
   "outputs": [],
   "source": [
    "train_data['Sentence'].apply(text_process)\n",
    "bow_transformer = CountVectorizer(analyzer = text_process).fit(train_data['Sentence'])"
   ]
  },
  {
   "cell_type": "markdown",
   "metadata": {},
   "source": [
    "#### Add a feature whether the entity's first letter is capital"
   ]
  },
  {
   "cell_type": "code",
   "execution_count": 32,
   "metadata": {
    "collapsed": true
   },
   "outputs": [],
   "source": [
    "def whetherIsCapital(entity):\n",
    "    if entity.islower() == True:\n",
    "        return '0'\n",
    "    else:\n",
    "        return '1'\n",
    "train_data['WhetherIsCapital'] = train_data['Entity'].map(whetherIsCapital)"
   ]
  },
  {
   "cell_type": "markdown",
   "metadata": {},
   "source": [
    "#### Delete Emoji"
   ]
  },
  {
   "cell_type": "code",
   "execution_count": 33,
   "metadata": {
    "collapsed": true
   },
   "outputs": [],
   "source": [
    "emoji_pattern = re.compile(u'[\\U00010000-\\U0010ffff]')\n",
    "\n",
    "def remove_emoji(text):\n",
    "    return emoji_pattern.sub(r'', text)\n",
    "\n",
    "train_data['NewSentence']=train_data['Sentence'].map(remove_emoji)"
   ]
  },
  {
   "cell_type": "code",
   "execution_count": 39,
   "metadata": {
    "collapsed": false
   },
   "outputs": [
    {
     "data": {
      "text/plain": [
       "'CONGRATS to my @takethat boys \"@GaryBarlow: http://t.co/RNvdRMDTPy” @HowardDonald @OfficialMarkO'"
      ]
     },
     "execution_count": 39,
     "metadata": {},
     "output_type": "execute_result"
    }
   ],
   "source": [
    "train_data.iloc[4446]['NewSentence']"
   ]
  },
  {
   "cell_type": "code",
   "execution_count": 63,
   "metadata": {
    "collapsed": true
   },
   "outputs": [],
   "source": [
    "emoji_pattern3 = re.compile(u'\\U00002702-\\U000027b0')\n",
    "#sample_list = [u'\\u2728']\n",
    "\n",
    "def remove_emoji3(text):\n",
    "    return emoji_pattern3.sub(r'', text)\n",
    "\n",
    "#https://apps.timwhitlock.info/emoji/tables/unicode#"
   ]
  },
  {
   "cell_type": "code",
   "execution_count": null,
   "metadata": {
    "collapsed": true
   },
   "outputs": [],
   "source": [
    "emoji_pattern2 = re.compile(u'\\U0001f601-\\U0001f64f')\n",
    "#sample_list = [u'\\u2728']\n",
    "\n",
    "def remove_emoji2(text):\n",
    "    return emoji_pattern2.sub(r'', text)\n",
    "\n",
    "#https://apps.timwhitlock.info/emoji/tables/unicode#"
   ]
  },
  {
   "cell_type": "code",
   "execution_count": 60,
   "metadata": {
    "collapsed": true
   },
   "outputs": [],
   "source": [
    "emoji_pattern4 = re.compile(u'\\U000026c4')\n",
    "#sample_list = [u'\\u2728']\n",
    "\n",
    "def remove_emoji4(text):\n",
    "    return emoji_pattern4.sub(r'', text)\n",
    "\n",
    "#https://apps.timwhitlock.info/emoji/tables/unicode#"
   ]
  },
  {
   "cell_type": "code",
   "execution_count": 65,
   "metadata": {
    "collapsed": true
   },
   "outputs": [],
   "source": [
    "emoji_pattern4 = re.compile(u'\\U000026bd')\n",
    "#sample_list = [u'\\u2728']\n",
    "\n",
    "def remove_emoji4(text):\n",
    "    return emoji_pattern4.sub(r'', text)\n",
    "\n",
    "#https://apps.timwhitlock.info/emoji/tables/unicode#"
   ]
  },
  {
   "cell_type": "code",
   "execution_count": null,
   "metadata": {
    "collapsed": true
   },
   "outputs": [],
   "source": []
  },
  {
   "cell_type": "code",
   "execution_count": 66,
   "metadata": {
    "collapsed": true
   },
   "outputs": [],
   "source": [
    "train_sentence['NewSentence']=train_sentence['NewSentence'].map(remove_emoji4)"
   ]
  },
  {
   "cell_type": "markdown",
   "metadata": {},
   "source": [
    "#### Delete URL"
   ]
  },
  {
   "cell_type": "code",
   "execution_count": 42,
   "metadata": {
    "collapsed": true
   },
   "outputs": [],
   "source": [
    "def delete_url(list1):\n",
    "    new = []\n",
    "    for word in list1:\n",
    "        if (word.startswith('htt') == False):\n",
    "            if(word.startswith('https') == False):\n",
    "                new.append(word)\n",
    "    return new\n",
    "\n",
    "def sentence_delete_url(sentence):\n",
    "    word = sentence.split()\n",
    "    newlist = delete_url(word)\n",
    "    newsentence = ' '.join(newlist)\n",
    "    return newsentence\n",
    "\n",
    "train_data['NewSentence']=train_data['NewSentence'].map(sentence_delete_url)"
   ]
  },
  {
   "cell_type": "code",
   "execution_count": 43,
   "metadata": {
    "collapsed": false
   },
   "outputs": [
    {
     "data": {
      "text/html": [
       "<div>\n",
       "<style>\n",
       "    .dataframe thead tr:only-child th {\n",
       "        text-align: right;\n",
       "    }\n",
       "\n",
       "    .dataframe thead th {\n",
       "        text-align: left;\n",
       "    }\n",
       "\n",
       "    .dataframe tbody tr th {\n",
       "        vertical-align: top;\n",
       "    }\n",
       "</style>\n",
       "<table border=\"1\" class=\"dataframe\">\n",
       "  <thead>\n",
       "    <tr style=\"text-align: right;\">\n",
       "      <th></th>\n",
       "      <th>None1</th>\n",
       "      <th>ID</th>\n",
       "      <th>Sentence</th>\n",
       "      <th>Entity</th>\n",
       "      <th>Label</th>\n",
       "      <th>None2</th>\n",
       "      <th>WhetherIsCapital</th>\n",
       "      <th>NewSentence</th>\n",
       "    </tr>\n",
       "  </thead>\n",
       "  <tbody>\n",
       "    <tr>\n",
       "      <th>0</th>\n",
       "      <td></td>\n",
       "      <td>100000025580548097</td>\n",
       "      <td>Is Intel About to Get Hit by a BRIC? - BRIC co...</td>\n",
       "      <td>BRIC</td>\n",
       "      <td>Thing</td>\n",
       "      <td>\\n</td>\n",
       "      <td>1</td>\n",
       "      <td>Is Intel About to Get Hit by a BRIC? - BRIC co...</td>\n",
       "    </tr>\n",
       "    <tr>\n",
       "      <th>1</th>\n",
       "      <td></td>\n",
       "      <td>100000025580548097</td>\n",
       "      <td>Is Intel About to Get Hit by a BRIC? - BRIC co...</td>\n",
       "      <td>Intel</td>\n",
       "      <td>Organization</td>\n",
       "      <td>\\n</td>\n",
       "      <td>1</td>\n",
       "      <td>Is Intel About to Get Hit by a BRIC? - BRIC co...</td>\n",
       "    </tr>\n",
       "    <tr>\n",
       "      <th>2</th>\n",
       "      <td></td>\n",
       "      <td>100000025580548097</td>\n",
       "      <td>Is Intel About to Get Hit by a BRIC? - BRIC co...</td>\n",
       "      <td>Intel</td>\n",
       "      <td>Organization</td>\n",
       "      <td>\\n</td>\n",
       "      <td>1</td>\n",
       "      <td>Is Intel About to Get Hit by a BRIC? - BRIC co...</td>\n",
       "    </tr>\n",
       "    <tr>\n",
       "      <th>3</th>\n",
       "      <td></td>\n",
       "      <td>100008638684475392</td>\n",
       "      <td>Please say a prayer for the families of the fa...</td>\n",
       "      <td>afghan</td>\n",
       "      <td>Location</td>\n",
       "      <td>\\n</td>\n",
       "      <td>0</td>\n",
       "      <td>Please say a prayer for the families of the fa...</td>\n",
       "    </tr>\n",
       "    <tr>\n",
       "      <th>4</th>\n",
       "      <td></td>\n",
       "      <td>100010138022330368</td>\n",
       "      <td>Summer Heat Stifles Tokyo as Japan Rebuilds Ec...</td>\n",
       "      <td>Japan</td>\n",
       "      <td>Location</td>\n",
       "      <td>\\n</td>\n",
       "      <td>1</td>\n",
       "      <td>Summer Heat Stifles Tokyo as Japan Rebuilds Ec...</td>\n",
       "    </tr>\n",
       "    <tr>\n",
       "      <th>5</th>\n",
       "      <td></td>\n",
       "      <td>100149095301259264</td>\n",
       "      <td>http://ur1.ca/3tceg The US Department of Energ...</td>\n",
       "      <td>US Department of Energy</td>\n",
       "      <td>Organization</td>\n",
       "      <td>\\n</td>\n",
       "      <td>1</td>\n",
       "      <td>The US Department of Energy says aggressive dr...</td>\n",
       "    </tr>\n",
       "    <tr>\n",
       "      <th>6</th>\n",
       "      <td></td>\n",
       "      <td>100156955431149568</td>\n",
       "      <td>Live - Scottish Premier League: Celtic travel ...</td>\n",
       "      <td>Aberdeen</td>\n",
       "      <td>Location</td>\n",
       "      <td>\\n</td>\n",
       "      <td>1</td>\n",
       "      <td>Live - Scottish Premier League: Celtic travel ...</td>\n",
       "    </tr>\n",
       "    <tr>\n",
       "      <th>7</th>\n",
       "      <td></td>\n",
       "      <td>100156955431149568</td>\n",
       "      <td>Live - Scottish Premier League: Celtic travel ...</td>\n",
       "      <td>Celtic</td>\n",
       "      <td>Organization</td>\n",
       "      <td>\\n</td>\n",
       "      <td>1</td>\n",
       "      <td>Live - Scottish Premier League: Celtic travel ...</td>\n",
       "    </tr>\n",
       "    <tr>\n",
       "      <th>8</th>\n",
       "      <td></td>\n",
       "      <td>100156955431149568</td>\n",
       "      <td>Live - Scottish Premier League: Celtic travel ...</td>\n",
       "      <td>Motherwell</td>\n",
       "      <td>Organization</td>\n",
       "      <td>\\n</td>\n",
       "      <td>1</td>\n",
       "      <td>Live - Scottish Premier League: Celtic travel ...</td>\n",
       "    </tr>\n",
       "    <tr>\n",
       "      <th>9</th>\n",
       "      <td></td>\n",
       "      <td>100156955431149568</td>\n",
       "      <td>Live - Scottish Premier League: Celtic travel ...</td>\n",
       "      <td>SPL</td>\n",
       "      <td>Organization</td>\n",
       "      <td>\\n</td>\n",
       "      <td>1</td>\n",
       "      <td>Live - Scottish Premier League: Celtic travel ...</td>\n",
       "    </tr>\n",
       "    <tr>\n",
       "      <th>10</th>\n",
       "      <td></td>\n",
       "      <td>100156955431149568</td>\n",
       "      <td>Live - Scottish Premier League: Celtic travel ...</td>\n",
       "      <td>Scottish Premier League</td>\n",
       "      <td>Organization</td>\n",
       "      <td>\\n</td>\n",
       "      <td>1</td>\n",
       "      <td>Live - Scottish Premier League: Celtic travel ...</td>\n",
       "    </tr>\n",
       "    <tr>\n",
       "      <th>11</th>\n",
       "      <td></td>\n",
       "      <td>100227045275082752</td>\n",
       "      <td>FT - Man City 2-3 United: The Champions come f...</td>\n",
       "      <td>Community Shield</td>\n",
       "      <td>Organization</td>\n",
       "      <td>\\n</td>\n",
       "      <td>1</td>\n",
       "      <td>FT - Man City 2-3 United: The Champions come f...</td>\n",
       "    </tr>\n",
       "    <tr>\n",
       "      <th>12</th>\n",
       "      <td></td>\n",
       "      <td>100227045275082752</td>\n",
       "      <td>FT - Man City 2-3 United: The Champions come f...</td>\n",
       "      <td>MUFC</td>\n",
       "      <td>Organization</td>\n",
       "      <td>\\n</td>\n",
       "      <td>1</td>\n",
       "      <td>FT - Man City 2-3 United: The Champions come f...</td>\n",
       "    </tr>\n",
       "    <tr>\n",
       "      <th>13</th>\n",
       "      <td></td>\n",
       "      <td>100227045275082752</td>\n",
       "      <td>FT - Man City 2-3 United: The Champions come f...</td>\n",
       "      <td>Man City</td>\n",
       "      <td>Organization</td>\n",
       "      <td>\\n</td>\n",
       "      <td>1</td>\n",
       "      <td>FT - Man City 2-3 United: The Champions come f...</td>\n",
       "    </tr>\n",
       "    <tr>\n",
       "      <th>14</th>\n",
       "      <td></td>\n",
       "      <td>100227045275082752</td>\n",
       "      <td>FT - Man City 2-3 United: The Champions come f...</td>\n",
       "      <td>United</td>\n",
       "      <td>Organization</td>\n",
       "      <td>\\n</td>\n",
       "      <td>1</td>\n",
       "      <td>FT - Man City 2-3 United: The Champions come f...</td>\n",
       "    </tr>\n",
       "    <tr>\n",
       "      <th>15</th>\n",
       "      <td></td>\n",
       "      <td>100227045275082752</td>\n",
       "      <td>FT - Man City 2-3 United: The Champions come f...</td>\n",
       "      <td>Wembley</td>\n",
       "      <td>Location</td>\n",
       "      <td>\\n</td>\n",
       "      <td>1</td>\n",
       "      <td>FT - Man City 2-3 United: The Champions come f...</td>\n",
       "    </tr>\n",
       "    <tr>\n",
       "      <th>16</th>\n",
       "      <td></td>\n",
       "      <td>100259039354687488</td>\n",
       "      <td>Channel 4 news reporting that gun found at the...</td>\n",
       "      <td>Channel 4 news</td>\n",
       "      <td>Product</td>\n",
       "      <td>\\n</td>\n",
       "      <td>1</td>\n",
       "      <td>Channel 4 news reporting that gun found at the...</td>\n",
       "    </tr>\n",
       "    <tr>\n",
       "      <th>17</th>\n",
       "      <td></td>\n",
       "      <td>100259039354687488</td>\n",
       "      <td>Channel 4 news reporting that gun found at the...</td>\n",
       "      <td>Duggan shooting</td>\n",
       "      <td>Event</td>\n",
       "      <td>\\n</td>\n",
       "      <td>1</td>\n",
       "      <td>Channel 4 news reporting that gun found at the...</td>\n",
       "    </tr>\n",
       "    <tr>\n",
       "      <th>18</th>\n",
       "      <td></td>\n",
       "      <td>100266632282251265</td>\n",
       "      <td>@deportivamente1 BREAKING: Jose Reyes leaves S...</td>\n",
       "      <td>Braves</td>\n",
       "      <td>Organization</td>\n",
       "      <td>\\n</td>\n",
       "      <td>1</td>\n",
       "      <td>@deportivamente1 BREAKING: Jose Reyes leaves S...</td>\n",
       "    </tr>\n",
       "    <tr>\n",
       "      <th>19</th>\n",
       "      <td></td>\n",
       "      <td>100266632282251265</td>\n",
       "      <td>@deportivamente1 BREAKING: Jose Reyes leaves S...</td>\n",
       "      <td>Jose Reyes</td>\n",
       "      <td>Person</td>\n",
       "      <td>\\n</td>\n",
       "      <td>1</td>\n",
       "      <td>@deportivamente1 BREAKING: Jose Reyes leaves S...</td>\n",
       "    </tr>\n",
       "    <tr>\n",
       "      <th>20</th>\n",
       "      <td></td>\n",
       "      <td>100278686724521984</td>\n",
       "      <td>Mugshot: Big Boi Of Outkast Arrested For Drug ...</td>\n",
       "      <td>Big Boi</td>\n",
       "      <td>Person</td>\n",
       "      <td>\\n</td>\n",
       "      <td>1</td>\n",
       "      <td>Mugshot: Big Boi Of Outkast Arrested For Drug ...</td>\n",
       "    </tr>\n",
       "    <tr>\n",
       "      <th>21</th>\n",
       "      <td></td>\n",
       "      <td>100278686724521984</td>\n",
       "      <td>Mugshot: Big Boi Of Outkast Arrested For Drug ...</td>\n",
       "      <td>Outkast</td>\n",
       "      <td>Organization</td>\n",
       "      <td>\\n</td>\n",
       "      <td>1</td>\n",
       "      <td>Mugshot: Big Boi Of Outkast Arrested For Drug ...</td>\n",
       "    </tr>\n",
       "    <tr>\n",
       "      <th>22</th>\n",
       "      <td></td>\n",
       "      <td>100281661262012416</td>\n",
       "      <td>It's confirmed! We are filming our last season...</td>\n",
       "      <td>Desperate Housewives</td>\n",
       "      <td>Product</td>\n",
       "      <td>\\n</td>\n",
       "      <td>1</td>\n",
       "      <td>It's confirmed! We are filming our last season...</td>\n",
       "    </tr>\n",
       "    <tr>\n",
       "      <th>23</th>\n",
       "      <td></td>\n",
       "      <td>100282579063803904</td>\n",
       "      <td>used car sales:Swift Growth in Japanese Used C...</td>\n",
       "      <td>Japan</td>\n",
       "      <td>Location</td>\n",
       "      <td>\\n</td>\n",
       "      <td>1</td>\n",
       "      <td>used car sales:Swift Growth in Japanese Used C...</td>\n",
       "    </tr>\n",
       "    <tr>\n",
       "      <th>24</th>\n",
       "      <td></td>\n",
       "      <td>100312203428757504</td>\n",
       "      <td>@Kat_starburst BREAKING IMAGES from Enfield th...</td>\n",
       "      <td>Enfield</td>\n",
       "      <td>Location</td>\n",
       "      <td>\\n</td>\n",
       "      <td>1</td>\n",
       "      <td>@Kat_starburst BREAKING IMAGES from Enfield th...</td>\n",
       "    </tr>\n",
       "    <tr>\n",
       "      <th>25</th>\n",
       "      <td></td>\n",
       "      <td>100312203428757504</td>\n",
       "      <td>@Kat_starburst BREAKING IMAGES from Enfield th...</td>\n",
       "      <td>police</td>\n",
       "      <td>Organization</td>\n",
       "      <td>\\n</td>\n",
       "      <td>0</td>\n",
       "      <td>@Kat_starburst BREAKING IMAGES from Enfield th...</td>\n",
       "    </tr>\n",
       "    <tr>\n",
       "      <th>26</th>\n",
       "      <td></td>\n",
       "      <td>100312203428757504</td>\n",
       "      <td>@Kat_starburst BREAKING IMAGES from Enfield th...</td>\n",
       "      <td>Kat_starburst</td>\n",
       "      <td>Person</td>\n",
       "      <td>\\n</td>\n",
       "      <td>1</td>\n",
       "      <td>@Kat_starburst BREAKING IMAGES from Enfield th...</td>\n",
       "    </tr>\n",
       "    <tr>\n",
       "      <th>27</th>\n",
       "      <td></td>\n",
       "      <td>100325515235303424</td>\n",
       "      <td>#Enfield #Edmonton ambulance arrived at scene ...</td>\n",
       "      <td>Edmonton</td>\n",
       "      <td>Location</td>\n",
       "      <td>\\n</td>\n",
       "      <td>1</td>\n",
       "      <td>#Enfield #Edmonton ambulance arrived at scene ...</td>\n",
       "    </tr>\n",
       "    <tr>\n",
       "      <th>28</th>\n",
       "      <td></td>\n",
       "      <td>100325515235303424</td>\n",
       "      <td>#Enfield #Edmonton ambulance arrived at scene ...</td>\n",
       "      <td>Enfield</td>\n",
       "      <td>Location</td>\n",
       "      <td>\\n</td>\n",
       "      <td>1</td>\n",
       "      <td>#Enfield #Edmonton ambulance arrived at scene ...</td>\n",
       "    </tr>\n",
       "    <tr>\n",
       "      <th>29</th>\n",
       "      <td></td>\n",
       "      <td>100338505523281920</td>\n",
       "      <td>Reports of disturbances in the following areas...</td>\n",
       "      <td>Earlsfield</td>\n",
       "      <td>Location</td>\n",
       "      <td>\\n</td>\n",
       "      <td>1</td>\n",
       "      <td>Reports of disturbances in the following areas...</td>\n",
       "    </tr>\n",
       "    <tr>\n",
       "      <th>...</th>\n",
       "      <td>...</td>\n",
       "      <td>...</td>\n",
       "      <td>...</td>\n",
       "      <td>...</td>\n",
       "      <td>...</td>\n",
       "      <td>...</td>\n",
       "      <td>...</td>\n",
       "      <td>...</td>\n",
       "    </tr>\n",
       "    <tr>\n",
       "      <th>8635</th>\n",
       "      <td></td>\n",
       "      <td>536649456796860000</td>\n",
       "      <td>Ginter and subotic CB on Wednesday rah</td>\n",
       "      <td>Ginter</td>\n",
       "      <td>Person</td>\n",
       "      <td>\\n</td>\n",
       "      <td>1</td>\n",
       "      <td>Ginter and subotic CB on Wednesday rah</td>\n",
       "    </tr>\n",
       "    <tr>\n",
       "      <th>8636</th>\n",
       "      <td></td>\n",
       "      <td>536649456796860000</td>\n",
       "      <td>Ginter and subotic CB on Wednesday rah</td>\n",
       "      <td>subotic</td>\n",
       "      <td>Person</td>\n",
       "      <td>\\n</td>\n",
       "      <td>0</td>\n",
       "      <td>Ginter and subotic CB on Wednesday rah</td>\n",
       "    </tr>\n",
       "    <tr>\n",
       "      <th>8637</th>\n",
       "      <td></td>\n",
       "      <td>537945399483719000</td>\n",
       "      <td>@__RhysMGray @WWE @WWEUniverse to be fair I ju...</td>\n",
       "      <td>Bo Dallas</td>\n",
       "      <td>Person</td>\n",
       "      <td>\\n</td>\n",
       "      <td>1</td>\n",
       "      <td>@__RhysMGray @WWE @WWEUniverse to be fair I ju...</td>\n",
       "    </tr>\n",
       "    <tr>\n",
       "      <th>8638</th>\n",
       "      <td></td>\n",
       "      <td>537585030126907000</td>\n",
       "      <td>I'm at The Slug and Lettuce in Milton Keynes h...</td>\n",
       "      <td>Slug and Lettuce</td>\n",
       "      <td>Location</td>\n",
       "      <td>\\n</td>\n",
       "      <td>1</td>\n",
       "      <td>I'm at The Slug and Lettuce in Milton Keynes</td>\n",
       "    </tr>\n",
       "    <tr>\n",
       "      <th>8639</th>\n",
       "      <td></td>\n",
       "      <td>539171886245376000</td>\n",
       "      <td>Webbers crash looked bad. Hope both drivers ar...</td>\n",
       "      <td>Webbers</td>\n",
       "      <td>Person</td>\n",
       "      <td>\\n</td>\n",
       "      <td>1</td>\n",
       "      <td>Webbers crash looked bad. Hope both drivers ar...</td>\n",
       "    </tr>\n",
       "    <tr>\n",
       "      <th>8640</th>\n",
       "      <td></td>\n",
       "      <td>539171886245376000</td>\n",
       "      <td>Webbers crash looked bad. Hope both drivers ar...</td>\n",
       "      <td>AussieGrit</td>\n",
       "      <td>Person</td>\n",
       "      <td>\\n</td>\n",
       "      <td>1</td>\n",
       "      <td>Webbers crash looked bad. Hope both drivers ar...</td>\n",
       "    </tr>\n",
       "    <tr>\n",
       "      <th>8641</th>\n",
       "      <td></td>\n",
       "      <td>378597298672259000</td>\n",
       "      <td>By @TotalTrafficDFW: #FarmersBranch accident. ...</td>\n",
       "      <td>FarmersBranch</td>\n",
       "      <td>Location</td>\n",
       "      <td>\\n</td>\n",
       "      <td>1</td>\n",
       "      <td>By @TotalTrafficDFW: #FarmersBranch accident. ...</td>\n",
       "    </tr>\n",
       "    <tr>\n",
       "      <th>8642</th>\n",
       "      <td></td>\n",
       "      <td>375137543156543000</td>\n",
       "      <td>RT @RT_com: Putin: Anyone who has evidence of ...</td>\n",
       "      <td>Assad</td>\n",
       "      <td>Person</td>\n",
       "      <td>\\n</td>\n",
       "      <td>1</td>\n",
       "      <td>RT @RT_com: Putin: Anyone who has evidence of ...</td>\n",
       "    </tr>\n",
       "    <tr>\n",
       "      <th>8643</th>\n",
       "      <td></td>\n",
       "      <td>536536427757318000</td>\n",
       "      <td>Bolasie has turned Liverpool's defence up side...</td>\n",
       "      <td>Bolasie</td>\n",
       "      <td>Person</td>\n",
       "      <td>\\n</td>\n",
       "      <td>1</td>\n",
       "      <td>Bolasie has turned Liverpool's defence up side...</td>\n",
       "    </tr>\n",
       "    <tr>\n",
       "      <th>8644</th>\n",
       "      <td></td>\n",
       "      <td>380368096101679000</td>\n",
       "      <td>RT @wsbtv: #BREAKING: Kidnapped 14-year-old #A...</td>\n",
       "      <td>Channel 2 Action News</td>\n",
       "      <td>Organization</td>\n",
       "      <td>\\n</td>\n",
       "      <td>1</td>\n",
       "      <td>RT @wsbtv: #BREAKING: Kidnapped 14-year-old #A...</td>\n",
       "    </tr>\n",
       "    <tr>\n",
       "      <th>8645</th>\n",
       "      <td></td>\n",
       "      <td>382830597133328000</td>\n",
       "      <td>RT @TotalTrafficNYC: #Mahwah incident cleared ...</td>\n",
       "      <td>FranklinLakes</td>\n",
       "      <td>Location</td>\n",
       "      <td>\\n</td>\n",
       "      <td>1</td>\n",
       "      <td>RT @TotalTrafficNYC: #Mahwah incident cleared ...</td>\n",
       "    </tr>\n",
       "    <tr>\n",
       "      <th>8646</th>\n",
       "      <td></td>\n",
       "      <td>538253225389199000</td>\n",
       "      <td>INXS - Never Tear Us Apart: http://t.co/z4F2Tj...</td>\n",
       "      <td>Never Tear Us Apart</td>\n",
       "      <td>Product</td>\n",
       "      <td>\\n</td>\n",
       "      <td>1</td>\n",
       "      <td>INXS - Never Tear Us Apart:</td>\n",
       "    </tr>\n",
       "    <tr>\n",
       "      <th>8647</th>\n",
       "      <td></td>\n",
       "      <td>381856394523066000</td>\n",
       "      <td>RT @verge: Hackers claim to have foiled Apple'...</td>\n",
       "      <td>Touch ID</td>\n",
       "      <td>Product</td>\n",
       "      <td>\\n</td>\n",
       "      <td>1</td>\n",
       "      <td>RT @verge: Hackers claim to have foiled Apple'...</td>\n",
       "    </tr>\n",
       "    <tr>\n",
       "      <th>8648</th>\n",
       "      <td></td>\n",
       "      <td>377242534298550000</td>\n",
       "      <td>Verdict due in trial of 4 men accused of fatal...</td>\n",
       "      <td>Delhi</td>\n",
       "      <td>Location</td>\n",
       "      <td>\\n</td>\n",
       "      <td>1</td>\n",
       "      <td>Verdict due in trial of 4 men accused of fatal...</td>\n",
       "    </tr>\n",
       "    <tr>\n",
       "      <th>8649</th>\n",
       "      <td></td>\n",
       "      <td>538084379046969000</td>\n",
       "      <td>Michael Buerk's and Tinchy's friendship is the...</td>\n",
       "      <td>Tinchy</td>\n",
       "      <td>Person</td>\n",
       "      <td>\\n</td>\n",
       "      <td>1</td>\n",
       "      <td>Michael Buerk's and Tinchy's friendship is the...</td>\n",
       "    </tr>\n",
       "    <tr>\n",
       "      <th>8650</th>\n",
       "      <td></td>\n",
       "      <td>537259484998275000</td>\n",
       "      <td>Think I've seen it all on twitter now. Arsene ...</td>\n",
       "      <td>Arsene</td>\n",
       "      <td>Person</td>\n",
       "      <td>\\n</td>\n",
       "      <td>1</td>\n",
       "      <td>Think I've seen it all on twitter now. Arsene ...</td>\n",
       "    </tr>\n",
       "    <tr>\n",
       "      <th>8651</th>\n",
       "      <td></td>\n",
       "      <td>537259484998275000</td>\n",
       "      <td>Think I've seen it all on twitter now. Arsene ...</td>\n",
       "      <td>arsenal</td>\n",
       "      <td>Organization</td>\n",
       "      <td>\\n</td>\n",
       "      <td>0</td>\n",
       "      <td>Think I've seen it all on twitter now. Arsene ...</td>\n",
       "    </tr>\n",
       "    <tr>\n",
       "      <th>8652</th>\n",
       "      <td></td>\n",
       "      <td>383479221081096000</td>\n",
       "      <td>Violin Memory’s mid-range priced IPO raises $1...</td>\n",
       "      <td>Violin Memory</td>\n",
       "      <td>Organization</td>\n",
       "      <td>\\n</td>\n",
       "      <td>1</td>\n",
       "      <td>Violin Memory’s mid-range priced IPO raises $1...</td>\n",
       "    </tr>\n",
       "    <tr>\n",
       "      <th>8653</th>\n",
       "      <td></td>\n",
       "      <td>375995806815252000</td>\n",
       "      <td>RT @PewHispanic: 58% of U.S. Hispanics are #Ca...</td>\n",
       "      <td>U.S.</td>\n",
       "      <td>Location</td>\n",
       "      <td>\\n</td>\n",
       "      <td>1</td>\n",
       "      <td>RT @PewHispanic: 58% of U.S. Hispanics are #Ca...</td>\n",
       "    </tr>\n",
       "    <tr>\n",
       "      <th>8654</th>\n",
       "      <td></td>\n",
       "      <td>538725076208988000</td>\n",
       "      <td>@alan_hall @CXHairs @MiltonKeynesWCX cheers gu...</td>\n",
       "      <td>Belgium</td>\n",
       "      <td>Location</td>\n",
       "      <td>\\n</td>\n",
       "      <td>1</td>\n",
       "      <td>@alan_hall @CXHairs @MiltonKeynesWCX cheers gu...</td>\n",
       "    </tr>\n",
       "    <tr>\n",
       "      <th>8655</th>\n",
       "      <td></td>\n",
       "      <td>382048300699881000</td>\n",
       "      <td>RT @ABCemergency: #Bushfire weather warning fo...</td>\n",
       "      <td>QLD</td>\n",
       "      <td>Location</td>\n",
       "      <td>\\n</td>\n",
       "      <td>1</td>\n",
       "      <td>RT @ABCemergency: #Bushfire weather warning fo...</td>\n",
       "    </tr>\n",
       "    <tr>\n",
       "      <th>8656</th>\n",
       "      <td></td>\n",
       "      <td>536640503643918000</td>\n",
       "      <td>Soy un cubito de hielo por las calles de Londr...</td>\n",
       "      <td>Londres</td>\n",
       "      <td>Location</td>\n",
       "      <td>\\n</td>\n",
       "      <td>1</td>\n",
       "      <td>Soy un cubito de hielo por las calles de Londr...</td>\n",
       "    </tr>\n",
       "    <tr>\n",
       "      <th>8657</th>\n",
       "      <td></td>\n",
       "      <td>536640503643918000</td>\n",
       "      <td>Soy un cubito de hielo por las calles de Londr...</td>\n",
       "      <td>londres</td>\n",
       "      <td>Location</td>\n",
       "      <td>\\n</td>\n",
       "      <td>0</td>\n",
       "      <td>Soy un cubito de hielo por las calles de Londr...</td>\n",
       "    </tr>\n",
       "    <tr>\n",
       "      <th>8658</th>\n",
       "      <td></td>\n",
       "      <td>373968942961676000</td>\n",
       "      <td>RT @cnnbrk: Obama asks Congress for authority ...</td>\n",
       "      <td>Congress</td>\n",
       "      <td>Organization</td>\n",
       "      <td>\\n</td>\n",
       "      <td>1</td>\n",
       "      <td>RT @cnnbrk: Obama asks Congress for authority ...</td>\n",
       "    </tr>\n",
       "    <tr>\n",
       "      <th>8659</th>\n",
       "      <td></td>\n",
       "      <td>379701759591321000</td>\n",
       "      <td>DC Mayor Gray on #NavyYardShooting: \"We now ha...</td>\n",
       "      <td>DC</td>\n",
       "      <td>Location</td>\n",
       "      <td>\\n</td>\n",
       "      <td>1</td>\n",
       "      <td>DC Mayor Gray on #NavyYardShooting: \"We now ha...</td>\n",
       "    </tr>\n",
       "    <tr>\n",
       "      <th>8660</th>\n",
       "      <td></td>\n",
       "      <td>378598036882325000</td>\n",
       "      <td>RT @DFW_ALERTS: By @TotalTrafficDFW: #FarmersB...</td>\n",
       "      <td>FarmersBranch</td>\n",
       "      <td>Location</td>\n",
       "      <td>\\n</td>\n",
       "      <td>1</td>\n",
       "      <td>RT @DFW_ALERTS: By @TotalTrafficDFW: #FarmersB...</td>\n",
       "    </tr>\n",
       "    <tr>\n",
       "      <th>8661</th>\n",
       "      <td></td>\n",
       "      <td>374226917823496000</td>\n",
       "      <td>RT @washingtonpost: Editorial: Obama is right ...</td>\n",
       "      <td>Congress</td>\n",
       "      <td>Organization</td>\n",
       "      <td>\\n</td>\n",
       "      <td>1</td>\n",
       "      <td>RT @washingtonpost: Editorial: Obama is right ...</td>\n",
       "    </tr>\n",
       "    <tr>\n",
       "      <th>8662</th>\n",
       "      <td></td>\n",
       "      <td>538254248929415000</td>\n",
       "      <td>“@SteveIreland2: @itsjillgardner @MarqVas - Ja...</td>\n",
       "      <td>Jack Daniels</td>\n",
       "      <td>Product</td>\n",
       "      <td>\\n</td>\n",
       "      <td>1</td>\n",
       "      <td>“@SteveIreland2: @itsjillgardner @MarqVas - Ja...</td>\n",
       "    </tr>\n",
       "    <tr>\n",
       "      <th>8663</th>\n",
       "      <td></td>\n",
       "      <td>536540212592410000</td>\n",
       "      <td>Really missed @ZoeTheBall Sat on @bbcstrictly ...</td>\n",
       "      <td>StrictlyComeDancing</td>\n",
       "      <td>Product</td>\n",
       "      <td>\\n</td>\n",
       "      <td>1</td>\n",
       "      <td>Really missed @ZoeTheBall Sat on @bbcstrictly ...</td>\n",
       "    </tr>\n",
       "    <tr>\n",
       "      <th>8664</th>\n",
       "      <td></td>\n",
       "      <td>375016084472336000</td>\n",
       "      <td>David Miliband now head of International Rescu...</td>\n",
       "      <td>Thunderbirds are Go</td>\n",
       "      <td>Product</td>\n",
       "      <td></td>\n",
       "      <td>1</td>\n",
       "      <td>David Miliband now head of International Rescu...</td>\n",
       "    </tr>\n",
       "  </tbody>\n",
       "</table>\n",
       "<p>8665 rows × 8 columns</p>\n",
       "</div>"
      ],
      "text/plain": [
       "     None1                  ID  \\\n",
       "0           100000025580548097   \n",
       "1           100000025580548097   \n",
       "2           100000025580548097   \n",
       "3           100008638684475392   \n",
       "4           100010138022330368   \n",
       "5           100149095301259264   \n",
       "6           100156955431149568   \n",
       "7           100156955431149568   \n",
       "8           100156955431149568   \n",
       "9           100156955431149568   \n",
       "10          100156955431149568   \n",
       "11          100227045275082752   \n",
       "12          100227045275082752   \n",
       "13          100227045275082752   \n",
       "14          100227045275082752   \n",
       "15          100227045275082752   \n",
       "16          100259039354687488   \n",
       "17          100259039354687488   \n",
       "18          100266632282251265   \n",
       "19          100266632282251265   \n",
       "20          100278686724521984   \n",
       "21          100278686724521984   \n",
       "22          100281661262012416   \n",
       "23          100282579063803904   \n",
       "24          100312203428757504   \n",
       "25          100312203428757504   \n",
       "26          100312203428757504   \n",
       "27          100325515235303424   \n",
       "28          100325515235303424   \n",
       "29          100338505523281920   \n",
       "...    ...                 ...   \n",
       "8635        536649456796860000   \n",
       "8636        536649456796860000   \n",
       "8637        537945399483719000   \n",
       "8638        537585030126907000   \n",
       "8639        539171886245376000   \n",
       "8640        539171886245376000   \n",
       "8641        378597298672259000   \n",
       "8642        375137543156543000   \n",
       "8643        536536427757318000   \n",
       "8644        380368096101679000   \n",
       "8645        382830597133328000   \n",
       "8646        538253225389199000   \n",
       "8647        381856394523066000   \n",
       "8648        377242534298550000   \n",
       "8649        538084379046969000   \n",
       "8650        537259484998275000   \n",
       "8651        537259484998275000   \n",
       "8652        383479221081096000   \n",
       "8653        375995806815252000   \n",
       "8654        538725076208988000   \n",
       "8655        382048300699881000   \n",
       "8656        536640503643918000   \n",
       "8657        536640503643918000   \n",
       "8658        373968942961676000   \n",
       "8659        379701759591321000   \n",
       "8660        378598036882325000   \n",
       "8661        374226917823496000   \n",
       "8662        538254248929415000   \n",
       "8663        536540212592410000   \n",
       "8664        375016084472336000   \n",
       "\n",
       "                                               Sentence  \\\n",
       "0     Is Intel About to Get Hit by a BRIC? - BRIC co...   \n",
       "1     Is Intel About to Get Hit by a BRIC? - BRIC co...   \n",
       "2     Is Intel About to Get Hit by a BRIC? - BRIC co...   \n",
       "3     Please say a prayer for the families of the fa...   \n",
       "4     Summer Heat Stifles Tokyo as Japan Rebuilds Ec...   \n",
       "5     http://ur1.ca/3tceg The US Department of Energ...   \n",
       "6     Live - Scottish Premier League: Celtic travel ...   \n",
       "7     Live - Scottish Premier League: Celtic travel ...   \n",
       "8     Live - Scottish Premier League: Celtic travel ...   \n",
       "9     Live - Scottish Premier League: Celtic travel ...   \n",
       "10    Live - Scottish Premier League: Celtic travel ...   \n",
       "11    FT - Man City 2-3 United: The Champions come f...   \n",
       "12    FT - Man City 2-3 United: The Champions come f...   \n",
       "13    FT - Man City 2-3 United: The Champions come f...   \n",
       "14    FT - Man City 2-3 United: The Champions come f...   \n",
       "15    FT - Man City 2-3 United: The Champions come f...   \n",
       "16    Channel 4 news reporting that gun found at the...   \n",
       "17    Channel 4 news reporting that gun found at the...   \n",
       "18    @deportivamente1 BREAKING: Jose Reyes leaves S...   \n",
       "19    @deportivamente1 BREAKING: Jose Reyes leaves S...   \n",
       "20    Mugshot: Big Boi Of Outkast Arrested For Drug ...   \n",
       "21    Mugshot: Big Boi Of Outkast Arrested For Drug ...   \n",
       "22    It's confirmed! We are filming our last season...   \n",
       "23    used car sales:Swift Growth in Japanese Used C...   \n",
       "24    @Kat_starburst BREAKING IMAGES from Enfield th...   \n",
       "25    @Kat_starburst BREAKING IMAGES from Enfield th...   \n",
       "26    @Kat_starburst BREAKING IMAGES from Enfield th...   \n",
       "27    #Enfield #Edmonton ambulance arrived at scene ...   \n",
       "28    #Enfield #Edmonton ambulance arrived at scene ...   \n",
       "29    Reports of disturbances in the following areas...   \n",
       "...                                                 ...   \n",
       "8635             Ginter and subotic CB on Wednesday rah   \n",
       "8636             Ginter and subotic CB on Wednesday rah   \n",
       "8637  @__RhysMGray @WWE @WWEUniverse to be fair I ju...   \n",
       "8638  I'm at The Slug and Lettuce in Milton Keynes h...   \n",
       "8639  Webbers crash looked bad. Hope both drivers ar...   \n",
       "8640  Webbers crash looked bad. Hope both drivers ar...   \n",
       "8641  By @TotalTrafficDFW: #FarmersBranch accident. ...   \n",
       "8642  RT @RT_com: Putin: Anyone who has evidence of ...   \n",
       "8643  Bolasie has turned Liverpool's defence up side...   \n",
       "8644  RT @wsbtv: #BREAKING: Kidnapped 14-year-old #A...   \n",
       "8645  RT @TotalTrafficNYC: #Mahwah incident cleared ...   \n",
       "8646  INXS - Never Tear Us Apart: http://t.co/z4F2Tj...   \n",
       "8647  RT @verge: Hackers claim to have foiled Apple'...   \n",
       "8648  Verdict due in trial of 4 men accused of fatal...   \n",
       "8649  Michael Buerk's and Tinchy's friendship is the...   \n",
       "8650  Think I've seen it all on twitter now. Arsene ...   \n",
       "8651  Think I've seen it all on twitter now. Arsene ...   \n",
       "8652  Violin Memory’s mid-range priced IPO raises $1...   \n",
       "8653  RT @PewHispanic: 58% of U.S. Hispanics are #Ca...   \n",
       "8654  @alan_hall @CXHairs @MiltonKeynesWCX cheers gu...   \n",
       "8655  RT @ABCemergency: #Bushfire weather warning fo...   \n",
       "8656  Soy un cubito de hielo por las calles de Londr...   \n",
       "8657  Soy un cubito de hielo por las calles de Londr...   \n",
       "8658  RT @cnnbrk: Obama asks Congress for authority ...   \n",
       "8659  DC Mayor Gray on #NavyYardShooting: \"We now ha...   \n",
       "8660  RT @DFW_ALERTS: By @TotalTrafficDFW: #FarmersB...   \n",
       "8661  RT @washingtonpost: Editorial: Obama is right ...   \n",
       "8662  “@SteveIreland2: @itsjillgardner @MarqVas - Ja...   \n",
       "8663  Really missed @ZoeTheBall Sat on @bbcstrictly ...   \n",
       "8664  David Miliband now head of International Rescu...   \n",
       "\n",
       "                       Entity         Label None2 WhetherIsCapital  \\\n",
       "0                        BRIC         Thing    \\n                1   \n",
       "1                       Intel  Organization    \\n                1   \n",
       "2                       Intel  Organization    \\n                1   \n",
       "3                      afghan      Location    \\n                0   \n",
       "4                       Japan      Location    \\n                1   \n",
       "5     US Department of Energy  Organization    \\n                1   \n",
       "6                    Aberdeen      Location    \\n                1   \n",
       "7                      Celtic  Organization    \\n                1   \n",
       "8                  Motherwell  Organization    \\n                1   \n",
       "9                         SPL  Organization    \\n                1   \n",
       "10    Scottish Premier League  Organization    \\n                1   \n",
       "11           Community Shield  Organization    \\n                1   \n",
       "12                       MUFC  Organization    \\n                1   \n",
       "13                   Man City  Organization    \\n                1   \n",
       "14                     United  Organization    \\n                1   \n",
       "15                    Wembley      Location    \\n                1   \n",
       "16             Channel 4 news       Product    \\n                1   \n",
       "17            Duggan shooting         Event    \\n                1   \n",
       "18                     Braves  Organization    \\n                1   \n",
       "19                 Jose Reyes        Person    \\n                1   \n",
       "20                    Big Boi        Person    \\n                1   \n",
       "21                    Outkast  Organization    \\n                1   \n",
       "22       Desperate Housewives       Product    \\n                1   \n",
       "23                      Japan      Location    \\n                1   \n",
       "24                    Enfield      Location    \\n                1   \n",
       "25                     police  Organization    \\n                0   \n",
       "26              Kat_starburst        Person    \\n                1   \n",
       "27                   Edmonton      Location    \\n                1   \n",
       "28                    Enfield      Location    \\n                1   \n",
       "29                 Earlsfield      Location    \\n                1   \n",
       "...                       ...           ...   ...              ...   \n",
       "8635                   Ginter        Person    \\n                1   \n",
       "8636                  subotic        Person    \\n                0   \n",
       "8637                Bo Dallas        Person    \\n                1   \n",
       "8638         Slug and Lettuce      Location    \\n                1   \n",
       "8639                  Webbers        Person    \\n                1   \n",
       "8640               AussieGrit        Person    \\n                1   \n",
       "8641            FarmersBranch      Location    \\n                1   \n",
       "8642                    Assad        Person    \\n                1   \n",
       "8643                  Bolasie        Person    \\n                1   \n",
       "8644    Channel 2 Action News  Organization    \\n                1   \n",
       "8645            FranklinLakes      Location    \\n                1   \n",
       "8646      Never Tear Us Apart       Product    \\n                1   \n",
       "8647                 Touch ID       Product    \\n                1   \n",
       "8648                    Delhi      Location    \\n                1   \n",
       "8649                   Tinchy        Person    \\n                1   \n",
       "8650                   Arsene        Person    \\n                1   \n",
       "8651                  arsenal  Organization    \\n                0   \n",
       "8652            Violin Memory  Organization    \\n                1   \n",
       "8653                     U.S.      Location    \\n                1   \n",
       "8654                  Belgium      Location    \\n                1   \n",
       "8655                      QLD      Location    \\n                1   \n",
       "8656                  Londres      Location    \\n                1   \n",
       "8657                  londres      Location    \\n                0   \n",
       "8658                 Congress  Organization    \\n                1   \n",
       "8659                       DC      Location    \\n                1   \n",
       "8660            FarmersBranch      Location    \\n                1   \n",
       "8661                 Congress  Organization    \\n                1   \n",
       "8662             Jack Daniels       Product    \\n                1   \n",
       "8663      StrictlyComeDancing       Product    \\n                1   \n",
       "8664      Thunderbirds are Go       Product                      1   \n",
       "\n",
       "                                            NewSentence  \n",
       "0     Is Intel About to Get Hit by a BRIC? - BRIC co...  \n",
       "1     Is Intel About to Get Hit by a BRIC? - BRIC co...  \n",
       "2     Is Intel About to Get Hit by a BRIC? - BRIC co...  \n",
       "3     Please say a prayer for the families of the fa...  \n",
       "4     Summer Heat Stifles Tokyo as Japan Rebuilds Ec...  \n",
       "5     The US Department of Energy says aggressive dr...  \n",
       "6     Live - Scottish Premier League: Celtic travel ...  \n",
       "7     Live - Scottish Premier League: Celtic travel ...  \n",
       "8     Live - Scottish Premier League: Celtic travel ...  \n",
       "9     Live - Scottish Premier League: Celtic travel ...  \n",
       "10    Live - Scottish Premier League: Celtic travel ...  \n",
       "11    FT - Man City 2-3 United: The Champions come f...  \n",
       "12    FT - Man City 2-3 United: The Champions come f...  \n",
       "13    FT - Man City 2-3 United: The Champions come f...  \n",
       "14    FT - Man City 2-3 United: The Champions come f...  \n",
       "15    FT - Man City 2-3 United: The Champions come f...  \n",
       "16    Channel 4 news reporting that gun found at the...  \n",
       "17    Channel 4 news reporting that gun found at the...  \n",
       "18    @deportivamente1 BREAKING: Jose Reyes leaves S...  \n",
       "19    @deportivamente1 BREAKING: Jose Reyes leaves S...  \n",
       "20    Mugshot: Big Boi Of Outkast Arrested For Drug ...  \n",
       "21    Mugshot: Big Boi Of Outkast Arrested For Drug ...  \n",
       "22    It's confirmed! We are filming our last season...  \n",
       "23    used car sales:Swift Growth in Japanese Used C...  \n",
       "24    @Kat_starburst BREAKING IMAGES from Enfield th...  \n",
       "25    @Kat_starburst BREAKING IMAGES from Enfield th...  \n",
       "26    @Kat_starburst BREAKING IMAGES from Enfield th...  \n",
       "27    #Enfield #Edmonton ambulance arrived at scene ...  \n",
       "28    #Enfield #Edmonton ambulance arrived at scene ...  \n",
       "29    Reports of disturbances in the following areas...  \n",
       "...                                                 ...  \n",
       "8635             Ginter and subotic CB on Wednesday rah  \n",
       "8636             Ginter and subotic CB on Wednesday rah  \n",
       "8637  @__RhysMGray @WWE @WWEUniverse to be fair I ju...  \n",
       "8638       I'm at The Slug and Lettuce in Milton Keynes  \n",
       "8639  Webbers crash looked bad. Hope both drivers ar...  \n",
       "8640  Webbers crash looked bad. Hope both drivers ar...  \n",
       "8641  By @TotalTrafficDFW: #FarmersBranch accident. ...  \n",
       "8642  RT @RT_com: Putin: Anyone who has evidence of ...  \n",
       "8643  Bolasie has turned Liverpool's defence up side...  \n",
       "8644  RT @wsbtv: #BREAKING: Kidnapped 14-year-old #A...  \n",
       "8645  RT @TotalTrafficNYC: #Mahwah incident cleared ...  \n",
       "8646                        INXS - Never Tear Us Apart:  \n",
       "8647  RT @verge: Hackers claim to have foiled Apple'...  \n",
       "8648  Verdict due in trial of 4 men accused of fatal...  \n",
       "8649  Michael Buerk's and Tinchy's friendship is the...  \n",
       "8650  Think I've seen it all on twitter now. Arsene ...  \n",
       "8651  Think I've seen it all on twitter now. Arsene ...  \n",
       "8652  Violin Memory’s mid-range priced IPO raises $1...  \n",
       "8653  RT @PewHispanic: 58% of U.S. Hispanics are #Ca...  \n",
       "8654  @alan_hall @CXHairs @MiltonKeynesWCX cheers gu...  \n",
       "8655  RT @ABCemergency: #Bushfire weather warning fo...  \n",
       "8656  Soy un cubito de hielo por las calles de Londr...  \n",
       "8657  Soy un cubito de hielo por las calles de Londr...  \n",
       "8658  RT @cnnbrk: Obama asks Congress for authority ...  \n",
       "8659  DC Mayor Gray on #NavyYardShooting: \"We now ha...  \n",
       "8660  RT @DFW_ALERTS: By @TotalTrafficDFW: #FarmersB...  \n",
       "8661  RT @washingtonpost: Editorial: Obama is right ...  \n",
       "8662  “@SteveIreland2: @itsjillgardner @MarqVas - Ja...  \n",
       "8663  Really missed @ZoeTheBall Sat on @bbcstrictly ...  \n",
       "8664  David Miliband now head of International Rescu...  \n",
       "\n",
       "[8665 rows x 8 columns]"
      ]
     },
     "execution_count": 43,
     "metadata": {},
     "output_type": "execute_result"
    }
   ],
   "source": [
    "train_data"
   ]
  },
  {
   "cell_type": "markdown",
   "metadata": {},
   "source": [
    "#### Add a feature : length of NewSentence"
   ]
  },
  {
   "cell_type": "code",
   "execution_count": 44,
   "metadata": {
    "collapsed": true
   },
   "outputs": [],
   "source": [
    "def calculateLength(Sentence):\n",
    "    return len(Sentence)"
   ]
  },
  {
   "cell_type": "code",
   "execution_count": 46,
   "metadata": {
    "collapsed": false
   },
   "outputs": [],
   "source": [
    "train_data['SentenceLength'] = train_data['NewSentence'].map(calculateLength)"
   ]
  },
  {
   "cell_type": "markdown",
   "metadata": {},
   "source": [
    "#### Delete useless columns: only keep: NewSentence,Entity,WhetherIsCapital and Length"
   ]
  },
  {
   "cell_type": "code",
   "execution_count": 48,
   "metadata": {
    "collapsed": false
   },
   "outputs": [],
   "source": [
    "train_data.drop(train_data.columns[0:2],axis=1,inplace = True)"
   ]
  },
  {
   "cell_type": "code",
   "execution_count": 49,
   "metadata": {
    "collapsed": true
   },
   "outputs": [],
   "source": [
    "train_data.drop(train_data[['Sentence','None2','Label']],axis = 1,inplace = True)"
   ]
  },
  {
   "cell_type": "code",
   "execution_count": 50,
   "metadata": {
    "collapsed": false
   },
   "outputs": [
    {
     "name": "stdout",
     "output_type": "stream",
     "text": [
      "<class 'pandas.core.frame.DataFrame'>\n",
      "RangeIndex: 8665 entries, 0 to 8664\n",
      "Data columns (total 4 columns):\n",
      "Entity              8665 non-null object\n",
      "WhetherIsCapital    8665 non-null object\n",
      "NewSentence         8665 non-null object\n",
      "SentenceLength      8665 non-null int64\n",
      "dtypes: int64(1), object(3)\n",
      "memory usage: 270.9+ KB\n"
     ]
    }
   ],
   "source": [
    "train_data.info()"
   ]
  },
  {
   "cell_type": "markdown",
   "metadata": {},
   "source": [
    "#### Extract NewSentence and Entity as test_Sentence.txt and test_Entity.txt"
   ]
  },
  {
   "cell_type": "code",
   "execution_count": 51,
   "metadata": {
    "collapsed": true
   },
   "outputs": [],
   "source": [
    "train_sentence = train_data.copy()"
   ]
  },
  {
   "cell_type": "code",
   "execution_count": 53,
   "metadata": {
    "collapsed": false
   },
   "outputs": [],
   "source": [
    "#test_sentence.head(20)\n",
    "train_sentence.drop(train_sentence[['Entity','WhetherIsCapital']],axis=1,inplace=True)"
   ]
  },
  {
   "cell_type": "code",
   "execution_count": 55,
   "metadata": {
    "collapsed": false
   },
   "outputs": [],
   "source": [
    "train_sentence.drop(train_sentence[['SentenceLength']],axis=1,inplace=True)"
   ]
  },
  {
   "cell_type": "code",
   "execution_count": 67,
   "metadata": {
    "collapsed": false
   },
   "outputs": [],
   "source": [
    "train_sentence.to_csv('train_sentence.txt',index = False)"
   ]
  },
  {
   "cell_type": "code",
   "execution_count": 69,
   "metadata": {
    "collapsed": false
   },
   "outputs": [],
   "source": [
    "train_data.drop(train_data[['NewSentence']],axis=1,inplace=True)"
   ]
  },
  {
   "cell_type": "code",
   "execution_count": 70,
   "metadata": {
    "collapsed": true
   },
   "outputs": [],
   "source": [
    "train_entity = train_data.copy()"
   ]
  },
  {
   "cell_type": "code",
   "execution_count": 71,
   "metadata": {
    "collapsed": true
   },
   "outputs": [],
   "source": [
    "train_entity.drop(train_entity[['WhetherIsCapital','SentenceLength']],axis=1,inplace=True)"
   ]
  },
  {
   "cell_type": "code",
   "execution_count": 73,
   "metadata": {
    "collapsed": false
   },
   "outputs": [],
   "source": [
    "train_entity.to_csv('train_entity.txt',index = False)"
   ]
  },
  {
   "cell_type": "code",
   "execution_count": 74,
   "metadata": {
    "collapsed": true
   },
   "outputs": [],
   "source": [
    "train_data.drop(train_data[['Entity']],axis=1,inplace=True)"
   ]
  },
  {
   "cell_type": "code",
   "execution_count": 76,
   "metadata": {
    "collapsed": false
   },
   "outputs": [],
   "source": [
    "train_data.to_csv('train_Capital_and_Length.txt',index = False,sep=' ')"
   ]
  },
  {
   "cell_type": "markdown",
   "metadata": {},
   "source": [
    "### Get start end position of entity & Label"
   ]
  },
  {
   "cell_type": "code",
   "execution_count": 78,
   "metadata": {
    "collapsed": false
   },
   "outputs": [],
   "source": [
    "train_data_neel =  pd.read_table('NEEL2016-training_neel.gs',header = None,sep='\\t')"
   ]
  },
  {
   "cell_type": "code",
   "execution_count": 84,
   "metadata": {
    "collapsed": true
   },
   "outputs": [],
   "source": [
    "train_data_neel.drop(train_data_neel.columns[2],axis=1,inplace=True)"
   ]
  },
  {
   "cell_type": "code",
   "execution_count": 86,
   "metadata": {
    "collapsed": false
   },
   "outputs": [],
   "source": [
    "train_data_neel.to_csv('train_start_and_end_position_of_label.txt',index= False,sep=' ')"
   ]
  },
  {
   "cell_type": "code",
   "execution_count": 88,
   "metadata": {
    "collapsed": false
   },
   "outputs": [],
   "source": [
    "train_data_nee2l =  pd.read_table('NEEL2016-training_neel.gs',header = None,sep='\\t')"
   ]
  },
  {
   "cell_type": "code",
   "execution_count": 94,
   "metadata": {
    "collapsed": true
   },
   "outputs": [],
   "source": [
    "train_data_nee2l.drop(train_data_nee2l.columns[0],axis=1,inplace=True)"
   ]
  },
  {
   "cell_type": "code",
   "execution_count": 96,
   "metadata": {
    "collapsed": false
   },
   "outputs": [],
   "source": [
    "train_data_nee2l.to_csv('trian_Label.txt',index = False)"
   ]
  },
  {
   "cell_type": "code",
   "execution_count": null,
   "metadata": {
    "collapsed": true
   },
   "outputs": [],
   "source": []
  }
 ],
 "metadata": {
  "kernelspec": {
   "display_name": "Python 3",
   "language": "python",
   "name": "python3"
  },
  "language_info": {
   "codemirror_mode": {
    "name": "ipython",
    "version": 3
   },
   "file_extension": ".py",
   "mimetype": "text/x-python",
   "name": "python",
   "nbconvert_exporter": "python",
   "pygments_lexer": "ipython3",
   "version": "3.6.2"
  }
 },
 "nbformat": 4,
 "nbformat_minor": 2
}
